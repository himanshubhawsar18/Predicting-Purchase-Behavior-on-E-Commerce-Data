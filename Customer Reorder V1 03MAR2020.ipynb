{
 "cells": [
  {
   "cell_type": "markdown",
   "metadata": {},
   "source": [
    "## What will the customer buy again? \n",
    "## Predicting Purchase Behavior on E-Commerce Data\n",
    "\n",
    "Problem Statement\n",
    "You have to use the data provided and your understanding of the problem to answer the following questions (for the first 3, you can use either visualizations or tables with stats):\n",
    "\n",
    "1)\tWhen do customers order the most?\n",
    "    -\tDay of the week\n",
    "    -\tTime of the day\n",
    "    -\tCombination of the above two.\n",
    "\n",
    "2)\tWhat are the top 5 products?\n",
    "    -\tThat are ordered.\n",
    "    -\tThat are reordered.\n",
    "\n",
    "3)\tWhat is the reorder ratio for each department?\n",
    "\n",
    "4)\tBuild a model to predict which previously purchased products will be in a user’s next order.\n"
   ]
  },
  {
   "cell_type": "code",
   "execution_count": 1,
   "metadata": {},
   "outputs": [
    {
     "name": "stderr",
     "output_type": "stream",
     "text": [
      "Using TensorFlow backend.\n"
     ]
    }
   ],
   "source": [
    "import pandas as pd\n",
    "import numpy as np\n",
    "import math\n",
    "import pylab\n",
    "import statsmodels.api as sm\n",
    "from sklearn.model_selection import train_test_split     # cross_validation\n",
    "import scipy.stats as stats\n",
    "\n",
    "import seaborn as sns\n",
    "\n",
    "# feature selection\n",
    "from sklearn.feature_selection import f_regression as fs\n",
    "\n",
    "# cross validation\n",
    "from sklearn.model_selection import KFold\n",
    "\n",
    "import matplotlib.pyplot as plt\n",
    "#%matplotlib notebook\n",
    "\n",
    "from sklearn.preprocessing import StandardScaler\n",
    "\n",
    "#model building\n",
    "from sklearn.linear_model import LogisticRegression\n",
    "from sklearn import tree\n",
    "from sklearn.ensemble import RandomForestClassifier, AdaBoostClassifier, GradientBoostingClassifier\n",
    "from sklearn import preprocessing\n",
    "\n",
    "# keras libraries\n",
    "import tensorflow as tf\n",
    "import keras as k\n",
    "\n",
    "# initialise the neural network\n",
    "from keras.models import Sequential\n",
    "\n",
    "# to build the layers in the ANN\n",
    "from keras.layers import Dense\n",
    "\n",
    "\n",
    "#model checking\n",
    "from sklearn.metrics import accuracy_score\n",
    "from sklearn.metrics import f1_score\n",
    "from sklearn.metrics import precision_score\n",
    "from sklearn.metrics import recall_score\n",
    "from sklearn.metrics import roc_auc_score\n",
    "from sklearn.metrics import confusion_matrix\n",
    "from sklearn.metrics import roc_curve\n",
    "#from pandas_ml import ConfusionMatrix\n",
    "\n",
    "# Feature Selection\n",
    "from sklearn.feature_selection import SelectKBest\n",
    "from sklearn.feature_selection import chi2"
   ]
  },
  {
   "cell_type": "code",
   "execution_count": 2,
   "metadata": {},
   "outputs": [],
   "source": [
    "# Reading the input files and storing in dataframes using pandas\n",
    "\n",
    "filename = \"D:\\\\MLP PROJECT\\\\Project and Data Sets\\\\Data\\\\aisles.csv\"\n",
    "aisles_df =pd.read_csv(filename)\n",
    "\n",
    "filename = \"D:\\\\MLP PROJECT\\\\Project and Data Sets\\\\Data\\\\departments.csv\"\n",
    "departments_df =pd.read_csv(filename)\n",
    "\n",
    "filename = \"D:\\\\MLP PROJECT\\\\Project and Data Sets\\\\Data\\\\order_products_prior.csv\"\n",
    "order_products_prior_df =pd.read_csv(filename)\n",
    "\n",
    "filename = \"D:\\\\MLP PROJECT\\\\Project and Data Sets\\\\Data\\\\order_products_test.csv\"\n",
    "order_products_test_df =pd.read_csv(filename)\n",
    "\n",
    "filename = \"D:\\\\MLP PROJECT\\\\Project and Data Sets\\\\Data\\\\order_products_train.csv\"\n",
    "order_products_train_df =pd.read_csv(filename)\n",
    "\n",
    "filename = \"D:\\\\MLP PROJECT\\\\Project and Data Sets\\\\Data\\\\orders.csv\"\n",
    "orders_df =pd.read_csv(filename)\n",
    "\n",
    "filename = \"D:\\\\MLP PROJECT\\\\Project and Data Sets\\\\Data\\\\products.csv\"\n",
    "products_df =pd.read_csv(filename)"
   ]
  },
  {
   "cell_type": "markdown",
   "metadata": {},
   "source": [
    "# 1. Data Overview:"
   ]
  },
  {
   "cell_type": "code",
   "execution_count": 3,
   "metadata": {},
   "outputs": [
    {
     "data": {
      "text/plain": [
       "(134, 2)"
      ]
     },
     "execution_count": 3,
     "metadata": {},
     "output_type": "execute_result"
    }
   ],
   "source": [
    "#checking the shape of the dataframe\n",
    "aisles_df.shape"
   ]
  },
  {
   "cell_type": "code",
   "execution_count": 4,
   "metadata": {},
   "outputs": [
    {
     "name": "stdout",
     "output_type": "stream",
     "text": [
      "<class 'pandas.core.frame.DataFrame'>\n",
      "RangeIndex: 134 entries, 0 to 133\n",
      "Data columns (total 2 columns):\n",
      " #   Column    Non-Null Count  Dtype \n",
      "---  ------    --------------  ----- \n",
      " 0   aisle_id  134 non-null    int64 \n",
      " 1   aisle     134 non-null    object\n",
      "dtypes: int64(1), object(1)\n",
      "memory usage: 2.2+ KB\n"
     ]
    }
   ],
   "source": [
    "#checking for information of data frame\n",
    "aisles_df.info()"
   ]
  },
  {
   "cell_type": "code",
   "execution_count": 5,
   "metadata": {},
   "outputs": [
    {
     "data": {
      "text/html": [
       "<div>\n",
       "<style scoped>\n",
       "    .dataframe tbody tr th:only-of-type {\n",
       "        vertical-align: middle;\n",
       "    }\n",
       "\n",
       "    .dataframe tbody tr th {\n",
       "        vertical-align: top;\n",
       "    }\n",
       "\n",
       "    .dataframe thead th {\n",
       "        text-align: right;\n",
       "    }\n",
       "</style>\n",
       "<table border=\"1\" class=\"dataframe\">\n",
       "  <thead>\n",
       "    <tr style=\"text-align: right;\">\n",
       "      <th></th>\n",
       "      <th>aisle_id</th>\n",
       "      <th>aisle</th>\n",
       "    </tr>\n",
       "  </thead>\n",
       "  <tbody>\n",
       "    <tr>\n",
       "      <th>0</th>\n",
       "      <td>1</td>\n",
       "      <td>prepared soups salads</td>\n",
       "    </tr>\n",
       "    <tr>\n",
       "      <th>1</th>\n",
       "      <td>2</td>\n",
       "      <td>specialty cheeses</td>\n",
       "    </tr>\n",
       "    <tr>\n",
       "      <th>2</th>\n",
       "      <td>3</td>\n",
       "      <td>energy granola bars</td>\n",
       "    </tr>\n",
       "    <tr>\n",
       "      <th>3</th>\n",
       "      <td>4</td>\n",
       "      <td>instant foods</td>\n",
       "    </tr>\n",
       "    <tr>\n",
       "      <th>4</th>\n",
       "      <td>5</td>\n",
       "      <td>marinades meat preparation</td>\n",
       "    </tr>\n",
       "  </tbody>\n",
       "</table>\n",
       "</div>"
      ],
      "text/plain": [
       "   aisle_id                       aisle\n",
       "0         1       prepared soups salads\n",
       "1         2           specialty cheeses\n",
       "2         3         energy granola bars\n",
       "3         4               instant foods\n",
       "4         5  marinades meat preparation"
      ]
     },
     "execution_count": 5,
     "metadata": {},
     "output_type": "execute_result"
    }
   ],
   "source": [
    "# checking first 5 observations\n",
    "aisles_df.head()"
   ]
  },
  {
   "cell_type": "code",
   "execution_count": 6,
   "metadata": {},
   "outputs": [
    {
     "data": {
      "text/plain": [
       "aisle_id    0\n",
       "aisle       0\n",
       "dtype: int64"
      ]
     },
     "execution_count": 6,
     "metadata": {},
     "output_type": "execute_result"
    }
   ],
   "source": [
    "# checking for null values\n",
    "aisles_df.isnull().sum()"
   ]
  },
  {
   "cell_type": "code",
   "execution_count": 7,
   "metadata": {},
   "outputs": [
    {
     "data": {
      "text/plain": [
       "(21, 2)"
      ]
     },
     "execution_count": 7,
     "metadata": {},
     "output_type": "execute_result"
    }
   ],
   "source": [
    "# checking for shape of the dataframe i.e. number of row and columns\n",
    "departments_df.shape"
   ]
  },
  {
   "cell_type": "code",
   "execution_count": 8,
   "metadata": {},
   "outputs": [
    {
     "name": "stdout",
     "output_type": "stream",
     "text": [
      "<class 'pandas.core.frame.DataFrame'>\n",
      "RangeIndex: 21 entries, 0 to 20\n",
      "Data columns (total 2 columns):\n",
      " #   Column         Non-Null Count  Dtype \n",
      "---  ------         --------------  ----- \n",
      " 0   department_id  21 non-null     int64 \n",
      " 1   department     21 non-null     object\n",
      "dtypes: int64(1), object(1)\n",
      "memory usage: 464.0+ bytes\n"
     ]
    }
   ],
   "source": [
    "# chekcing information of dataframe, i.e. index, column datatype etc.\n",
    "departments_df.info()"
   ]
  },
  {
   "cell_type": "code",
   "execution_count": 9,
   "metadata": {},
   "outputs": [
    {
     "data": {
      "text/html": [
       "<div>\n",
       "<style scoped>\n",
       "    .dataframe tbody tr th:only-of-type {\n",
       "        vertical-align: middle;\n",
       "    }\n",
       "\n",
       "    .dataframe tbody tr th {\n",
       "        vertical-align: top;\n",
       "    }\n",
       "\n",
       "    .dataframe thead th {\n",
       "        text-align: right;\n",
       "    }\n",
       "</style>\n",
       "<table border=\"1\" class=\"dataframe\">\n",
       "  <thead>\n",
       "    <tr style=\"text-align: right;\">\n",
       "      <th></th>\n",
       "      <th>department_id</th>\n",
       "      <th>department</th>\n",
       "    </tr>\n",
       "  </thead>\n",
       "  <tbody>\n",
       "    <tr>\n",
       "      <th>0</th>\n",
       "      <td>1</td>\n",
       "      <td>frozen</td>\n",
       "    </tr>\n",
       "    <tr>\n",
       "      <th>1</th>\n",
       "      <td>2</td>\n",
       "      <td>other</td>\n",
       "    </tr>\n",
       "    <tr>\n",
       "      <th>2</th>\n",
       "      <td>3</td>\n",
       "      <td>bakery</td>\n",
       "    </tr>\n",
       "    <tr>\n",
       "      <th>3</th>\n",
       "      <td>4</td>\n",
       "      <td>produce</td>\n",
       "    </tr>\n",
       "    <tr>\n",
       "      <th>4</th>\n",
       "      <td>5</td>\n",
       "      <td>alcohol</td>\n",
       "    </tr>\n",
       "  </tbody>\n",
       "</table>\n",
       "</div>"
      ],
      "text/plain": [
       "   department_id department\n",
       "0              1     frozen\n",
       "1              2      other\n",
       "2              3     bakery\n",
       "3              4    produce\n",
       "4              5    alcohol"
      ]
     },
     "execution_count": 9,
     "metadata": {},
     "output_type": "execute_result"
    }
   ],
   "source": [
    "# checking for first 5 rows\n",
    "departments_df.head()"
   ]
  },
  {
   "cell_type": "code",
   "execution_count": 10,
   "metadata": {},
   "outputs": [
    {
     "data": {
      "text/plain": [
       "department_id    0\n",
       "department       0\n",
       "dtype: int64"
      ]
     },
     "execution_count": 10,
     "metadata": {},
     "output_type": "execute_result"
    }
   ],
   "source": [
    "# checking for null values\n",
    "departments_df.isnull().sum()"
   ]
  },
  {
   "cell_type": "code",
   "execution_count": 11,
   "metadata": {},
   "outputs": [
    {
     "data": {
      "text/plain": [
       "(49688, 4)"
      ]
     },
     "execution_count": 11,
     "metadata": {},
     "output_type": "execute_result"
    }
   ],
   "source": [
    "# checking for shape of the dataframe i.e. number of row and columns\n",
    "products_df.shape"
   ]
  },
  {
   "cell_type": "code",
   "execution_count": 12,
   "metadata": {},
   "outputs": [
    {
     "name": "stdout",
     "output_type": "stream",
     "text": [
      "<class 'pandas.core.frame.DataFrame'>\n",
      "RangeIndex: 49688 entries, 0 to 49687\n",
      "Data columns (total 4 columns):\n",
      " #   Column         Non-Null Count  Dtype \n",
      "---  ------         --------------  ----- \n",
      " 0   product_id     49688 non-null  int64 \n",
      " 1   product_name   49688 non-null  object\n",
      " 2   aisle_id       49688 non-null  int64 \n",
      " 3   department_id  49688 non-null  int64 \n",
      "dtypes: int64(3), object(1)\n",
      "memory usage: 1.5+ MB\n"
     ]
    }
   ],
   "source": [
    "# chekcing information of dataframe, i.e. index, column datatype etc.\n",
    "products_df.info()"
   ]
  },
  {
   "cell_type": "code",
   "execution_count": 13,
   "metadata": {},
   "outputs": [
    {
     "data": {
      "text/html": [
       "<div>\n",
       "<style scoped>\n",
       "    .dataframe tbody tr th:only-of-type {\n",
       "        vertical-align: middle;\n",
       "    }\n",
       "\n",
       "    .dataframe tbody tr th {\n",
       "        vertical-align: top;\n",
       "    }\n",
       "\n",
       "    .dataframe thead th {\n",
       "        text-align: right;\n",
       "    }\n",
       "</style>\n",
       "<table border=\"1\" class=\"dataframe\">\n",
       "  <thead>\n",
       "    <tr style=\"text-align: right;\">\n",
       "      <th></th>\n",
       "      <th>product_id</th>\n",
       "      <th>product_name</th>\n",
       "      <th>aisle_id</th>\n",
       "      <th>department_id</th>\n",
       "    </tr>\n",
       "  </thead>\n",
       "  <tbody>\n",
       "    <tr>\n",
       "      <th>0</th>\n",
       "      <td>1</td>\n",
       "      <td>Chocolate Sandwich Cookies</td>\n",
       "      <td>61</td>\n",
       "      <td>19</td>\n",
       "    </tr>\n",
       "    <tr>\n",
       "      <th>1</th>\n",
       "      <td>2</td>\n",
       "      <td>All-Seasons Salt</td>\n",
       "      <td>104</td>\n",
       "      <td>13</td>\n",
       "    </tr>\n",
       "    <tr>\n",
       "      <th>2</th>\n",
       "      <td>3</td>\n",
       "      <td>Robust Golden Unsweetened Oolong Tea</td>\n",
       "      <td>94</td>\n",
       "      <td>7</td>\n",
       "    </tr>\n",
       "    <tr>\n",
       "      <th>3</th>\n",
       "      <td>4</td>\n",
       "      <td>Smart Ones Classic Favorites Mini Rigatoni Wit...</td>\n",
       "      <td>38</td>\n",
       "      <td>1</td>\n",
       "    </tr>\n",
       "    <tr>\n",
       "      <th>4</th>\n",
       "      <td>5</td>\n",
       "      <td>Green Chile Anytime Sauce</td>\n",
       "      <td>5</td>\n",
       "      <td>13</td>\n",
       "    </tr>\n",
       "  </tbody>\n",
       "</table>\n",
       "</div>"
      ],
      "text/plain": [
       "   product_id                                       product_name  aisle_id  \\\n",
       "0           1                         Chocolate Sandwich Cookies        61   \n",
       "1           2                                   All-Seasons Salt       104   \n",
       "2           3               Robust Golden Unsweetened Oolong Tea        94   \n",
       "3           4  Smart Ones Classic Favorites Mini Rigatoni Wit...        38   \n",
       "4           5                          Green Chile Anytime Sauce         5   \n",
       "\n",
       "   department_id  \n",
       "0             19  \n",
       "1             13  \n",
       "2              7  \n",
       "3              1  \n",
       "4             13  "
      ]
     },
     "execution_count": 13,
     "metadata": {},
     "output_type": "execute_result"
    }
   ],
   "source": [
    "# checking for first 5 rows\n",
    "products_df.head()"
   ]
  },
  {
   "cell_type": "code",
   "execution_count": 14,
   "metadata": {},
   "outputs": [
    {
     "data": {
      "text/plain": [
       "product_id       0\n",
       "product_name     0\n",
       "aisle_id         0\n",
       "department_id    0\n",
       "dtype: int64"
      ]
     },
     "execution_count": 14,
     "metadata": {},
     "output_type": "execute_result"
    }
   ],
   "source": [
    "# checking for null values\n",
    "products_df.isnull().sum()"
   ]
  },
  {
   "cell_type": "code",
   "execution_count": 15,
   "metadata": {},
   "outputs": [
    {
     "data": {
      "text/plain": [
       "49688"
      ]
     },
     "execution_count": 15,
     "metadata": {},
     "output_type": "execute_result"
    }
   ],
   "source": [
    "len(products_df['product_id'].unique())"
   ]
  },
  {
   "cell_type": "code",
   "execution_count": 16,
   "metadata": {},
   "outputs": [
    {
     "data": {
      "text/plain": [
       "(2186548, 8)"
      ]
     },
     "execution_count": 16,
     "metadata": {},
     "output_type": "execute_result"
    }
   ],
   "source": [
    "# checking for shape of the dataframe i.e. number of row and columns\n",
    "orders_df.shape"
   ]
  },
  {
   "cell_type": "code",
   "execution_count": 17,
   "metadata": {},
   "outputs": [
    {
     "name": "stdout",
     "output_type": "stream",
     "text": [
      "<class 'pandas.core.frame.DataFrame'>\n",
      "RangeIndex: 2186548 entries, 0 to 2186547\n",
      "Data columns (total 8 columns):\n",
      " #   Column                  Dtype  \n",
      "---  ------                  -----  \n",
      " 0   Unnamed: 0              int64  \n",
      " 1   days_since_prior_order  float64\n",
      " 2   eval_set                object \n",
      " 3   order_dow               int64  \n",
      " 4   order_hour_of_day       int64  \n",
      " 5   order_id                int64  \n",
      " 6   order_number            int64  \n",
      " 7   user_id                 int64  \n",
      "dtypes: float64(1), int64(6), object(1)\n",
      "memory usage: 133.5+ MB\n"
     ]
    }
   ],
   "source": [
    "# chekcing information of dataframe, i.e. index, column datatype etc.\n",
    "orders_df.info()"
   ]
  },
  {
   "cell_type": "code",
   "execution_count": 18,
   "metadata": {},
   "outputs": [
    {
     "data": {
      "text/html": [
       "<div>\n",
       "<style scoped>\n",
       "    .dataframe tbody tr th:only-of-type {\n",
       "        vertical-align: middle;\n",
       "    }\n",
       "\n",
       "    .dataframe tbody tr th {\n",
       "        vertical-align: top;\n",
       "    }\n",
       "\n",
       "    .dataframe thead th {\n",
       "        text-align: right;\n",
       "    }\n",
       "</style>\n",
       "<table border=\"1\" class=\"dataframe\">\n",
       "  <thead>\n",
       "    <tr style=\"text-align: right;\">\n",
       "      <th></th>\n",
       "      <th>Unnamed: 0</th>\n",
       "      <th>days_since_prior_order</th>\n",
       "      <th>eval_set</th>\n",
       "      <th>order_dow</th>\n",
       "      <th>order_hour_of_day</th>\n",
       "      <th>order_id</th>\n",
       "      <th>order_number</th>\n",
       "      <th>user_id</th>\n",
       "    </tr>\n",
       "  </thead>\n",
       "  <tbody>\n",
       "    <tr>\n",
       "      <th>0</th>\n",
       "      <td>0</td>\n",
       "      <td>NaN</td>\n",
       "      <td>prior</td>\n",
       "      <td>2</td>\n",
       "      <td>8</td>\n",
       "      <td>2539329</td>\n",
       "      <td>1</td>\n",
       "      <td>1</td>\n",
       "    </tr>\n",
       "    <tr>\n",
       "      <th>1</th>\n",
       "      <td>1</td>\n",
       "      <td>15.0</td>\n",
       "      <td>prior</td>\n",
       "      <td>3</td>\n",
       "      <td>7</td>\n",
       "      <td>2398795</td>\n",
       "      <td>2</td>\n",
       "      <td>1</td>\n",
       "    </tr>\n",
       "    <tr>\n",
       "      <th>2</th>\n",
       "      <td>2</td>\n",
       "      <td>21.0</td>\n",
       "      <td>prior</td>\n",
       "      <td>3</td>\n",
       "      <td>12</td>\n",
       "      <td>473747</td>\n",
       "      <td>3</td>\n",
       "      <td>1</td>\n",
       "    </tr>\n",
       "    <tr>\n",
       "      <th>3</th>\n",
       "      <td>3</td>\n",
       "      <td>29.0</td>\n",
       "      <td>prior</td>\n",
       "      <td>4</td>\n",
       "      <td>7</td>\n",
       "      <td>2254736</td>\n",
       "      <td>4</td>\n",
       "      <td>1</td>\n",
       "    </tr>\n",
       "    <tr>\n",
       "      <th>4</th>\n",
       "      <td>4</td>\n",
       "      <td>28.0</td>\n",
       "      <td>prior</td>\n",
       "      <td>4</td>\n",
       "      <td>15</td>\n",
       "      <td>431534</td>\n",
       "      <td>5</td>\n",
       "      <td>1</td>\n",
       "    </tr>\n",
       "    <tr>\n",
       "      <th>5</th>\n",
       "      <td>5</td>\n",
       "      <td>19.0</td>\n",
       "      <td>prior</td>\n",
       "      <td>2</td>\n",
       "      <td>7</td>\n",
       "      <td>3367565</td>\n",
       "      <td>6</td>\n",
       "      <td>1</td>\n",
       "    </tr>\n",
       "    <tr>\n",
       "      <th>6</th>\n",
       "      <td>6</td>\n",
       "      <td>20.0</td>\n",
       "      <td>prior</td>\n",
       "      <td>1</td>\n",
       "      <td>9</td>\n",
       "      <td>550135</td>\n",
       "      <td>7</td>\n",
       "      <td>1</td>\n",
       "    </tr>\n",
       "    <tr>\n",
       "      <th>7</th>\n",
       "      <td>7</td>\n",
       "      <td>14.0</td>\n",
       "      <td>prior</td>\n",
       "      <td>1</td>\n",
       "      <td>14</td>\n",
       "      <td>3108588</td>\n",
       "      <td>8</td>\n",
       "      <td>1</td>\n",
       "    </tr>\n",
       "    <tr>\n",
       "      <th>8</th>\n",
       "      <td>8</td>\n",
       "      <td>0.0</td>\n",
       "      <td>prior</td>\n",
       "      <td>1</td>\n",
       "      <td>16</td>\n",
       "      <td>2295261</td>\n",
       "      <td>9</td>\n",
       "      <td>1</td>\n",
       "    </tr>\n",
       "    <tr>\n",
       "      <th>9</th>\n",
       "      <td>9</td>\n",
       "      <td>30.0</td>\n",
       "      <td>prior</td>\n",
       "      <td>4</td>\n",
       "      <td>8</td>\n",
       "      <td>2550362</td>\n",
       "      <td>10</td>\n",
       "      <td>1</td>\n",
       "    </tr>\n",
       "    <tr>\n",
       "      <th>10</th>\n",
       "      <td>10</td>\n",
       "      <td>14.0</td>\n",
       "      <td>train</td>\n",
       "      <td>4</td>\n",
       "      <td>8</td>\n",
       "      <td>1187899</td>\n",
       "      <td>11</td>\n",
       "      <td>1</td>\n",
       "    </tr>\n",
       "  </tbody>\n",
       "</table>\n",
       "</div>"
      ],
      "text/plain": [
       "    Unnamed: 0  days_since_prior_order eval_set  order_dow  order_hour_of_day  \\\n",
       "0            0                     NaN    prior          2                  8   \n",
       "1            1                    15.0    prior          3                  7   \n",
       "2            2                    21.0    prior          3                 12   \n",
       "3            3                    29.0    prior          4                  7   \n",
       "4            4                    28.0    prior          4                 15   \n",
       "5            5                    19.0    prior          2                  7   \n",
       "6            6                    20.0    prior          1                  9   \n",
       "7            7                    14.0    prior          1                 14   \n",
       "8            8                     0.0    prior          1                 16   \n",
       "9            9                    30.0    prior          4                  8   \n",
       "10          10                    14.0    train          4                  8   \n",
       "\n",
       "    order_id  order_number  user_id  \n",
       "0    2539329             1        1  \n",
       "1    2398795             2        1  \n",
       "2     473747             3        1  \n",
       "3    2254736             4        1  \n",
       "4     431534             5        1  \n",
       "5    3367565             6        1  \n",
       "6     550135             7        1  \n",
       "7    3108588             8        1  \n",
       "8    2295261             9        1  \n",
       "9    2550362            10        1  \n",
       "10   1187899            11        1  "
      ]
     },
     "execution_count": 18,
     "metadata": {},
     "output_type": "execute_result"
    }
   ],
   "source": [
    "# checking for first 5 rows\n",
    "orders_df.head(11)"
   ]
  },
  {
   "cell_type": "code",
   "execution_count": 19,
   "metadata": {},
   "outputs": [
    {
     "data": {
      "text/plain": [
       "Unnamed: 0                     0\n",
       "days_since_prior_order    131721\n",
       "eval_set                       0\n",
       "order_dow                      0\n",
       "order_hour_of_day              0\n",
       "order_id                       0\n",
       "order_number                   0\n",
       "user_id                        0\n",
       "dtype: int64"
      ]
     },
     "execution_count": 19,
     "metadata": {},
     "output_type": "execute_result"
    }
   ],
   "source": [
    "# checking if null values are present\n",
    "\n",
    "orders_df.isnull().sum()"
   ]
  },
  {
   "cell_type": "markdown",
   "metadata": {},
   "source": [
    "### Observation:\n",
    "    \n",
    "    It can be observed, as mentioned in the problem statement, there are NULL values present in \"days_since_prior_order\". The number of NULL values is found to be 131,721.\n",
    "    We shall now verify if these NULL values pertain only for the first order of each customer or can be found else where."
   ]
  },
  {
   "cell_type": "code",
   "execution_count": 20,
   "metadata": {},
   "outputs": [
    {
     "data": {
      "text/plain": [
       " 1    131415\n",
       "-1       306\n",
       "Name: order_number, dtype: int64"
      ]
     },
     "execution_count": 20,
     "metadata": {},
     "output_type": "execute_result"
    }
   ],
   "source": [
    "# Checking of null values\n",
    "orders_df['order_number'][orders_df['days_since_prior_order'].isnull() == True].value_counts()"
   ]
  },
  {
   "cell_type": "markdown",
   "metadata": {},
   "source": [
    "### Observation:\n",
    "   From above we observe that the NULL values is found when order_number is 1 and -1.\n",
    "   We shall check the significance of the negative order_number."
   ]
  },
  {
   "cell_type": "markdown",
   "metadata": {},
   "source": [
    "#### Before doing further analysis on null values we shall analyse the dataframe and the values that are appearing in all the columns, for further decisions"
   ]
  },
  {
   "cell_type": "code",
   "execution_count": 21,
   "metadata": {},
   "outputs": [
    {
     "name": "stdout",
     "output_type": "stream",
     "text": [
      "Unnamed: 0: 2186548\n",
      "days_since_prior_order: 32\n",
      "eval_set: 3\n",
      "order_dow: 67\n",
      "order_hour_of_day: 24\n",
      "order_id: 2178586\n",
      "order_number: 197\n",
      "user_id: 131209\n"
     ]
    }
   ],
   "source": [
    "orders_columns = orders_df.columns\n",
    "for i in orders_columns:\n",
    "    print(i + \":\",len(orders_df[i].unique()))"
   ]
  },
  {
   "cell_type": "code",
   "execution_count": 22,
   "metadata": {},
   "outputs": [
    {
     "data": {
      "text/plain": [
       "131209"
      ]
     },
     "execution_count": 22,
     "metadata": {},
     "output_type": "execute_result"
    }
   ],
   "source": [
    "#checking for number of users/customers\n",
    "orders_df['user_id'].nunique()"
   ]
  },
  {
   "cell_type": "markdown",
   "metadata": {},
   "source": [
    "### Observation : \n",
    "    There are 131,209 unique user_ids present in the given data"
   ]
  },
  {
   "cell_type": "code",
   "execution_count": 23,
   "metadata": {},
   "outputs": [
    {
     "data": {
      "text/plain": [
       "array(['prior', 'train', 'test'], dtype=object)"
      ]
     },
     "execution_count": 23,
     "metadata": {},
     "output_type": "execute_result"
    }
   ],
   "source": [
    "# types of evaluation sets\n",
    "orders_df['eval_set'].unique()"
   ]
  },
  {
   "cell_type": "code",
   "execution_count": 24,
   "metadata": {},
   "outputs": [
    {
     "data": {
      "text/plain": [
       "array([ 2,  3,  4,  1,  5,  0,  6, 52, 76, 79, 95, 54, 96, 55, 86, 77, 44,\n",
       "       72, 93, 94, 43, 60, 50, 80, 87, 85, 65, 90, 74, 82, 97, 49, 67, 58,\n",
       "       48, 66, 81, 46, 56, 98, 45, 71, 83, 91, 99, 63, 68, 70, 53, 57, 51,\n",
       "       73, 41, 92, 84, 75, 89, 47, 64, 69, 61, 62, 42, 59, 40, 78, 88],\n",
       "      dtype=int64)"
      ]
     },
     "execution_count": 24,
     "metadata": {},
     "output_type": "execute_result"
    }
   ],
   "source": [
    "# checking for unique values appearing in column order_dow\n",
    "orders_df['order_dow'].unique()"
   ]
  },
  {
   "cell_type": "markdown",
   "metadata": {},
   "source": [
    "### Observation:\n",
    "    For the \"order_dow\", we expect the values to range from 0-6 i.e. 7 days of the week\n",
    "    However, here we observe values other than 0-6. The values are found to be in the range of 40-99.\n",
    "    "
   ]
  },
  {
   "cell_type": "code",
   "execution_count": 25,
   "metadata": {},
   "outputs": [
    {
     "name": "stdout",
     "output_type": "stream",
     "text": [
      "7\n",
      "2183056\n"
     ]
    }
   ],
   "source": [
    "# as the date of week should have logical values of 0-6 only, so to see the destribution of the total records of orders_df\n",
    "# with respect to this column we have divided this column in two groups less than 7 and greater than 6 and taken count\n",
    "\n",
    "print(orders_df['order_dow'][orders_df['order_dow'] < 7].nunique())\n",
    "print(len(orders_df['order_dow'][orders_df['order_dow'] < 7]))\n"
   ]
  },
  {
   "cell_type": "code",
   "execution_count": 26,
   "metadata": {},
   "outputs": [
    {
     "name": "stdout",
     "output_type": "stream",
     "text": [
      "60\n"
     ]
    },
    {
     "data": {
      "text/plain": [
       "3492"
      ]
     },
     "execution_count": 26,
     "metadata": {},
     "output_type": "execute_result"
    }
   ],
   "source": [
    "print(orders_df['order_dow'][orders_df['order_dow'] > 6].nunique())\n",
    "len(orders_df['order_dow'][orders_df['order_dow'] > 6])"
   ]
  },
  {
   "cell_type": "markdown",
   "metadata": {},
   "source": [
    "### Observation :\n",
    "      On further analysis it is observed that values for \"order_dow\" majorly range from 0-6 appears (2,183,056 out of \n",
    "      2,186,548 i.e. 99.84%),\n",
    "      Where as values ranging from 40-99 (60 unique values) appear in very few cases (3,492 out of 2,186,548 i.e 0.16%).\n",
    "      Before taking any decision regarding these values, we have to further see why/or in which cases these values appear."
   ]
  },
  {
   "cell_type": "code",
   "execution_count": 27,
   "metadata": {},
   "outputs": [],
   "source": [
    "# creating empty dataframe to store all the rows where order_id having value of Day of week greater than 6\n",
    "dow_orderID_repeat = pd.DataFrame(columns=orders_df.columns)"
   ]
  },
  {
   "cell_type": "code",
   "execution_count": 28,
   "metadata": {},
   "outputs": [
    {
     "data": {
      "text/plain": [
       "3492"
      ]
     },
     "execution_count": 28,
     "metadata": {},
     "output_type": "execute_result"
    }
   ],
   "source": [
    "# number of unique order_id where value of order_dow column is greater than 6\n",
    "dow_orderID = orders_df['order_id'][orders_df['order_dow'] > 6].unique()\n",
    "len(dow_orderID)"
   ]
  },
  {
   "cell_type": "code",
   "execution_count": 29,
   "metadata": {},
   "outputs": [],
   "source": [
    "# storeing all the rows from orders_df where order_ids are from dow_orderID\n",
    "for i in dow_orderID:\n",
    "    dow_orderID_repeat = dow_orderID_repeat.append(orders_df[orders_df['order_id']==i])"
   ]
  },
  {
   "cell_type": "code",
   "execution_count": 30,
   "metadata": {},
   "outputs": [
    {
     "data": {
      "text/plain": [
       "(6994, 8)"
      ]
     },
     "execution_count": 30,
     "metadata": {},
     "output_type": "execute_result"
    }
   ],
   "source": [
    "#checking the shape of dataframe dow_oderID_repeat\n",
    "dow_orderID_repeat.shape"
   ]
  },
  {
   "cell_type": "markdown",
   "metadata": {},
   "source": [
    "### Observation :\n",
    "       From above we can see that dow_orderID_repeat dataframe (order_id having value of \"order_dow\" greater than 6) has \n",
    "       6994 rows, but number of unique order_id's are 3492.\n",
    "       i.e. Assuming that these order_id's are repeating, the total rows in dow_orderID_repeat should be equal to \n",
    "       3492 * 2 = 6984.\n",
    "       There is difference of (6994-6984 = 10). Hence it can be inferred that 10 order_id's appear thirce, while the rest\n",
    "       twice."
   ]
  },
  {
   "cell_type": "code",
   "execution_count": 31,
   "metadata": {},
   "outputs": [],
   "source": [
    "# creating empty dataframe to store all the rows where order_id having values of order_number negative\n",
    "negative_order_no_orderID_repeat = pd.DataFrame(columns=orders_df.columns)"
   ]
  },
  {
   "cell_type": "code",
   "execution_count": 32,
   "metadata": {},
   "outputs": [
    {
     "data": {
      "text/plain": [
       "4470"
      ]
     },
     "execution_count": 32,
     "metadata": {},
     "output_type": "execute_result"
    }
   ],
   "source": [
    "# number of unique order_id where value of order_number column is negative\n",
    "negative_order_no_orderID = orders_df['order_id'][orders_df['order_number']<0].unique()\n",
    "len(negative_order_no_orderID)"
   ]
  },
  {
   "cell_type": "code",
   "execution_count": 33,
   "metadata": {},
   "outputs": [],
   "source": [
    "# storeing all the rows from orders_df where order_ids are from dow_orderID\n",
    "for i in negative_order_no_orderID:\n",
    "    negative_order_no_orderID_repeat = negative_order_no_orderID_repeat.append(orders_df[orders_df['order_id']==i])"
   ]
  },
  {
   "cell_type": "code",
   "execution_count": 34,
   "metadata": {},
   "outputs": [
    {
     "data": {
      "text/plain": [
       "(8950, 8)"
      ]
     },
     "execution_count": 34,
     "metadata": {},
     "output_type": "execute_result"
    }
   ],
   "source": [
    "#checking the shape of dataframe negative_order_no_oderID_repeat\n",
    "negative_order_no_orderID_repeat.shape"
   ]
  },
  {
   "cell_type": "markdown",
   "metadata": {},
   "source": [
    "### Observation :\n",
    "   It can be observed that the no of Order IDs with negative Order Nos is 8950.\n",
    "   Of these the no. of unique Order IDs is 4470\n",
    "   Asuuming that each order ID appers twice, the total no of order IDs is expected to be 4470 * 2 = 8940.\n",
    "   There is difference of (8950-8940 = 10), hence it can be inferred that 10 order_id's appear thrice while the rest twice."
   ]
  },
  {
   "cell_type": "markdown",
   "metadata": {},
   "source": [
    "#### To Check:\n",
    "We shall now identify the similar order_ids \"dow_orderID_repeat\" and \"negative_order_no_orderID_repeat\""
   ]
  },
  {
   "cell_type": "code",
   "execution_count": 35,
   "metadata": {},
   "outputs": [],
   "source": [
    "#checking for the common order_id's appearing in both dow_orderID_repeat and negative_order_no_orderID_repeat\n",
    "orderid_repeat_3times = set(dow_orderID_repeat['order_id'].unique()).intersection(\n",
    "    set(negative_order_no_orderID_repeat['order_id'].unique()))"
   ]
  },
  {
   "cell_type": "code",
   "execution_count": 36,
   "metadata": {},
   "outputs": [
    {
     "data": {
      "text/plain": [
       "10"
      ]
     },
     "execution_count": 36,
     "metadata": {},
     "output_type": "execute_result"
    }
   ],
   "source": [
    "len(orderid_repeat_3times)"
   ]
  },
  {
   "cell_type": "markdown",
   "metadata": {},
   "source": [
    "### Observation:\n",
    "    It can be thus observed that these 10 order_id's that appear thrice are found in both the dataframes."
   ]
  },
  {
   "cell_type": "code",
   "execution_count": 37,
   "metadata": {},
   "outputs": [],
   "source": [
    "# creating empty dataframe to store all the rows where order_id repeates 3times in order_df\n",
    "orderID_repeat_3times_df = pd.DataFrame(columns=orders_df.columns)"
   ]
  },
  {
   "cell_type": "code",
   "execution_count": 38,
   "metadata": {},
   "outputs": [],
   "source": [
    "# storeing all the rows from orders_df where order_ids are from dow_orderID\n",
    "for i in set(dow_orderID_repeat['order_id'].unique()).intersection(set(negative_order_no_orderID_repeat['order_id'].unique())):\n",
    "    orderID_repeat_3times_df = orderID_repeat_3times_df.append(orders_df[orders_df['order_id']==i])"
   ]
  },
  {
   "cell_type": "code",
   "execution_count": 39,
   "metadata": {},
   "outputs": [
    {
     "data": {
      "text/plain": [
       "(30, 8)"
      ]
     },
     "execution_count": 39,
     "metadata": {},
     "output_type": "execute_result"
    }
   ],
   "source": [
    "orderID_repeat_3times_df.shape"
   ]
  },
  {
   "cell_type": "code",
   "execution_count": 40,
   "metadata": {},
   "outputs": [
    {
     "data": {
      "text/html": [
       "<div>\n",
       "<style scoped>\n",
       "    .dataframe tbody tr th:only-of-type {\n",
       "        vertical-align: middle;\n",
       "    }\n",
       "\n",
       "    .dataframe tbody tr th {\n",
       "        vertical-align: top;\n",
       "    }\n",
       "\n",
       "    .dataframe thead th {\n",
       "        text-align: right;\n",
       "    }\n",
       "</style>\n",
       "<table border=\"1\" class=\"dataframe\">\n",
       "  <thead>\n",
       "    <tr style=\"text-align: right;\">\n",
       "      <th></th>\n",
       "      <th>Unnamed: 0</th>\n",
       "      <th>days_since_prior_order</th>\n",
       "      <th>eval_set</th>\n",
       "      <th>order_dow</th>\n",
       "      <th>order_hour_of_day</th>\n",
       "      <th>order_id</th>\n",
       "      <th>order_number</th>\n",
       "      <th>user_id</th>\n",
       "    </tr>\n",
       "  </thead>\n",
       "  <tbody>\n",
       "    <tr>\n",
       "      <th>1364104</th>\n",
       "      <td>1364104</td>\n",
       "      <td>0.0</td>\n",
       "      <td>prior</td>\n",
       "      <td>1</td>\n",
       "      <td>10</td>\n",
       "      <td>2599425</td>\n",
       "      <td>38</td>\n",
       "      <td>128683</td>\n",
       "    </tr>\n",
       "    <tr>\n",
       "      <th>2182155</th>\n",
       "      <td>2182155</td>\n",
       "      <td>0.0</td>\n",
       "      <td>prior</td>\n",
       "      <td>1</td>\n",
       "      <td>10</td>\n",
       "      <td>2599425</td>\n",
       "      <td>-38</td>\n",
       "      <td>128683</td>\n",
       "    </tr>\n",
       "    <tr>\n",
       "      <th>2184559</th>\n",
       "      <td>2184559</td>\n",
       "      <td>0.0</td>\n",
       "      <td>prior</td>\n",
       "      <td>71</td>\n",
       "      <td>10</td>\n",
       "      <td>2599425</td>\n",
       "      <td>38</td>\n",
       "      <td>128683</td>\n",
       "    </tr>\n",
       "    <tr>\n",
       "      <th>1930462</th>\n",
       "      <td>1930462</td>\n",
       "      <td>NaN</td>\n",
       "      <td>prior</td>\n",
       "      <td>6</td>\n",
       "      <td>10</td>\n",
       "      <td>596966</td>\n",
       "      <td>1</td>\n",
       "      <td>182889</td>\n",
       "    </tr>\n",
       "    <tr>\n",
       "      <th>2181238</th>\n",
       "      <td>2181238</td>\n",
       "      <td>NaN</td>\n",
       "      <td>prior</td>\n",
       "      <td>6</td>\n",
       "      <td>10</td>\n",
       "      <td>596966</td>\n",
       "      <td>-1</td>\n",
       "      <td>182889</td>\n",
       "    </tr>\n",
       "    <tr>\n",
       "      <th>2185040</th>\n",
       "      <td>2185040</td>\n",
       "      <td>NaN</td>\n",
       "      <td>prior</td>\n",
       "      <td>76</td>\n",
       "      <td>10</td>\n",
       "      <td>596966</td>\n",
       "      <td>1</td>\n",
       "      <td>182889</td>\n",
       "    </tr>\n",
       "  </tbody>\n",
       "</table>\n",
       "</div>"
      ],
      "text/plain": [
       "        Unnamed: 0  days_since_prior_order eval_set order_dow  \\\n",
       "1364104    1364104                     0.0    prior         1   \n",
       "2182155    2182155                     0.0    prior         1   \n",
       "2184559    2184559                     0.0    prior        71   \n",
       "1930462    1930462                     NaN    prior         6   \n",
       "2181238    2181238                     NaN    prior         6   \n",
       "2185040    2185040                     NaN    prior        76   \n",
       "\n",
       "        order_hour_of_day order_id order_number user_id  \n",
       "1364104                10  2599425           38  128683  \n",
       "2182155                10  2599425          -38  128683  \n",
       "2184559                10  2599425           38  128683  \n",
       "1930462                10   596966            1  182889  \n",
       "2181238                10   596966           -1  182889  \n",
       "2185040                10   596966            1  182889  "
      ]
     },
     "execution_count": 40,
     "metadata": {},
     "output_type": "execute_result"
    }
   ],
   "source": [
    "orderID_repeat_3times_df.head(6)"
   ]
  },
  {
   "cell_type": "markdown",
   "metadata": {},
   "source": [
    "### Observation:\n",
    "    It is observed that there are repeatative order_id's present in orders_df dataframe with positive and the corresponding \n",
    "    negarive order nos.\n",
    "    We can assume the following reasons for repetition of order_id's: Credit/debit note raised or discount given for the \n",
    "    respective orders.\n",
    "    With this we infer that there is no impact of the extra order_id's present in the orders_df dataframe in our decision \n",
    "    making, so we shall drop them.\n",
    "    "
   ]
  },
  {
   "cell_type": "code",
   "execution_count": 41,
   "metadata": {},
   "outputs": [
    {
     "data": {
      "text/plain": [
       "(32434489, 4)"
      ]
     },
     "execution_count": 41,
     "metadata": {},
     "output_type": "execute_result"
    }
   ],
   "source": [
    "#checking the shape of the dataframe\n",
    "order_products_prior_df.shape"
   ]
  },
  {
   "cell_type": "code",
   "execution_count": 42,
   "metadata": {},
   "outputs": [
    {
     "name": "stdout",
     "output_type": "stream",
     "text": [
      "<class 'pandas.core.frame.DataFrame'>\n",
      "RangeIndex: 32434489 entries, 0 to 32434488\n",
      "Data columns (total 4 columns):\n",
      " #   Column             Dtype\n",
      "---  ------             -----\n",
      " 0   order_id           int64\n",
      " 1   product_id         int64\n",
      " 2   add_to_cart_order  int64\n",
      " 3   reordered          int64\n",
      "dtypes: int64(4)\n",
      "memory usage: 989.8 MB\n"
     ]
    }
   ],
   "source": [
    "#checking for information of data frame\n",
    "order_products_prior_df.info()"
   ]
  },
  {
   "cell_type": "code",
   "execution_count": 43,
   "metadata": {},
   "outputs": [
    {
     "data": {
      "text/html": [
       "<div>\n",
       "<style scoped>\n",
       "    .dataframe tbody tr th:only-of-type {\n",
       "        vertical-align: middle;\n",
       "    }\n",
       "\n",
       "    .dataframe tbody tr th {\n",
       "        vertical-align: top;\n",
       "    }\n",
       "\n",
       "    .dataframe thead th {\n",
       "        text-align: right;\n",
       "    }\n",
       "</style>\n",
       "<table border=\"1\" class=\"dataframe\">\n",
       "  <thead>\n",
       "    <tr style=\"text-align: right;\">\n",
       "      <th></th>\n",
       "      <th>order_id</th>\n",
       "      <th>product_id</th>\n",
       "      <th>add_to_cart_order</th>\n",
       "      <th>reordered</th>\n",
       "    </tr>\n",
       "  </thead>\n",
       "  <tbody>\n",
       "    <tr>\n",
       "      <th>0</th>\n",
       "      <td>2</td>\n",
       "      <td>33120</td>\n",
       "      <td>1</td>\n",
       "      <td>1</td>\n",
       "    </tr>\n",
       "    <tr>\n",
       "      <th>1</th>\n",
       "      <td>2</td>\n",
       "      <td>28985</td>\n",
       "      <td>2</td>\n",
       "      <td>1</td>\n",
       "    </tr>\n",
       "    <tr>\n",
       "      <th>2</th>\n",
       "      <td>2</td>\n",
       "      <td>9327</td>\n",
       "      <td>3</td>\n",
       "      <td>0</td>\n",
       "    </tr>\n",
       "    <tr>\n",
       "      <th>3</th>\n",
       "      <td>2</td>\n",
       "      <td>45918</td>\n",
       "      <td>4</td>\n",
       "      <td>1</td>\n",
       "    </tr>\n",
       "    <tr>\n",
       "      <th>4</th>\n",
       "      <td>2</td>\n",
       "      <td>30035</td>\n",
       "      <td>5</td>\n",
       "      <td>0</td>\n",
       "    </tr>\n",
       "  </tbody>\n",
       "</table>\n",
       "</div>"
      ],
      "text/plain": [
       "   order_id  product_id  add_to_cart_order  reordered\n",
       "0         2       33120                  1          1\n",
       "1         2       28985                  2          1\n",
       "2         2        9327                  3          0\n",
       "3         2       45918                  4          1\n",
       "4         2       30035                  5          0"
      ]
     },
     "execution_count": 43,
     "metadata": {},
     "output_type": "execute_result"
    }
   ],
   "source": [
    "# checking first 5 observations\n",
    "order_products_prior_df.head()"
   ]
  },
  {
   "cell_type": "code",
   "execution_count": 44,
   "metadata": {},
   "outputs": [
    {
     "data": {
      "text/plain": [
       "order_id             0\n",
       "product_id           0\n",
       "add_to_cart_order    0\n",
       "reordered            0\n",
       "dtype: int64"
      ]
     },
     "execution_count": 44,
     "metadata": {},
     "output_type": "execute_result"
    }
   ],
   "source": [
    "# checking for null values\n",
    "order_products_prior_df.isnull().sum()"
   ]
  },
  {
   "cell_type": "code",
   "execution_count": 45,
   "metadata": {},
   "outputs": [
    {
     "name": "stdout",
     "output_type": "stream",
     "text": [
      "order_id: 3214874\n",
      "product_id: 49677\n",
      "add_to_cart_order: 145\n",
      "reordered: 2\n"
     ]
    }
   ],
   "source": [
    "# checking for number of unique values in all the columns of order_products_prior_df\n",
    "OPP_columns = order_products_prior_df.columns\n",
    "for i in OPP_columns:\n",
    "    print(i + \":\" , len(order_products_prior_df[i].unique()))"
   ]
  },
  {
   "cell_type": "code",
   "execution_count": 46,
   "metadata": {},
   "outputs": [
    {
     "data": {
      "text/plain": [
       "array([  1,   2,   3,   4,   5,   6,   7,   8,   9,  10,  11,  12,  13,\n",
       "        14,  15,  16,  17,  18,  19,  20,  21,  22,  23,  24,  25,  26,\n",
       "        27,  28,  29,  30,  31,  32,  33,  34,  35,  36,  37,  38,  39,\n",
       "        40,  41,  42,  43,  44,  45,  46,  47,  48,  49,  50,  51,  52,\n",
       "        53,  54,  55,  56,  57,  58,  59,  60,  61,  62,  63,  64,  65,\n",
       "        66,  67,  68,  69,  70,  71,  72,  73,  74,  75,  76,  77,  78,\n",
       "        79,  80,  81,  82,  83,  84,  85,  86,  87,  88,  89,  90,  91,\n",
       "        92,  93,  94,  95,  96,  97,  98,  99, 100, 101, 102, 103, 104,\n",
       "       105, 106, 107, 108, 109, 110, 111, 112, 113, 114, 115, 116, 117,\n",
       "       118, 119, 120, 121, 122, 123, 124, 125, 126, 127, 128, 129, 130,\n",
       "       131, 132, 133, 134, 135, 136, 137, 138, 139, 140, 141, 142, 143,\n",
       "       144, 145], dtype=int64)"
      ]
     },
     "execution_count": 46,
     "metadata": {},
     "output_type": "execute_result"
    }
   ],
   "source": [
    "# checking of unique values\n",
    "order_products_prior_df['add_to_cart_order'].unique()"
   ]
  },
  {
   "cell_type": "code",
   "execution_count": 47,
   "metadata": {},
   "outputs": [
    {
     "data": {
      "text/plain": [
       "array([1, 0], dtype=int64)"
      ]
     },
     "execution_count": 47,
     "metadata": {},
     "output_type": "execute_result"
    }
   ],
   "source": [
    "order_products_prior_df['reordered'].unique()"
   ]
  },
  {
   "cell_type": "code",
   "execution_count": 48,
   "metadata": {},
   "outputs": [
    {
     "data": {
      "text/plain": [
       "(1068168, 5)"
      ]
     },
     "execution_count": 48,
     "metadata": {},
     "output_type": "execute_result"
    }
   ],
   "source": [
    "#checking the shape of the dataframe\n",
    "order_products_train_df.shape"
   ]
  },
  {
   "cell_type": "code",
   "execution_count": 49,
   "metadata": {},
   "outputs": [
    {
     "name": "stdout",
     "output_type": "stream",
     "text": [
      "<class 'pandas.core.frame.DataFrame'>\n",
      "RangeIndex: 1068168 entries, 0 to 1068167\n",
      "Data columns (total 5 columns):\n",
      " #   Column             Non-Null Count    Dtype\n",
      "---  ------             --------------    -----\n",
      " 0   Unnamed: 0         1068168 non-null  int64\n",
      " 1   order_id           1068168 non-null  int64\n",
      " 2   product_id         1068168 non-null  int64\n",
      " 3   add_to_cart_order  1068168 non-null  int64\n",
      " 4   reordered          1068168 non-null  int64\n",
      "dtypes: int64(5)\n",
      "memory usage: 40.7 MB\n"
     ]
    }
   ],
   "source": [
    "#checking for information of data frame\n",
    "order_products_train_df.info()"
   ]
  },
  {
   "cell_type": "code",
   "execution_count": 50,
   "metadata": {},
   "outputs": [
    {
     "data": {
      "text/html": [
       "<div>\n",
       "<style scoped>\n",
       "    .dataframe tbody tr th:only-of-type {\n",
       "        vertical-align: middle;\n",
       "    }\n",
       "\n",
       "    .dataframe tbody tr th {\n",
       "        vertical-align: top;\n",
       "    }\n",
       "\n",
       "    .dataframe thead th {\n",
       "        text-align: right;\n",
       "    }\n",
       "</style>\n",
       "<table border=\"1\" class=\"dataframe\">\n",
       "  <thead>\n",
       "    <tr style=\"text-align: right;\">\n",
       "      <th></th>\n",
       "      <th>Unnamed: 0</th>\n",
       "      <th>order_id</th>\n",
       "      <th>product_id</th>\n",
       "      <th>add_to_cart_order</th>\n",
       "      <th>reordered</th>\n",
       "    </tr>\n",
       "  </thead>\n",
       "  <tbody>\n",
       "    <tr>\n",
       "      <th>0</th>\n",
       "      <td>8</td>\n",
       "      <td>36</td>\n",
       "      <td>39612</td>\n",
       "      <td>1</td>\n",
       "      <td>0</td>\n",
       "    </tr>\n",
       "    <tr>\n",
       "      <th>1</th>\n",
       "      <td>9</td>\n",
       "      <td>36</td>\n",
       "      <td>19660</td>\n",
       "      <td>2</td>\n",
       "      <td>1</td>\n",
       "    </tr>\n",
       "    <tr>\n",
       "      <th>2</th>\n",
       "      <td>10</td>\n",
       "      <td>36</td>\n",
       "      <td>49235</td>\n",
       "      <td>3</td>\n",
       "      <td>0</td>\n",
       "    </tr>\n",
       "    <tr>\n",
       "      <th>3</th>\n",
       "      <td>11</td>\n",
       "      <td>36</td>\n",
       "      <td>43086</td>\n",
       "      <td>4</td>\n",
       "      <td>1</td>\n",
       "    </tr>\n",
       "    <tr>\n",
       "      <th>4</th>\n",
       "      <td>12</td>\n",
       "      <td>36</td>\n",
       "      <td>46620</td>\n",
       "      <td>5</td>\n",
       "      <td>1</td>\n",
       "    </tr>\n",
       "  </tbody>\n",
       "</table>\n",
       "</div>"
      ],
      "text/plain": [
       "   Unnamed: 0  order_id  product_id  add_to_cart_order  reordered\n",
       "0           8        36       39612                  1          0\n",
       "1           9        36       19660                  2          1\n",
       "2          10        36       49235                  3          0\n",
       "3          11        36       43086                  4          1\n",
       "4          12        36       46620                  5          1"
      ]
     },
     "execution_count": 50,
     "metadata": {},
     "output_type": "execute_result"
    }
   ],
   "source": [
    "# checking first 5 observations\n",
    "order_products_train_df.head()"
   ]
  },
  {
   "cell_type": "code",
   "execution_count": 51,
   "metadata": {},
   "outputs": [
    {
     "data": {
      "text/plain": [
       "Unnamed: 0           0\n",
       "order_id             0\n",
       "product_id           0\n",
       "add_to_cart_order    0\n",
       "reordered            0\n",
       "dtype: int64"
      ]
     },
     "execution_count": 51,
     "metadata": {},
     "output_type": "execute_result"
    }
   ],
   "source": [
    "# checking for null values\n",
    "order_products_train_df.isnull().sum()"
   ]
  },
  {
   "cell_type": "code",
   "execution_count": 52,
   "metadata": {},
   "outputs": [
    {
     "name": "stdout",
     "output_type": "stream",
     "text": [
      "Unnamed: 0: 1068168\n",
      "order_id: 101209\n",
      "product_id: 36972\n",
      "add_to_cart_order: 80\n",
      "reordered: 2\n"
     ]
    }
   ],
   "source": [
    "# checking for number of unique values in all the columns of order_products_prior_df\n",
    "OPTr_columns = order_products_train_df.columns\n",
    "for i in OPTr_columns:\n",
    "    print(i + \":\" , len(order_products_train_df[i].unique()))"
   ]
  },
  {
   "cell_type": "code",
   "execution_count": 53,
   "metadata": {},
   "outputs": [
    {
     "data": {
      "text/plain": [
       "array([ 1,  2,  3,  4,  5,  6,  7,  8,  9, 10, 11, 12, 13, 14, 15, 16, 17,\n",
       "       18, 19, 20, 21, 22, 23, 24, 25, 26, 27, 28, 29, 30, 31, 32, 33, 34,\n",
       "       35, 36, 37, 38, 39, 40, 41, 42, 43, 44, 45, 46, 47, 48, 49, 50, 51,\n",
       "       52, 53, 54, 55, 56, 57, 58, 59, 60, 61, 62, 63, 64, 65, 66, 67, 68,\n",
       "       69, 70, 71, 72, 73, 74, 75, 76, 77, 78, 79, 80], dtype=int64)"
      ]
     },
     "execution_count": 53,
     "metadata": {},
     "output_type": "execute_result"
    }
   ],
   "source": [
    "# checking of unique values\n",
    "order_products_train_df['add_to_cart_order'].unique()"
   ]
  },
  {
   "cell_type": "code",
   "execution_count": 54,
   "metadata": {},
   "outputs": [
    {
     "data": {
      "text/plain": [
       "array([0, 1], dtype=int64)"
      ]
     },
     "execution_count": 54,
     "metadata": {},
     "output_type": "execute_result"
    }
   ],
   "source": [
    "order_products_train_df['reordered'].unique()"
   ]
  },
  {
   "cell_type": "code",
   "execution_count": 55,
   "metadata": {},
   "outputs": [
    {
     "data": {
      "text/plain": [
       "(316449, 5)"
      ]
     },
     "execution_count": 55,
     "metadata": {},
     "output_type": "execute_result"
    }
   ],
   "source": [
    "#checking the shape of the dataframe\n",
    "order_products_test_df.shape"
   ]
  },
  {
   "cell_type": "code",
   "execution_count": 56,
   "metadata": {},
   "outputs": [
    {
     "name": "stdout",
     "output_type": "stream",
     "text": [
      "<class 'pandas.core.frame.DataFrame'>\n",
      "RangeIndex: 316449 entries, 0 to 316448\n",
      "Data columns (total 5 columns):\n",
      " #   Column             Non-Null Count   Dtype\n",
      "---  ------             --------------   -----\n",
      " 0   Unnamed: 0         316449 non-null  int64\n",
      " 1   order_id           316449 non-null  int64\n",
      " 2   product_id         316449 non-null  int64\n",
      " 3   add_to_cart_order  316449 non-null  int64\n",
      " 4   reordered          316449 non-null  int64\n",
      "dtypes: int64(5)\n",
      "memory usage: 12.1 MB\n"
     ]
    }
   ],
   "source": [
    "#checking for information of data frame\n",
    "order_products_test_df.info()"
   ]
  },
  {
   "cell_type": "code",
   "execution_count": 57,
   "metadata": {},
   "outputs": [
    {
     "data": {
      "text/html": [
       "<div>\n",
       "<style scoped>\n",
       "    .dataframe tbody tr th:only-of-type {\n",
       "        vertical-align: middle;\n",
       "    }\n",
       "\n",
       "    .dataframe tbody tr th {\n",
       "        vertical-align: top;\n",
       "    }\n",
       "\n",
       "    .dataframe thead th {\n",
       "        text-align: right;\n",
       "    }\n",
       "</style>\n",
       "<table border=\"1\" class=\"dataframe\">\n",
       "  <thead>\n",
       "    <tr style=\"text-align: right;\">\n",
       "      <th></th>\n",
       "      <th>Unnamed: 0</th>\n",
       "      <th>order_id</th>\n",
       "      <th>product_id</th>\n",
       "      <th>add_to_cart_order</th>\n",
       "      <th>reordered</th>\n",
       "    </tr>\n",
       "  </thead>\n",
       "  <tbody>\n",
       "    <tr>\n",
       "      <th>0</th>\n",
       "      <td>0</td>\n",
       "      <td>1</td>\n",
       "      <td>49302</td>\n",
       "      <td>1</td>\n",
       "      <td>1</td>\n",
       "    </tr>\n",
       "    <tr>\n",
       "      <th>1</th>\n",
       "      <td>1</td>\n",
       "      <td>1</td>\n",
       "      <td>11109</td>\n",
       "      <td>2</td>\n",
       "      <td>1</td>\n",
       "    </tr>\n",
       "    <tr>\n",
       "      <th>2</th>\n",
       "      <td>2</td>\n",
       "      <td>1</td>\n",
       "      <td>10246</td>\n",
       "      <td>3</td>\n",
       "      <td>0</td>\n",
       "    </tr>\n",
       "    <tr>\n",
       "      <th>3</th>\n",
       "      <td>3</td>\n",
       "      <td>1</td>\n",
       "      <td>49683</td>\n",
       "      <td>4</td>\n",
       "      <td>0</td>\n",
       "    </tr>\n",
       "    <tr>\n",
       "      <th>4</th>\n",
       "      <td>4</td>\n",
       "      <td>1</td>\n",
       "      <td>43633</td>\n",
       "      <td>5</td>\n",
       "      <td>1</td>\n",
       "    </tr>\n",
       "  </tbody>\n",
       "</table>\n",
       "</div>"
      ],
      "text/plain": [
       "   Unnamed: 0  order_id  product_id  add_to_cart_order  reordered\n",
       "0           0         1       49302                  1          1\n",
       "1           1         1       11109                  2          1\n",
       "2           2         1       10246                  3          0\n",
       "3           3         1       49683                  4          0\n",
       "4           4         1       43633                  5          1"
      ]
     },
     "execution_count": 57,
     "metadata": {},
     "output_type": "execute_result"
    }
   ],
   "source": [
    "# checking first 5 observations\n",
    "order_products_test_df.head()"
   ]
  },
  {
   "cell_type": "code",
   "execution_count": 58,
   "metadata": {},
   "outputs": [
    {
     "data": {
      "text/plain": [
       "Unnamed: 0           0\n",
       "order_id             0\n",
       "product_id           0\n",
       "add_to_cart_order    0\n",
       "reordered            0\n",
       "dtype: int64"
      ]
     },
     "execution_count": 58,
     "metadata": {},
     "output_type": "execute_result"
    }
   ],
   "source": [
    "# checking for null values\n",
    "order_products_test_df.isnull().sum()"
   ]
  },
  {
   "cell_type": "code",
   "execution_count": 59,
   "metadata": {},
   "outputs": [
    {
     "name": "stdout",
     "output_type": "stream",
     "text": [
      "Unnamed: 0: 316449\n",
      "order_id: 30000\n",
      "product_id: 26453\n",
      "add_to_cart_order: 80\n",
      "reordered: 2\n"
     ]
    }
   ],
   "source": [
    "# checking for number of unique values in all the columns of order_products_prior_df\n",
    "OPTe_columns = order_products_test_df.columns\n",
    "for i in OPTe_columns:\n",
    "    print(i + \":\" , len(order_products_test_df[i].unique()))"
   ]
  },
  {
   "cell_type": "code",
   "execution_count": 60,
   "metadata": {},
   "outputs": [
    {
     "data": {
      "text/plain": [
       "array([ 1,  2,  3,  4,  5,  6,  7,  8,  9, 10, 11, 12, 13, 14, 15, 16, 17,\n",
       "       18, 19, 20, 21, 22, 23, 24, 25, 26, 27, 28, 29, 30, 31, 32, 33, 34,\n",
       "       35, 36, 37, 38, 39, 40, 41, 42, 43, 44, 45, 46, 47, 48, 49, 50, 51,\n",
       "       52, 53, 54, 55, 56, 57, 58, 59, 60, 61, 62, 63, 64, 65, 66, 67, 68,\n",
       "       69, 70, 71, 72, 73, 74, 75, 76, 77, 78, 79, 80], dtype=int64)"
      ]
     },
     "execution_count": 60,
     "metadata": {},
     "output_type": "execute_result"
    }
   ],
   "source": [
    "# checking of unique values\n",
    "order_products_train_df['add_to_cart_order'].unique()"
   ]
  },
  {
   "cell_type": "code",
   "execution_count": 61,
   "metadata": {},
   "outputs": [
    {
     "data": {
      "text/plain": [
       "array([0, 1], dtype=int64)"
      ]
     },
     "execution_count": 61,
     "metadata": {},
     "output_type": "execute_result"
    }
   ],
   "source": [
    "order_products_train_df['reordered'].unique()"
   ]
  },
  {
   "cell_type": "markdown",
   "metadata": {},
   "source": [
    "##  \n",
    "\n",
    "\n",
    "\n",
    "# 2. Data Manipulation\n",
    "   1. To drop Unnamed:0 column from orders_df, order_product_train_df and order_product_test_df\n",
    "   2. To drop rows from orders_df dataframe, with repeated order_id's."
   ]
  },
  {
   "cell_type": "code",
   "execution_count": 62,
   "metadata": {},
   "outputs": [],
   "source": [
    "#1.droping the column 'Unnamed: 0' from orders_df, order_product_train_df and order_product_test_df\n",
    "orders_df.drop(['Unnamed: 0'], axis=1, inplace=True)\n",
    "order_products_train_df.drop(['Unnamed: 0'], axis=1, inplace=True)\n",
    "order_products_test_df.drop(['Unnamed: 0'], axis=1, inplace=True)"
   ]
  },
  {
   "cell_type": "code",
   "execution_count": 63,
   "metadata": {},
   "outputs": [
    {
     "data": {
      "text/plain": [
       "(2186548, 7)"
      ]
     },
     "execution_count": 63,
     "metadata": {},
     "output_type": "execute_result"
    }
   ],
   "source": [
    "orders_df.shape"
   ]
  },
  {
   "cell_type": "code",
   "execution_count": 64,
   "metadata": {},
   "outputs": [
    {
     "data": {
      "text/plain": [
       "(1068168, 4)"
      ]
     },
     "execution_count": 64,
     "metadata": {},
     "output_type": "execute_result"
    }
   ],
   "source": [
    "order_products_train_df.shape"
   ]
  },
  {
   "cell_type": "code",
   "execution_count": 65,
   "metadata": {},
   "outputs": [
    {
     "data": {
      "text/plain": [
       "(316449, 4)"
      ]
     },
     "execution_count": 65,
     "metadata": {},
     "output_type": "execute_result"
    }
   ],
   "source": [
    "order_products_test_df.shape"
   ]
  },
  {
   "cell_type": "code",
   "execution_count": 66,
   "metadata": {},
   "outputs": [],
   "source": [
    "#2. To drop rows from orders_df dataframe, where order_id's are repeating.\n",
    "orders_df.drop(orders_df[orders_df['order_number']<0].index,axis=0,inplace=True)"
   ]
  },
  {
   "cell_type": "code",
   "execution_count": 67,
   "metadata": {},
   "outputs": [],
   "source": [
    "orders_df.drop(orders_df[orders_df['order_dow']>6].index,axis=0,inplace=True)"
   ]
  },
  {
   "cell_type": "code",
   "execution_count": 68,
   "metadata": {},
   "outputs": [
    {
     "data": {
      "text/plain": [
       "(2178586, 7)"
      ]
     },
     "execution_count": 68,
     "metadata": {},
     "output_type": "execute_result"
    }
   ],
   "source": [
    "orders_df.shape"
   ]
  },
  {
   "cell_type": "code",
   "execution_count": 69,
   "metadata": {},
   "outputs": [
    {
     "data": {
      "text/plain": [
       "7962"
      ]
     },
     "execution_count": 69,
     "metadata": {},
     "output_type": "execute_result"
    }
   ],
   "source": [
    "2186548-2178586"
   ]
  },
  {
   "cell_type": "code",
   "execution_count": 70,
   "metadata": {},
   "outputs": [
    {
     "data": {
      "text/plain": [
       "7962"
      ]
     },
     "execution_count": 70,
     "metadata": {},
     "output_type": "execute_result"
    }
   ],
   "source": [
    "+4470+3492"
   ]
  },
  {
   "cell_type": "markdown",
   "metadata": {},
   "source": [
    "## \n",
    "\n",
    "\n",
    "# 3. Exploratary Data Analysis"
   ]
  },
  {
   "cell_type": "markdown",
   "metadata": {},
   "source": [
    "# Question 1:\n",
    "\n",
    "    1) When do customers order the most?\n",
    "        -    Day of the week\n",
    "        -    Time of the day\n",
    "        -    Combination of the above two."
   ]
  },
  {
   "cell_type": "code",
   "execution_count": 71,
   "metadata": {},
   "outputs": [
    {
     "data": {
      "text/plain": [
       "0    383657\n",
       "1    374368\n",
       "2    297071\n",
       "5    289006\n",
       "6    285735\n",
       "3    277672\n",
       "4    271077\n",
       "Name: order_dow, dtype: int64"
      ]
     },
     "execution_count": 71,
     "metadata": {},
     "output_type": "execute_result"
    }
   ],
   "source": [
    "orders_df['order_dow'].value_counts()"
   ]
  },
  {
   "cell_type": "markdown",
   "metadata": {},
   "source": [
    "### Observation :\n",
    "    From above we observed that at 0 and 1 are the top two days when are maximum orders placed.\n",
    "    We shall assume the start of week on Saturday.\n",
    "    Hence: 0-Sat, 1-Sun, 2-Mon, 3-Tue, 4-Wed, 5-Thu, 6-Fri.\n",
    "    We thus infer that the maximum orders are placed when the \"dow\" is 0 (i.e. Saturday as per assumption)\n",
    "    "
   ]
  },
  {
   "cell_type": "code",
   "execution_count": 72,
   "metadata": {},
   "outputs": [
    {
     "name": "stderr",
     "output_type": "stream",
     "text": [
      "C:\\ProgramData\\Anaconda3\\lib\\site-packages\\seaborn\\_decorators.py:43: FutureWarning: Pass the following variable as a keyword arg: x. From version 0.12, the only valid positional argument will be `data`, and passing other arguments without an explicit keyword will result in an error or misinterpretation.\n",
      "  FutureWarning\n"
     ]
    },
    {
     "data": {
      "image/png": "[encoded data removed]",
      "text/plain": [
       "<Figure size 864x576 with 1 Axes>"
      ]
     },
     "metadata": {
      "needs_background": "light"
     },
     "output_type": "display_data"
    }
   ],
   "source": [
    "plt.figure(figsize=(12,8))\n",
    "sns.countplot(orders_df['order_dow'])\n",
    "plt.xticks(np.arange(7), ('Saturday','Sunday','Monday','Tuesday','Wednesday','Thursday','Friday'))\n",
    "plt.show()"
   ]
  },
  {
   "cell_type": "code",
   "execution_count": 73,
   "metadata": {},
   "outputs": [
    {
     "data": {
      "text/plain": [
       "10    183465\n",
       "11    181129\n",
       "15    180622\n",
       "14    179637\n",
       "13    176833\n",
       "12    173706\n",
       "16    173550\n",
       "9     164043\n",
       "17    146054\n",
       "18    116919\n",
       "8     113225\n",
       "19     90086\n",
       "20     66317\n",
       "7      58648\n",
       "21     49991\n",
       "22     38885\n",
       "23     25388\n",
       "6      19412\n",
       "0      14586\n",
       "1       7869\n",
       "5       6203\n",
       "2       4911\n",
       "3       3568\n",
       "4       3539\n",
       "Name: order_hour_of_day, dtype: int64"
      ]
     },
     "execution_count": 73,
     "metadata": {},
     "output_type": "execute_result"
    }
   ],
   "source": [
    "orders_df['order_hour_of_day'].value_counts()"
   ]
  },
  {
   "cell_type": "markdown",
   "metadata": {},
   "source": [
    "# Observation :\n",
    "    From above we observed that at 10 and 11 are the top two hour_of_day maximum orders placed.\n",
    "    We thus infer that the maximum orders are placed when the \"order_hour_of_day\" is 10:00 hours."
   ]
  },
  {
   "cell_type": "code",
   "execution_count": 74,
   "metadata": {},
   "outputs": [
    {
     "name": "stderr",
     "output_type": "stream",
     "text": [
      "C:\\ProgramData\\Anaconda3\\lib\\site-packages\\seaborn\\_decorators.py:43: FutureWarning: Pass the following variable as a keyword arg: x. From version 0.12, the only valid positional argument will be `data`, and passing other arguments without an explicit keyword will result in an error or misinterpretation.\n",
      "  FutureWarning\n"
     ]
    },
    {
     "data": {
      "image/png": "[encoded data removed]",
      "text/plain": [
       "<Figure size 864x576 with 1 Axes>"
      ]
     },
     "metadata": {
      "needs_background": "light"
     },
     "output_type": "display_data"
    }
   ],
   "source": [
    "plt.figure(figsize=(12,8))\n",
    "sns.countplot(orders_df['order_hour_of_day'],palette='twilight_r')\n",
    "plt.show()"
   ]
  },
  {
   "cell_type": "code",
   "execution_count": 75,
   "metadata": {},
   "outputs": [
    {
     "name": "stdout",
     "output_type": "stream",
     "text": [
      "Weekday : 2\n",
      "10    24947\n",
      "Name: order_hour_of_day, dtype: int64\n",
      "Weekday : 3\n",
      "10    22977\n",
      "Name: order_hour_of_day, dtype: int64\n",
      "Weekday : 4\n",
      "10    22273\n",
      "Name: order_hour_of_day, dtype: int64\n",
      "Weekday : 1\n",
      "10    35375\n",
      "Name: order_hour_of_day, dtype: int64\n",
      "Weekday : 5\n",
      "10    24321\n",
      "Name: order_hour_of_day, dtype: int64\n",
      "Weekday : 0\n",
      "14    34810\n",
      "Name: order_hour_of_day, dtype: int64\n",
      "Weekday : 6\n",
      "14    24400\n",
      "Name: order_hour_of_day, dtype: int64\n"
     ]
    }
   ],
   "source": [
    "for i in orders_df['order_dow'].unique():\n",
    "    print(\"Weekday : \" + str(i))\n",
    "    print(orders_df['order_hour_of_day'][orders_df['order_dow']==i].value_counts()[0:1])"
   ]
  },
  {
   "cell_type": "code",
   "execution_count": 76,
   "metadata": {},
   "outputs": [
    {
     "name": "stderr",
     "output_type": "stream",
     "text": [
      "C:\\ProgramData\\Anaconda3\\lib\\site-packages\\seaborn\\_decorators.py:43: FutureWarning: Pass the following variable as a keyword arg: x. From version 0.12, the only valid positional argument will be `data`, and passing other arguments without an explicit keyword will result in an error or misinterpretation.\n",
      "  FutureWarning\n",
      "C:\\ProgramData\\Anaconda3\\lib\\site-packages\\seaborn\\_decorators.py:43: FutureWarning: Pass the following variable as a keyword arg: x. From version 0.12, the only valid positional argument will be `data`, and passing other arguments without an explicit keyword will result in an error or misinterpretation.\n",
      "  FutureWarning\n",
      "C:\\ProgramData\\Anaconda3\\lib\\site-packages\\seaborn\\_decorators.py:43: FutureWarning: Pass the following variable as a keyword arg: x. From version 0.12, the only valid positional argument will be `data`, and passing other arguments without an explicit keyword will result in an error or misinterpretation.\n",
      "  FutureWarning\n",
      "C:\\ProgramData\\Anaconda3\\lib\\site-packages\\seaborn\\_decorators.py:43: FutureWarning: Pass the following variable as a keyword arg: x. From version 0.12, the only valid positional argument will be `data`, and passing other arguments without an explicit keyword will result in an error or misinterpretation.\n",
      "  FutureWarning\n",
      "C:\\ProgramData\\Anaconda3\\lib\\site-packages\\seaborn\\_decorators.py:43: FutureWarning: Pass the following variable as a keyword arg: x. From version 0.12, the only valid positional argument will be `data`, and passing other arguments without an explicit keyword will result in an error or misinterpretation.\n",
      "  FutureWarning\n",
      "C:\\ProgramData\\Anaconda3\\lib\\site-packages\\seaborn\\_decorators.py:43: FutureWarning: Pass the following variable as a keyword arg: x. From version 0.12, the only valid positional argument will be `data`, and passing other arguments without an explicit keyword will result in an error or misinterpretation.\n",
      "  FutureWarning\n",
      "C:\\ProgramData\\Anaconda3\\lib\\site-packages\\seaborn\\_decorators.py:43: FutureWarning: Pass the following variable as a keyword arg: x. From version 0.12, the only valid positional argument will be `data`, and passing other arguments without an explicit keyword will result in an error or misinterpretation.\n",
      "  FutureWarning\n"
     ]
    },
    {
     "data": {
      "image/png": "[encoded data removed]",
      "text/plain": [
       "<Figure size 864x1440 with 7 Axes>"
      ]
     },
     "metadata": {
      "needs_background": "light"
     },
     "output_type": "display_data"
    }
   ],
   "source": [
    "%matplotlib inline\n",
    "row=4; col=2; pos=1\n",
    "fig = plt.figure(figsize=(12,20))\n",
    "for i in orders_df['order_dow'].unique():\n",
    "    fig.add_subplot(row,col,pos)\n",
    "    plt.title(\"Weekday : \" + str(i))\n",
    "    sns.countplot(orders_df['order_hour_of_day'][orders_df['order_dow']==i],palette='viridis')\n",
    "    pos+=1\n",
    "plt.show()"
   ]
  },
  {
   "cell_type": "markdown",
   "metadata": {},
   "source": [
    "# Observation :\n",
    "From above we observed that Weekday : 1 and hour of day is 10, 35375 i.e maximum are orders placed.\n",
    "\n",
    "We thus infer that the maximum orders are placed when the \"day of week\" is 1 i.e Sunday and the hour of day is 10:00"
   ]
  },
  {
   "cell_type": "markdown",
   "metadata": {},
   "source": [
    "# Question 2:\n",
    "    2) What are the top 5 products?\n",
    "\n",
    "    -    That are ordered.\n",
    "    -    That are reordered."
   ]
  },
  {
   "cell_type": "code",
   "execution_count": 77,
   "metadata": {},
   "outputs": [],
   "source": [
    "combine_order_products_df = pd.concat([order_products_prior_df,order_products_train_df,order_products_test_df],\n",
    "                                      keys=['prior','train','test'])"
   ]
  },
  {
   "cell_type": "code",
   "execution_count": 78,
   "metadata": {},
   "outputs": [
    {
     "data": {
      "text/html": [
       "<div>\n",
       "<style scoped>\n",
       "    .dataframe tbody tr th:only-of-type {\n",
       "        vertical-align: middle;\n",
       "    }\n",
       "\n",
       "    .dataframe tbody tr th {\n",
       "        vertical-align: top;\n",
       "    }\n",
       "\n",
       "    .dataframe thead th {\n",
       "        text-align: right;\n",
       "    }\n",
       "</style>\n",
       "<table border=\"1\" class=\"dataframe\">\n",
       "  <thead>\n",
       "    <tr style=\"text-align: right;\">\n",
       "      <th></th>\n",
       "      <th></th>\n",
       "      <th>order_id</th>\n",
       "      <th>product_id</th>\n",
       "      <th>add_to_cart_order</th>\n",
       "      <th>reordered</th>\n",
       "    </tr>\n",
       "  </thead>\n",
       "  <tbody>\n",
       "    <tr>\n",
       "      <th rowspan=\"5\" valign=\"top\">prior</th>\n",
       "      <th>0</th>\n",
       "      <td>2</td>\n",
       "      <td>33120</td>\n",
       "      <td>1</td>\n",
       "      <td>1</td>\n",
       "    </tr>\n",
       "    <tr>\n",
       "      <th>1</th>\n",
       "      <td>2</td>\n",
       "      <td>28985</td>\n",
       "      <td>2</td>\n",
       "      <td>1</td>\n",
       "    </tr>\n",
       "    <tr>\n",
       "      <th>2</th>\n",
       "      <td>2</td>\n",
       "      <td>9327</td>\n",
       "      <td>3</td>\n",
       "      <td>0</td>\n",
       "    </tr>\n",
       "    <tr>\n",
       "      <th>3</th>\n",
       "      <td>2</td>\n",
       "      <td>45918</td>\n",
       "      <td>4</td>\n",
       "      <td>1</td>\n",
       "    </tr>\n",
       "    <tr>\n",
       "      <th>4</th>\n",
       "      <td>2</td>\n",
       "      <td>30035</td>\n",
       "      <td>5</td>\n",
       "      <td>0</td>\n",
       "    </tr>\n",
       "  </tbody>\n",
       "</table>\n",
       "</div>"
      ],
      "text/plain": [
       "         order_id  product_id  add_to_cart_order  reordered\n",
       "prior 0         2       33120                  1          1\n",
       "      1         2       28985                  2          1\n",
       "      2         2        9327                  3          0\n",
       "      3         2       45918                  4          1\n",
       "      4         2       30035                  5          0"
      ]
     },
     "execution_count": 78,
     "metadata": {},
     "output_type": "execute_result"
    }
   ],
   "source": [
    "combine_order_products_df.head()"
   ]
  },
  {
   "cell_type": "code",
   "execution_count": 79,
   "metadata": {},
   "outputs": [
    {
     "name": "stdout",
     "output_type": "stream",
     "text": [
      "<class 'pandas.core.frame.DataFrame'>\n",
      "MultiIndex: 33819106 entries, ('prior', 0) to ('test', 316448)\n",
      "Data columns (total 4 columns):\n",
      " #   Column             Dtype\n",
      "---  ------             -----\n",
      " 0   order_id           int64\n",
      " 1   product_id         int64\n",
      " 2   add_to_cart_order  int64\n",
      " 3   reordered          int64\n",
      "dtypes: int64(4)\n",
      "memory usage: 2.7+ GB\n"
     ]
    }
   ],
   "source": [
    "combine_order_products_df.info()"
   ]
  },
  {
   "cell_type": "code",
   "execution_count": 80,
   "metadata": {},
   "outputs": [
    {
     "data": {
      "text/plain": [
       "24852    491291\n",
       "13176    394930\n",
       "21137    275577\n",
       "21903    251705\n",
       "47209    220877\n",
       "Name: product_id, dtype: int64"
      ]
     },
     "execution_count": 80,
     "metadata": {},
     "output_type": "execute_result"
    }
   ],
   "source": [
    "#top 5 products that are ordered\n",
    "combine_order_products_df['product_id'].value_counts().head()"
   ]
  },
  {
   "cell_type": "code",
   "execution_count": 81,
   "metadata": {},
   "outputs": [],
   "source": [
    "top5_product_ordered = pd.concat([pd.DataFrame(dict(combine_order_products_df['product_id'].value_counts().head()).keys(),\n",
    "                                       columns=['product_id']),\n",
    "                          pd.DataFrame(dict(combine_order_products_df['product_id'].value_counts().head()).values(),\n",
    "                                       columns=['order_count'])],axis=1)"
   ]
  },
  {
   "cell_type": "code",
   "execution_count": 82,
   "metadata": {},
   "outputs": [],
   "source": [
    "top5_product_ordered =pd.merge(top5_product_ordered,products_df,on='product_id')"
   ]
  },
  {
   "cell_type": "code",
   "execution_count": 83,
   "metadata": {},
   "outputs": [
    {
     "data": {
      "text/html": [
       "<div>\n",
       "<style scoped>\n",
       "    .dataframe tbody tr th:only-of-type {\n",
       "        vertical-align: middle;\n",
       "    }\n",
       "\n",
       "    .dataframe tbody tr th {\n",
       "        vertical-align: top;\n",
       "    }\n",
       "\n",
       "    .dataframe thead th {\n",
       "        text-align: right;\n",
       "    }\n",
       "</style>\n",
       "<table border=\"1\" class=\"dataframe\">\n",
       "  <thead>\n",
       "    <tr style=\"text-align: right;\">\n",
       "      <th></th>\n",
       "      <th>product_name</th>\n",
       "      <th>order_count</th>\n",
       "    </tr>\n",
       "  </thead>\n",
       "  <tbody>\n",
       "    <tr>\n",
       "      <th>0</th>\n",
       "      <td>Banana</td>\n",
       "      <td>491291</td>\n",
       "    </tr>\n",
       "    <tr>\n",
       "      <th>1</th>\n",
       "      <td>Bag of Organic Bananas</td>\n",
       "      <td>394930</td>\n",
       "    </tr>\n",
       "    <tr>\n",
       "      <th>2</th>\n",
       "      <td>Organic Strawberries</td>\n",
       "      <td>275577</td>\n",
       "    </tr>\n",
       "    <tr>\n",
       "      <th>3</th>\n",
       "      <td>Organic Baby Spinach</td>\n",
       "      <td>251705</td>\n",
       "    </tr>\n",
       "    <tr>\n",
       "      <th>4</th>\n",
       "      <td>Organic Hass Avocado</td>\n",
       "      <td>220877</td>\n",
       "    </tr>\n",
       "  </tbody>\n",
       "</table>\n",
       "</div>"
      ],
      "text/plain": [
       "             product_name  order_count\n",
       "0                  Banana       491291\n",
       "1  Bag of Organic Bananas       394930\n",
       "2    Organic Strawberries       275577\n",
       "3    Organic Baby Spinach       251705\n",
       "4    Organic Hass Avocado       220877"
      ]
     },
     "execution_count": 83,
     "metadata": {},
     "output_type": "execute_result"
    }
   ],
   "source": [
    "top5_product_ordered.iloc[0:5,[2,1]]"
   ]
  },
  {
   "cell_type": "code",
   "execution_count": 84,
   "metadata": {},
   "outputs": [
    {
     "data": {
      "image/png": "[encoded data removed]",
      "text/plain": [
       "<Figure size 1080x504 with 1 Axes>"
      ]
     },
     "metadata": {
      "needs_background": "light"
     },
     "output_type": "display_data"
    }
   ],
   "source": [
    "plt.figure(figsize=(15,7))\n",
    "plt.title(\"Top 5 Products that are ordered\")\n",
    "plt.bar(top5_product_ordered['product_name'],top5_product_ordered['order_count'],color=['b','g','purple','y','r'])\n",
    "plt.xticks(rotation=0);plt.show()"
   ]
  },
  {
   "cell_type": "code",
   "execution_count": 85,
   "metadata": {},
   "outputs": [
    {
     "data": {
      "text/plain": [
       "24852    415166\n",
       "13176    329275\n",
       "21137    214448\n",
       "21903    194939\n",
       "47209    176173\n",
       "Name: product_id, dtype: int64"
      ]
     },
     "execution_count": 85,
     "metadata": {},
     "output_type": "execute_result"
    }
   ],
   "source": [
    "#top 5 products that are reordered\n",
    "combine_order_products_df['product_id'][combine_order_products_df['reordered']==1].value_counts().head()"
   ]
  },
  {
   "cell_type": "code",
   "execution_count": 86,
   "metadata": {},
   "outputs": [],
   "source": [
    "top5_product_reordered = pd.concat([pd.DataFrame(dict(combine_order_products_df['product_id'][combine_order_products_df[\n",
    "    'reordered']==1].value_counts().head()).keys(), columns=['product_id']),\n",
    "                                    pd.DataFrame(dict(combine_order_products_df['product_id'][combine_order_products_df[\n",
    "                                        'reordered']==1].value_counts().head()).values(), columns=['order_count'])],axis=1)"
   ]
  },
  {
   "cell_type": "code",
   "execution_count": 87,
   "metadata": {},
   "outputs": [],
   "source": [
    "top5_product_reordered =pd.merge(top5_product_reordered,products_df,on='product_id')"
   ]
  },
  {
   "cell_type": "code",
   "execution_count": 88,
   "metadata": {},
   "outputs": [
    {
     "data": {
      "text/html": [
       "<div>\n",
       "<style scoped>\n",
       "    .dataframe tbody tr th:only-of-type {\n",
       "        vertical-align: middle;\n",
       "    }\n",
       "\n",
       "    .dataframe tbody tr th {\n",
       "        vertical-align: top;\n",
       "    }\n",
       "\n",
       "    .dataframe thead th {\n",
       "        text-align: right;\n",
       "    }\n",
       "</style>\n",
       "<table border=\"1\" class=\"dataframe\">\n",
       "  <thead>\n",
       "    <tr style=\"text-align: right;\">\n",
       "      <th></th>\n",
       "      <th>product_name</th>\n",
       "      <th>order_count</th>\n",
       "    </tr>\n",
       "  </thead>\n",
       "  <tbody>\n",
       "    <tr>\n",
       "      <th>0</th>\n",
       "      <td>Banana</td>\n",
       "      <td>415166</td>\n",
       "    </tr>\n",
       "    <tr>\n",
       "      <th>1</th>\n",
       "      <td>Bag of Organic Bananas</td>\n",
       "      <td>329275</td>\n",
       "    </tr>\n",
       "    <tr>\n",
       "      <th>2</th>\n",
       "      <td>Organic Strawberries</td>\n",
       "      <td>214448</td>\n",
       "    </tr>\n",
       "    <tr>\n",
       "      <th>3</th>\n",
       "      <td>Organic Baby Spinach</td>\n",
       "      <td>194939</td>\n",
       "    </tr>\n",
       "    <tr>\n",
       "      <th>4</th>\n",
       "      <td>Organic Hass Avocado</td>\n",
       "      <td>176173</td>\n",
       "    </tr>\n",
       "  </tbody>\n",
       "</table>\n",
       "</div>"
      ],
      "text/plain": [
       "             product_name  order_count\n",
       "0                  Banana       415166\n",
       "1  Bag of Organic Bananas       329275\n",
       "2    Organic Strawberries       214448\n",
       "3    Organic Baby Spinach       194939\n",
       "4    Organic Hass Avocado       176173"
      ]
     },
     "execution_count": 88,
     "metadata": {},
     "output_type": "execute_result"
    }
   ],
   "source": [
    "top5_product_reordered.iloc[0:5,[2,1]]"
   ]
  },
  {
   "cell_type": "code",
   "execution_count": 89,
   "metadata": {},
   "outputs": [
    {
     "data": {
      "image/png": "[encoded data removed]",
      "text/plain": [
       "<Figure size 1080x504 with 1 Axes>"
      ]
     },
     "metadata": {
      "needs_background": "light"
     },
     "output_type": "display_data"
    }
   ],
   "source": [
    "plt.figure(figsize=(15,7))\n",
    "plt.title(\"Top 5 Products that are reordered\")\n",
    "plt.bar(top5_product_reordered['product_name'],top5_product_reordered['order_count'],color=['b','g','purple','y','r'])\n",
    "plt.xticks(rotation=0);plt.show()"
   ]
  },
  {
   "cell_type": "code",
   "execution_count": 90,
   "metadata": {},
   "outputs": [
    {
     "data": {
      "text/html": [
       "<div>\n",
       "<style scoped>\n",
       "    .dataframe tbody tr th:only-of-type {\n",
       "        vertical-align: middle;\n",
       "    }\n",
       "\n",
       "    .dataframe tbody tr th {\n",
       "        vertical-align: top;\n",
       "    }\n",
       "\n",
       "    .dataframe thead th {\n",
       "        text-align: right;\n",
       "    }\n",
       "</style>\n",
       "<table border=\"1\" class=\"dataframe\">\n",
       "  <thead>\n",
       "    <tr style=\"text-align: right;\">\n",
       "      <th></th>\n",
       "      <th>product_id</th>\n",
       "      <th>order_count</th>\n",
       "      <th>product_name</th>\n",
       "      <th>aisle_id</th>\n",
       "      <th>department_id</th>\n",
       "    </tr>\n",
       "  </thead>\n",
       "  <tbody>\n",
       "    <tr>\n",
       "      <th>0</th>\n",
       "      <td>24852</td>\n",
       "      <td>491291</td>\n",
       "      <td>Banana</td>\n",
       "      <td>24</td>\n",
       "      <td>4</td>\n",
       "    </tr>\n",
       "    <tr>\n",
       "      <th>1</th>\n",
       "      <td>13176</td>\n",
       "      <td>394930</td>\n",
       "      <td>Bag of Organic Bananas</td>\n",
       "      <td>24</td>\n",
       "      <td>4</td>\n",
       "    </tr>\n",
       "    <tr>\n",
       "      <th>2</th>\n",
       "      <td>21137</td>\n",
       "      <td>275577</td>\n",
       "      <td>Organic Strawberries</td>\n",
       "      <td>24</td>\n",
       "      <td>4</td>\n",
       "    </tr>\n",
       "    <tr>\n",
       "      <th>3</th>\n",
       "      <td>21903</td>\n",
       "      <td>251705</td>\n",
       "      <td>Organic Baby Spinach</td>\n",
       "      <td>123</td>\n",
       "      <td>4</td>\n",
       "    </tr>\n",
       "    <tr>\n",
       "      <th>4</th>\n",
       "      <td>47209</td>\n",
       "      <td>220877</td>\n",
       "      <td>Organic Hass Avocado</td>\n",
       "      <td>24</td>\n",
       "      <td>4</td>\n",
       "    </tr>\n",
       "  </tbody>\n",
       "</table>\n",
       "</div>"
      ],
      "text/plain": [
       "   product_id  order_count            product_name  aisle_id  department_id\n",
       "0       24852       491291                  Banana        24              4\n",
       "1       13176       394930  Bag of Organic Bananas        24              4\n",
       "2       21137       275577    Organic Strawberries        24              4\n",
       "3       21903       251705    Organic Baby Spinach       123              4\n",
       "4       47209       220877    Organic Hass Avocado        24              4"
      ]
     },
     "execution_count": 90,
     "metadata": {},
     "output_type": "execute_result"
    }
   ],
   "source": [
    "top5_product_ordered"
   ]
  },
  {
   "cell_type": "markdown",
   "metadata": {},
   "source": [
    "# Question 3\n",
    "    3)\tWhat is the reorder ratio for each department?"
   ]
  },
  {
   "cell_type": "code",
   "execution_count": 91,
   "metadata": {},
   "outputs": [],
   "source": [
    "combine_order_product_dept_df = pd.merge(pd.merge(combine_order_products_df,orders_df,on='order_id'),\n",
    "                                         pd.merge(products_df,departments_df,on='department_id'),on='product_id')"
   ]
  },
  {
   "cell_type": "code",
   "execution_count": 92,
   "metadata": {},
   "outputs": [
    {
     "data": {
      "text/html": [
       "<div>\n",
       "<style scoped>\n",
       "    .dataframe tbody tr th:only-of-type {\n",
       "        vertical-align: middle;\n",
       "    }\n",
       "\n",
       "    .dataframe tbody tr th {\n",
       "        vertical-align: top;\n",
       "    }\n",
       "\n",
       "    .dataframe thead th {\n",
       "        text-align: right;\n",
       "    }\n",
       "</style>\n",
       "<table border=\"1\" class=\"dataframe\">\n",
       "  <thead>\n",
       "    <tr style=\"text-align: right;\">\n",
       "      <th></th>\n",
       "      <th>order_id</th>\n",
       "      <th>product_id</th>\n",
       "      <th>add_to_cart_order</th>\n",
       "      <th>reordered</th>\n",
       "      <th>days_since_prior_order</th>\n",
       "      <th>eval_set</th>\n",
       "      <th>order_dow</th>\n",
       "      <th>order_hour_of_day</th>\n",
       "      <th>order_number</th>\n",
       "      <th>user_id</th>\n",
       "      <th>product_name</th>\n",
       "      <th>aisle_id</th>\n",
       "      <th>department_id</th>\n",
       "      <th>department</th>\n",
       "    </tr>\n",
       "  </thead>\n",
       "  <tbody>\n",
       "    <tr>\n",
       "      <th>0</th>\n",
       "      <td>2</td>\n",
       "      <td>33120</td>\n",
       "      <td>1</td>\n",
       "      <td>1</td>\n",
       "      <td>8.0</td>\n",
       "      <td>prior</td>\n",
       "      <td>5</td>\n",
       "      <td>9</td>\n",
       "      <td>3</td>\n",
       "      <td>202279</td>\n",
       "      <td>Organic Egg Whites</td>\n",
       "      <td>86</td>\n",
       "      <td>16</td>\n",
       "      <td>dairy eggs</td>\n",
       "    </tr>\n",
       "    <tr>\n",
       "      <th>1</th>\n",
       "      <td>26</td>\n",
       "      <td>33120</td>\n",
       "      <td>5</td>\n",
       "      <td>0</td>\n",
       "      <td>7.0</td>\n",
       "      <td>prior</td>\n",
       "      <td>0</td>\n",
       "      <td>16</td>\n",
       "      <td>2</td>\n",
       "      <td>153404</td>\n",
       "      <td>Organic Egg Whites</td>\n",
       "      <td>86</td>\n",
       "      <td>16</td>\n",
       "      <td>dairy eggs</td>\n",
       "    </tr>\n",
       "    <tr>\n",
       "      <th>2</th>\n",
       "      <td>327</td>\n",
       "      <td>33120</td>\n",
       "      <td>5</td>\n",
       "      <td>1</td>\n",
       "      <td>8.0</td>\n",
       "      <td>prior</td>\n",
       "      <td>6</td>\n",
       "      <td>9</td>\n",
       "      <td>21</td>\n",
       "      <td>58707</td>\n",
       "      <td>Organic Egg Whites</td>\n",
       "      <td>86</td>\n",
       "      <td>16</td>\n",
       "      <td>dairy eggs</td>\n",
       "    </tr>\n",
       "    <tr>\n",
       "      <th>3</th>\n",
       "      <td>537</td>\n",
       "      <td>33120</td>\n",
       "      <td>2</td>\n",
       "      <td>1</td>\n",
       "      <td>3.0</td>\n",
       "      <td>prior</td>\n",
       "      <td>2</td>\n",
       "      <td>8</td>\n",
       "      <td>15</td>\n",
       "      <td>180135</td>\n",
       "      <td>Organic Egg Whites</td>\n",
       "      <td>86</td>\n",
       "      <td>16</td>\n",
       "      <td>dairy eggs</td>\n",
       "    </tr>\n",
       "    <tr>\n",
       "      <th>4</th>\n",
       "      <td>582</td>\n",
       "      <td>33120</td>\n",
       "      <td>7</td>\n",
       "      <td>1</td>\n",
       "      <td>10.0</td>\n",
       "      <td>prior</td>\n",
       "      <td>2</td>\n",
       "      <td>19</td>\n",
       "      <td>6</td>\n",
       "      <td>193223</td>\n",
       "      <td>Organic Egg Whites</td>\n",
       "      <td>86</td>\n",
       "      <td>16</td>\n",
       "      <td>dairy eggs</td>\n",
       "    </tr>\n",
       "    <tr>\n",
       "      <th>...</th>\n",
       "      <td>...</td>\n",
       "      <td>...</td>\n",
       "      <td>...</td>\n",
       "      <td>...</td>\n",
       "      <td>...</td>\n",
       "      <td>...</td>\n",
       "      <td>...</td>\n",
       "      <td>...</td>\n",
       "      <td>...</td>\n",
       "      <td>...</td>\n",
       "      <td>...</td>\n",
       "      <td>...</td>\n",
       "      <td>...</td>\n",
       "      <td>...</td>\n",
       "    </tr>\n",
       "    <tr>\n",
       "      <th>22026603</th>\n",
       "      <td>1999849</td>\n",
       "      <td>26734</td>\n",
       "      <td>3</td>\n",
       "      <td>0</td>\n",
       "      <td>3.0</td>\n",
       "      <td>test</td>\n",
       "      <td>6</td>\n",
       "      <td>18</td>\n",
       "      <td>67</td>\n",
       "      <td>188326</td>\n",
       "      <td>Complete Prenatal System</td>\n",
       "      <td>47</td>\n",
       "      <td>11</td>\n",
       "      <td>personal care</td>\n",
       "    </tr>\n",
       "    <tr>\n",
       "      <th>22026604</th>\n",
       "      <td>3089945</td>\n",
       "      <td>26734</td>\n",
       "      <td>20</td>\n",
       "      <td>0</td>\n",
       "      <td>12.0</td>\n",
       "      <td>test</td>\n",
       "      <td>1</td>\n",
       "      <td>21</td>\n",
       "      <td>5</td>\n",
       "      <td>167393</td>\n",
       "      <td>Complete Prenatal System</td>\n",
       "      <td>47</td>\n",
       "      <td>11</td>\n",
       "      <td>personal care</td>\n",
       "    </tr>\n",
       "    <tr>\n",
       "      <th>22026605</th>\n",
       "      <td>2169250</td>\n",
       "      <td>3718</td>\n",
       "      <td>9</td>\n",
       "      <td>0</td>\n",
       "      <td>26.0</td>\n",
       "      <td>test</td>\n",
       "      <td>6</td>\n",
       "      <td>18</td>\n",
       "      <td>17</td>\n",
       "      <td>153763</td>\n",
       "      <td>Wasabi Cheddar Spreadable Cheese</td>\n",
       "      <td>21</td>\n",
       "      <td>16</td>\n",
       "      <td>dairy eggs</td>\n",
       "    </tr>\n",
       "    <tr>\n",
       "      <th>22026606</th>\n",
       "      <td>2830592</td>\n",
       "      <td>5324</td>\n",
       "      <td>1</td>\n",
       "      <td>0</td>\n",
       "      <td>4.0</td>\n",
       "      <td>test</td>\n",
       "      <td>0</td>\n",
       "      <td>14</td>\n",
       "      <td>80</td>\n",
       "      <td>161928</td>\n",
       "      <td>Peach Cobbler</td>\n",
       "      <td>119</td>\n",
       "      <td>1</td>\n",
       "      <td>frozen</td>\n",
       "    </tr>\n",
       "    <tr>\n",
       "      <th>22026607</th>\n",
       "      <td>2949646</td>\n",
       "      <td>12470</td>\n",
       "      <td>6</td>\n",
       "      <td>0</td>\n",
       "      <td>30.0</td>\n",
       "      <td>test</td>\n",
       "      <td>6</td>\n",
       "      <td>16</td>\n",
       "      <td>4</td>\n",
       "      <td>3156</td>\n",
       "      <td>Rapid Wrinkle Repair Eye Cream</td>\n",
       "      <td>73</td>\n",
       "      <td>11</td>\n",
       "      <td>personal care</td>\n",
       "    </tr>\n",
       "  </tbody>\n",
       "</table>\n",
       "<p>22026608 rows × 14 columns</p>\n",
       "</div>"
      ],
      "text/plain": [
       "          order_id  product_id  add_to_cart_order  reordered  \\\n",
       "0                2       33120                  1          1   \n",
       "1               26       33120                  5          0   \n",
       "2              327       33120                  5          1   \n",
       "3              537       33120                  2          1   \n",
       "4              582       33120                  7          1   \n",
       "...            ...         ...                ...        ...   \n",
       "22026603   1999849       26734                  3          0   \n",
       "22026604   3089945       26734                 20          0   \n",
       "22026605   2169250        3718                  9          0   \n",
       "22026606   2830592        5324                  1          0   \n",
       "22026607   2949646       12470                  6          0   \n",
       "\n",
       "          days_since_prior_order eval_set  order_dow  order_hour_of_day  \\\n",
       "0                            8.0    prior          5                  9   \n",
       "1                            7.0    prior          0                 16   \n",
       "2                            8.0    prior          6                  9   \n",
       "3                            3.0    prior          2                  8   \n",
       "4                           10.0    prior          2                 19   \n",
       "...                          ...      ...        ...                ...   \n",
       "22026603                     3.0     test          6                 18   \n",
       "22026604                    12.0     test          1                 21   \n",
       "22026605                    26.0     test          6                 18   \n",
       "22026606                     4.0     test          0                 14   \n",
       "22026607                    30.0     test          6                 16   \n",
       "\n",
       "          order_number  user_id                      product_name  aisle_id  \\\n",
       "0                    3   202279                Organic Egg Whites        86   \n",
       "1                    2   153404                Organic Egg Whites        86   \n",
       "2                   21    58707                Organic Egg Whites        86   \n",
       "3                   15   180135                Organic Egg Whites        86   \n",
       "4                    6   193223                Organic Egg Whites        86   \n",
       "...                ...      ...                               ...       ...   \n",
       "22026603            67   188326          Complete Prenatal System        47   \n",
       "22026604             5   167393          Complete Prenatal System        47   \n",
       "22026605            17   153763  Wasabi Cheddar Spreadable Cheese        21   \n",
       "22026606            80   161928                     Peach Cobbler       119   \n",
       "22026607             4     3156    Rapid Wrinkle Repair Eye Cream        73   \n",
       "\n",
       "          department_id     department  \n",
       "0                    16     dairy eggs  \n",
       "1                    16     dairy eggs  \n",
       "2                    16     dairy eggs  \n",
       "3                    16     dairy eggs  \n",
       "4                    16     dairy eggs  \n",
       "...                 ...            ...  \n",
       "22026603             11  personal care  \n",
       "22026604             11  personal care  \n",
       "22026605             16     dairy eggs  \n",
       "22026606              1         frozen  \n",
       "22026607             11  personal care  \n",
       "\n",
       "[22026608 rows x 14 columns]"
      ]
     },
     "execution_count": 92,
     "metadata": {},
     "output_type": "execute_result"
    }
   ],
   "source": [
    "combine_order_product_dept_df"
   ]
  },
  {
   "cell_type": "code",
   "execution_count": 93,
   "metadata": {},
   "outputs": [],
   "source": [
    "dept_order_count = pd.concat([pd.DataFrame(dict(combine_order_product_dept_df['department'].value_counts()).keys(),\n",
    "                                         columns=['department']),\n",
    "                            pd.DataFrame(dict(combine_order_product_dept_df['department'].value_counts()).values(),\n",
    "                                         columns=['order_count'])],axis=1)"
   ]
  },
  {
   "cell_type": "code",
   "execution_count": 94,
   "metadata": {},
   "outputs": [],
   "source": [
    "dept_reorder_count = pd.concat([pd.DataFrame(dict(combine_order_product_dept_df['department']\n",
    "                                                  [combine_order_product_dept_df['reordered']==1].value_counts()).keys(),\n",
    "                                         columns=['department']),\n",
    "                            pd.DataFrame(dict(combine_order_product_dept_df['department']\n",
    "                                              [combine_order_product_dept_df['reordered']==1].value_counts()).values(),\n",
    "                                         columns=['reorder_count'])],axis=1)"
   ]
  },
  {
   "cell_type": "code",
   "execution_count": 95,
   "metadata": {},
   "outputs": [],
   "source": [
    "combine_dept_ratio = pd.merge(dept_order_count,dept_reorder_count,on='department')"
   ]
  },
  {
   "cell_type": "code",
   "execution_count": 96,
   "metadata": {},
   "outputs": [],
   "source": [
    "combine_dept_ratio['reorder_ratio']=combine_dept_ratio['reorder_count']/combine_dept_ratio['order_count']"
   ]
  },
  {
   "cell_type": "code",
   "execution_count": 97,
   "metadata": {},
   "outputs": [
    {
     "data": {
      "text/html": [
       "<div>\n",
       "<style scoped>\n",
       "    .dataframe tbody tr th:only-of-type {\n",
       "        vertical-align: middle;\n",
       "    }\n",
       "\n",
       "    .dataframe tbody tr th {\n",
       "        vertical-align: top;\n",
       "    }\n",
       "\n",
       "    .dataframe thead th {\n",
       "        text-align: right;\n",
       "    }\n",
       "</style>\n",
       "<table border=\"1\" class=\"dataframe\">\n",
       "  <thead>\n",
       "    <tr style=\"text-align: right;\">\n",
       "      <th></th>\n",
       "      <th>department_id</th>\n",
       "      <th>department</th>\n",
       "    </tr>\n",
       "  </thead>\n",
       "  <tbody>\n",
       "    <tr>\n",
       "      <th>0</th>\n",
       "      <td>1</td>\n",
       "      <td>frozen</td>\n",
       "    </tr>\n",
       "    <tr>\n",
       "      <th>1</th>\n",
       "      <td>2</td>\n",
       "      <td>other</td>\n",
       "    </tr>\n",
       "    <tr>\n",
       "      <th>2</th>\n",
       "      <td>3</td>\n",
       "      <td>bakery</td>\n",
       "    </tr>\n",
       "    <tr>\n",
       "      <th>3</th>\n",
       "      <td>4</td>\n",
       "      <td>produce</td>\n",
       "    </tr>\n",
       "    <tr>\n",
       "      <th>4</th>\n",
       "      <td>5</td>\n",
       "      <td>alcohol</td>\n",
       "    </tr>\n",
       "    <tr>\n",
       "      <th>5</th>\n",
       "      <td>6</td>\n",
       "      <td>international</td>\n",
       "    </tr>\n",
       "    <tr>\n",
       "      <th>6</th>\n",
       "      <td>7</td>\n",
       "      <td>beverages</td>\n",
       "    </tr>\n",
       "    <tr>\n",
       "      <th>7</th>\n",
       "      <td>8</td>\n",
       "      <td>pets</td>\n",
       "    </tr>\n",
       "    <tr>\n",
       "      <th>8</th>\n",
       "      <td>9</td>\n",
       "      <td>dry goods pasta</td>\n",
       "    </tr>\n",
       "    <tr>\n",
       "      <th>9</th>\n",
       "      <td>10</td>\n",
       "      <td>bulk</td>\n",
       "    </tr>\n",
       "    <tr>\n",
       "      <th>10</th>\n",
       "      <td>11</td>\n",
       "      <td>personal care</td>\n",
       "    </tr>\n",
       "    <tr>\n",
       "      <th>11</th>\n",
       "      <td>12</td>\n",
       "      <td>meat seafood</td>\n",
       "    </tr>\n",
       "    <tr>\n",
       "      <th>12</th>\n",
       "      <td>13</td>\n",
       "      <td>pantry</td>\n",
       "    </tr>\n",
       "    <tr>\n",
       "      <th>13</th>\n",
       "      <td>14</td>\n",
       "      <td>breakfast</td>\n",
       "    </tr>\n",
       "    <tr>\n",
       "      <th>14</th>\n",
       "      <td>15</td>\n",
       "      <td>canned goods</td>\n",
       "    </tr>\n",
       "    <tr>\n",
       "      <th>15</th>\n",
       "      <td>16</td>\n",
       "      <td>dairy eggs</td>\n",
       "    </tr>\n",
       "    <tr>\n",
       "      <th>16</th>\n",
       "      <td>17</td>\n",
       "      <td>household</td>\n",
       "    </tr>\n",
       "    <tr>\n",
       "      <th>17</th>\n",
       "      <td>18</td>\n",
       "      <td>babies</td>\n",
       "    </tr>\n",
       "    <tr>\n",
       "      <th>18</th>\n",
       "      <td>19</td>\n",
       "      <td>snacks</td>\n",
       "    </tr>\n",
       "    <tr>\n",
       "      <th>19</th>\n",
       "      <td>20</td>\n",
       "      <td>deli</td>\n",
       "    </tr>\n",
       "    <tr>\n",
       "      <th>20</th>\n",
       "      <td>21</td>\n",
       "      <td>missing</td>\n",
       "    </tr>\n",
       "  </tbody>\n",
       "</table>\n",
       "</div>"
      ],
      "text/plain": [
       "    department_id       department\n",
       "0               1           frozen\n",
       "1               2            other\n",
       "2               3           bakery\n",
       "3               4          produce\n",
       "4               5          alcohol\n",
       "5               6    international\n",
       "6               7        beverages\n",
       "7               8             pets\n",
       "8               9  dry goods pasta\n",
       "9              10             bulk\n",
       "10             11    personal care\n",
       "11             12     meat seafood\n",
       "12             13           pantry\n",
       "13             14        breakfast\n",
       "14             15     canned goods\n",
       "15             16       dairy eggs\n",
       "16             17        household\n",
       "17             18           babies\n",
       "18             19           snacks\n",
       "19             20             deli\n",
       "20             21          missing"
      ]
     },
     "execution_count": 97,
     "metadata": {},
     "output_type": "execute_result"
    }
   ],
   "source": [
    "departments_df"
   ]
  },
  {
   "cell_type": "code",
   "execution_count": 98,
   "metadata": {},
   "outputs": [
    {
     "data": {
      "text/html": [
       "<div>\n",
       "<style scoped>\n",
       "    .dataframe tbody tr th:only-of-type {\n",
       "        vertical-align: middle;\n",
       "    }\n",
       "\n",
       "    .dataframe tbody tr th {\n",
       "        vertical-align: top;\n",
       "    }\n",
       "\n",
       "    .dataframe thead th {\n",
       "        text-align: right;\n",
       "    }\n",
       "</style>\n",
       "<table border=\"1\" class=\"dataframe\">\n",
       "  <thead>\n",
       "    <tr style=\"text-align: right;\">\n",
       "      <th></th>\n",
       "      <th>department</th>\n",
       "      <th>order_count</th>\n",
       "      <th>reorder_count</th>\n",
       "      <th>reorder_ratio</th>\n",
       "    </tr>\n",
       "  </thead>\n",
       "  <tbody>\n",
       "    <tr>\n",
       "      <th>0</th>\n",
       "      <td>produce</td>\n",
       "      <td>6447546</td>\n",
       "      <td>4194600</td>\n",
       "      <td>0.650573</td>\n",
       "    </tr>\n",
       "    <tr>\n",
       "      <th>1</th>\n",
       "      <td>dairy eggs</td>\n",
       "      <td>3668700</td>\n",
       "      <td>2459739</td>\n",
       "      <td>0.670466</td>\n",
       "    </tr>\n",
       "    <tr>\n",
       "      <th>2</th>\n",
       "      <td>snacks</td>\n",
       "      <td>1949098</td>\n",
       "      <td>1118558</td>\n",
       "      <td>0.573885</td>\n",
       "    </tr>\n",
       "    <tr>\n",
       "      <th>3</th>\n",
       "      <td>beverages</td>\n",
       "      <td>1828653</td>\n",
       "      <td>1196597</td>\n",
       "      <td>0.654360</td>\n",
       "    </tr>\n",
       "    <tr>\n",
       "      <th>4</th>\n",
       "      <td>frozen</td>\n",
       "      <td>1524642</td>\n",
       "      <td>827856</td>\n",
       "      <td>0.542984</td>\n",
       "    </tr>\n",
       "    <tr>\n",
       "      <th>5</th>\n",
       "      <td>pantry</td>\n",
       "      <td>1274907</td>\n",
       "      <td>442601</td>\n",
       "      <td>0.347163</td>\n",
       "    </tr>\n",
       "    <tr>\n",
       "      <th>6</th>\n",
       "      <td>bakery</td>\n",
       "      <td>795949</td>\n",
       "      <td>499504</td>\n",
       "      <td>0.627558</td>\n",
       "    </tr>\n",
       "    <tr>\n",
       "      <th>7</th>\n",
       "      <td>canned goods</td>\n",
       "      <td>726148</td>\n",
       "      <td>333234</td>\n",
       "      <td>0.458906</td>\n",
       "    </tr>\n",
       "    <tr>\n",
       "      <th>8</th>\n",
       "      <td>deli</td>\n",
       "      <td>713827</td>\n",
       "      <td>434253</td>\n",
       "      <td>0.608345</td>\n",
       "    </tr>\n",
       "    <tr>\n",
       "      <th>9</th>\n",
       "      <td>dry goods pasta</td>\n",
       "      <td>591090</td>\n",
       "      <td>273664</td>\n",
       "      <td>0.462982</td>\n",
       "    </tr>\n",
       "    <tr>\n",
       "      <th>10</th>\n",
       "      <td>household</td>\n",
       "      <td>505538</td>\n",
       "      <td>203788</td>\n",
       "      <td>0.403111</td>\n",
       "    </tr>\n",
       "    <tr>\n",
       "      <th>11</th>\n",
       "      <td>breakfast</td>\n",
       "      <td>480996</td>\n",
       "      <td>269970</td>\n",
       "      <td>0.561273</td>\n",
       "    </tr>\n",
       "    <tr>\n",
       "      <th>12</th>\n",
       "      <td>meat seafood</td>\n",
       "      <td>479837</td>\n",
       "      <td>272400</td>\n",
       "      <td>0.567693</td>\n",
       "    </tr>\n",
       "    <tr>\n",
       "      <th>13</th>\n",
       "      <td>personal care</td>\n",
       "      <td>305950</td>\n",
       "      <td>97961</td>\n",
       "      <td>0.320186</td>\n",
       "    </tr>\n",
       "    <tr>\n",
       "      <th>14</th>\n",
       "      <td>babies</td>\n",
       "      <td>285488</td>\n",
       "      <td>164363</td>\n",
       "      <td>0.575726</td>\n",
       "    </tr>\n",
       "    <tr>\n",
       "      <th>15</th>\n",
       "      <td>international</td>\n",
       "      <td>183381</td>\n",
       "      <td>67982</td>\n",
       "      <td>0.370715</td>\n",
       "    </tr>\n",
       "    <tr>\n",
       "      <th>16</th>\n",
       "      <td>alcohol</td>\n",
       "      <td>98203</td>\n",
       "      <td>55323</td>\n",
       "      <td>0.563353</td>\n",
       "    </tr>\n",
       "    <tr>\n",
       "      <th>17</th>\n",
       "      <td>pets</td>\n",
       "      <td>65719</td>\n",
       "      <td>39239</td>\n",
       "      <td>0.597072</td>\n",
       "    </tr>\n",
       "    <tr>\n",
       "      <th>18</th>\n",
       "      <td>missing</td>\n",
       "      <td>52570</td>\n",
       "      <td>20822</td>\n",
       "      <td>0.396081</td>\n",
       "    </tr>\n",
       "    <tr>\n",
       "      <th>19</th>\n",
       "      <td>other</td>\n",
       "      <td>24479</td>\n",
       "      <td>9807</td>\n",
       "      <td>0.400629</td>\n",
       "    </tr>\n",
       "    <tr>\n",
       "      <th>20</th>\n",
       "      <td>bulk</td>\n",
       "      <td>23887</td>\n",
       "      <td>13893</td>\n",
       "      <td>0.581613</td>\n",
       "    </tr>\n",
       "  </tbody>\n",
       "</table>\n",
       "</div>"
      ],
      "text/plain": [
       "         department  order_count  reorder_count  reorder_ratio\n",
       "0           produce      6447546        4194600       0.650573\n",
       "1        dairy eggs      3668700        2459739       0.670466\n",
       "2            snacks      1949098        1118558       0.573885\n",
       "3         beverages      1828653        1196597       0.654360\n",
       "4            frozen      1524642         827856       0.542984\n",
       "5            pantry      1274907         442601       0.347163\n",
       "6            bakery       795949         499504       0.627558\n",
       "7      canned goods       726148         333234       0.458906\n",
       "8              deli       713827         434253       0.608345\n",
       "9   dry goods pasta       591090         273664       0.462982\n",
       "10        household       505538         203788       0.403111\n",
       "11        breakfast       480996         269970       0.561273\n",
       "12     meat seafood       479837         272400       0.567693\n",
       "13    personal care       305950          97961       0.320186\n",
       "14           babies       285488         164363       0.575726\n",
       "15    international       183381          67982       0.370715\n",
       "16          alcohol        98203          55323       0.563353\n",
       "17             pets        65719          39239       0.597072\n",
       "18          missing        52570          20822       0.396081\n",
       "19            other        24479           9807       0.400629\n",
       "20             bulk        23887          13893       0.581613"
      ]
     },
     "execution_count": 98,
     "metadata": {},
     "output_type": "execute_result"
    }
   ],
   "source": [
    "combine_dept_ratio"
   ]
  },
  {
   "cell_type": "code",
   "execution_count": 99,
   "metadata": {},
   "outputs": [
    {
     "name": "stderr",
     "output_type": "stream",
     "text": [
      "C:\\ProgramData\\Anaconda3\\lib\\site-packages\\seaborn\\_decorators.py:43: FutureWarning: Pass the following variables as keyword args: x, y. From version 0.12, the only valid positional argument will be `data`, and passing other arguments without an explicit keyword will result in an error or misinterpretation.\n",
      "  FutureWarning\n"
     ]
    },
    {
     "data": {
      "image/png": "[encoded data removed]",
      "text/plain": [
       "<Figure size 864x576 with 1 Axes>"
      ]
     },
     "metadata": {
      "needs_background": "light"
     },
     "output_type": "display_data"
    }
   ],
   "source": [
    "plt.figure(figsize=(12,8))\n",
    "sns.pointplot(combine_dept_ratio['department'].unique(),combine_dept_ratio['reorder_ratio'])\n",
    "plt.xticks(rotation=45)\n",
    "plt.show()"
   ]
  },
  {
   "cell_type": "code",
   "execution_count": 100,
   "metadata": {},
   "outputs": [
    {
     "data": {
      "text/plain": [
       "11    6563\n",
       "19    6264\n",
       "13    5371\n",
       "7     4365\n",
       "1     4007\n",
       "16    3449\n",
       "17    3085\n",
       "15    2092\n",
       "9     1858\n",
       "4     1684\n",
       "3     1516\n",
       "20    1322\n",
       "21    1258\n",
       "6     1139\n",
       "14    1115\n",
       "18    1081\n",
       "5     1054\n",
       "8      972\n",
       "12     907\n",
       "2      548\n",
       "10      38\n",
       "Name: department_id, dtype: int64"
      ]
     },
     "execution_count": 100,
     "metadata": {},
     "output_type": "execute_result"
    }
   ],
   "source": [
    "products_df['department_id'].value_counts()"
   ]
  },
  {
   "cell_type": "code",
   "execution_count": 101,
   "metadata": {},
   "outputs": [],
   "source": [
    "product_reorder=pd.merge(pd.DataFrame(combine_order_product_dept_df['product_id']\n",
    "                                      [combine_order_product_dept_df['reordered']==1].unique(),columns=['product_id']),\n",
    "                         products_df,on='product_id')"
   ]
  },
  {
   "cell_type": "code",
   "execution_count": 102,
   "metadata": {},
   "outputs": [
    {
     "data": {
      "text/plain": [
       "(43284, 4)"
      ]
     },
     "execution_count": 102,
     "metadata": {},
     "output_type": "execute_result"
    }
   ],
   "source": [
    "product_reorder.shape"
   ]
  },
  {
   "cell_type": "code",
   "execution_count": 199,
   "metadata": {},
   "outputs": [],
   "source": [
    "dept_reorder_ratio=pd.merge(pd.concat([pd.DataFrame(dict(products_df['department_id'].value_counts()).keys(),\n",
    "                                                    columns=['department_id']),\n",
    "                                       pd.DataFrame(dict(products_df['department_id'].value_counts()).values(),\n",
    "                                                    columns=['product_count'])],axis=1),\n",
    "                            pd.concat([pd.DataFrame(dict(product_reorder['department_id'].value_counts()).keys(),\n",
    "                                                    columns=['department_id']),\n",
    "                                       pd.DataFrame(dict(product_reorder['department_id'].value_counts()).values(),\n",
    "                                                    columns=['product_reorder_count'])],axis=1),\n",
    "                            on='department_id')"
   ]
  },
  {
   "cell_type": "code",
   "execution_count": 200,
   "metadata": {},
   "outputs": [],
   "source": [
    "dept_reorder_ratio['reorder_ratio']=dept_reorder_ratio['product_reorder_count']/dept_reorder_ratio['product_count']"
   ]
  },
  {
   "cell_type": "code",
   "execution_count": 201,
   "metadata": {},
   "outputs": [
    {
     "data": {
      "text/html": [
       "<div>\n",
       "<style scoped>\n",
       "    .dataframe tbody tr th:only-of-type {\n",
       "        vertical-align: middle;\n",
       "    }\n",
       "\n",
       "    .dataframe tbody tr th {\n",
       "        vertical-align: top;\n",
       "    }\n",
       "\n",
       "    .dataframe thead th {\n",
       "        text-align: right;\n",
       "    }\n",
       "</style>\n",
       "<table border=\"1\" class=\"dataframe\">\n",
       "  <thead>\n",
       "    <tr style=\"text-align: right;\">\n",
       "      <th></th>\n",
       "      <th>product_id</th>\n",
       "      <th>product_name</th>\n",
       "      <th>aisle_id</th>\n",
       "      <th>department_id</th>\n",
       "    </tr>\n",
       "  </thead>\n",
       "  <tbody>\n",
       "    <tr>\n",
       "      <th>502</th>\n",
       "      <td>503</td>\n",
       "      <td>Wild Rice Blend</td>\n",
       "      <td>68</td>\n",
       "      <td>10</td>\n",
       "    </tr>\n",
       "    <tr>\n",
       "      <th>999</th>\n",
       "      <td>1000</td>\n",
       "      <td>Apricots</td>\n",
       "      <td>18</td>\n",
       "      <td>10</td>\n",
       "    </tr>\n",
       "    <tr>\n",
       "      <th>5160</th>\n",
       "      <td>5161</td>\n",
       "      <td>Dried Mango</td>\n",
       "      <td>18</td>\n",
       "      <td>10</td>\n",
       "    </tr>\n",
       "    <tr>\n",
       "      <th>6193</th>\n",
       "      <td>6194</td>\n",
       "      <td>Organic Red Kidney Beans</td>\n",
       "      <td>68</td>\n",
       "      <td>10</td>\n",
       "    </tr>\n",
       "    <tr>\n",
       "      <th>6454</th>\n",
       "      <td>6455</td>\n",
       "      <td>Organic Magic Muesli</td>\n",
       "      <td>68</td>\n",
       "      <td>10</td>\n",
       "    </tr>\n",
       "    <tr>\n",
       "      <th>7313</th>\n",
       "      <td>7314</td>\n",
       "      <td>Organic Quick Rolled Oats</td>\n",
       "      <td>68</td>\n",
       "      <td>10</td>\n",
       "    </tr>\n",
       "    <tr>\n",
       "      <th>10223</th>\n",
       "      <td>10224</td>\n",
       "      <td>Organic Hunza Golden Raisins</td>\n",
       "      <td>18</td>\n",
       "      <td>10</td>\n",
       "    </tr>\n",
       "    <tr>\n",
       "      <th>10539</th>\n",
       "      <td>10540</td>\n",
       "      <td>Whole Medjool Dates</td>\n",
       "      <td>18</td>\n",
       "      <td>10</td>\n",
       "    </tr>\n",
       "    <tr>\n",
       "      <th>10914</th>\n",
       "      <td>10915</td>\n",
       "      <td>Organic Short Brown Sprouted Rice</td>\n",
       "      <td>68</td>\n",
       "      <td>10</td>\n",
       "    </tr>\n",
       "    <tr>\n",
       "      <th>11324</th>\n",
       "      <td>11325</td>\n",
       "      <td>Organic Hemp Plus Granola</td>\n",
       "      <td>68</td>\n",
       "      <td>10</td>\n",
       "    </tr>\n",
       "    <tr>\n",
       "      <th>12698</th>\n",
       "      <td>12699</td>\n",
       "      <td>Super Nutty Granola</td>\n",
       "      <td>68</td>\n",
       "      <td>10</td>\n",
       "    </tr>\n",
       "    <tr>\n",
       "      <th>14610</th>\n",
       "      <td>14611</td>\n",
       "      <td>Turkish Apricots</td>\n",
       "      <td>18</td>\n",
       "      <td>10</td>\n",
       "    </tr>\n",
       "    <tr>\n",
       "      <th>14664</th>\n",
       "      <td>14665</td>\n",
       "      <td>Organic White Popcorn</td>\n",
       "      <td>18</td>\n",
       "      <td>10</td>\n",
       "    </tr>\n",
       "    <tr>\n",
       "      <th>14984</th>\n",
       "      <td>14985</td>\n",
       "      <td>Organic Raspberry Muesli</td>\n",
       "      <td>68</td>\n",
       "      <td>10</td>\n",
       "    </tr>\n",
       "    <tr>\n",
       "      <th>19065</th>\n",
       "      <td>19066</td>\n",
       "      <td>Organic Wheat Bran</td>\n",
       "      <td>68</td>\n",
       "      <td>10</td>\n",
       "    </tr>\n",
       "    <tr>\n",
       "      <th>19627</th>\n",
       "      <td>19628</td>\n",
       "      <td>Organic Blueberries Package</td>\n",
       "      <td>18</td>\n",
       "      <td>10</td>\n",
       "    </tr>\n",
       "    <tr>\n",
       "      <th>22259</th>\n",
       "      <td>22260</td>\n",
       "      <td>Organic Rolled Oats</td>\n",
       "      <td>68</td>\n",
       "      <td>10</td>\n",
       "    </tr>\n",
       "    <tr>\n",
       "      <th>22826</th>\n",
       "      <td>22827</td>\n",
       "      <td>Organic Black Mission Figs</td>\n",
       "      <td>18</td>\n",
       "      <td>10</td>\n",
       "    </tr>\n",
       "    <tr>\n",
       "      <th>23037</th>\n",
       "      <td>23038</td>\n",
       "      <td>Organic Mung Beans</td>\n",
       "      <td>68</td>\n",
       "      <td>10</td>\n",
       "    </tr>\n",
       "    <tr>\n",
       "      <th>25858</th>\n",
       "      <td>25859</td>\n",
       "      <td>Cranberry Beans</td>\n",
       "      <td>68</td>\n",
       "      <td>10</td>\n",
       "    </tr>\n",
       "    <tr>\n",
       "      <th>27413</th>\n",
       "      <td>27414</td>\n",
       "      <td>Organic Emmer Farro</td>\n",
       "      <td>68</td>\n",
       "      <td>10</td>\n",
       "    </tr>\n",
       "    <tr>\n",
       "      <th>28066</th>\n",
       "      <td>28067</td>\n",
       "      <td>Organic Honey Lavender Granola</td>\n",
       "      <td>68</td>\n",
       "      <td>10</td>\n",
       "    </tr>\n",
       "    <tr>\n",
       "      <th>28654</th>\n",
       "      <td>28655</td>\n",
       "      <td>Crystallized Ginger Chunks</td>\n",
       "      <td>18</td>\n",
       "      <td>10</td>\n",
       "    </tr>\n",
       "    <tr>\n",
       "      <th>30364</th>\n",
       "      <td>30365</td>\n",
       "      <td>Vegetable Chips</td>\n",
       "      <td>18</td>\n",
       "      <td>10</td>\n",
       "    </tr>\n",
       "    <tr>\n",
       "      <th>32231</th>\n",
       "      <td>32232</td>\n",
       "      <td>Organic Roasted Buckwheat (Kasha)</td>\n",
       "      <td>68</td>\n",
       "      <td>10</td>\n",
       "    </tr>\n",
       "    <tr>\n",
       "      <th>38006</th>\n",
       "      <td>38007</td>\n",
       "      <td>Naturally Sweet Plantain Chips</td>\n",
       "      <td>18</td>\n",
       "      <td>10</td>\n",
       "    </tr>\n",
       "    <tr>\n",
       "      <th>38612</th>\n",
       "      <td>38613</td>\n",
       "      <td>Large Ataulfo Mango</td>\n",
       "      <td>68</td>\n",
       "      <td>10</td>\n",
       "    </tr>\n",
       "    <tr>\n",
       "      <th>39652</th>\n",
       "      <td>39653</td>\n",
       "      <td>Organic Split Green Peas</td>\n",
       "      <td>68</td>\n",
       "      <td>10</td>\n",
       "    </tr>\n",
       "    <tr>\n",
       "      <th>40396</th>\n",
       "      <td>40397</td>\n",
       "      <td>Organic Royal Rainbow Quinoa</td>\n",
       "      <td>68</td>\n",
       "      <td>10</td>\n",
       "    </tr>\n",
       "    <tr>\n",
       "      <th>42090</th>\n",
       "      <td>42091</td>\n",
       "      <td>Pesto Sauce</td>\n",
       "      <td>68</td>\n",
       "      <td>10</td>\n",
       "    </tr>\n",
       "    <tr>\n",
       "      <th>42133</th>\n",
       "      <td>42134</td>\n",
       "      <td>Israeli Couscous</td>\n",
       "      <td>68</td>\n",
       "      <td>10</td>\n",
       "    </tr>\n",
       "    <tr>\n",
       "      <th>43209</th>\n",
       "      <td>43210</td>\n",
       "      <td>Rolled Oats</td>\n",
       "      <td>68</td>\n",
       "      <td>10</td>\n",
       "    </tr>\n",
       "    <tr>\n",
       "      <th>43577</th>\n",
       "      <td>43578</td>\n",
       "      <td>Madagascar Pink Rice</td>\n",
       "      <td>68</td>\n",
       "      <td>10</td>\n",
       "    </tr>\n",
       "    <tr>\n",
       "      <th>43768</th>\n",
       "      <td>43769</td>\n",
       "      <td>Organic Pearled Barley</td>\n",
       "      <td>68</td>\n",
       "      <td>10</td>\n",
       "    </tr>\n",
       "    <tr>\n",
       "      <th>45681</th>\n",
       "      <td>45682</td>\n",
       "      <td>Organic Turkish Apricots</td>\n",
       "      <td>68</td>\n",
       "      <td>10</td>\n",
       "    </tr>\n",
       "    <tr>\n",
       "      <th>46888</th>\n",
       "      <td>46889</td>\n",
       "      <td>Organic Brown Basmati Rice</td>\n",
       "      <td>68</td>\n",
       "      <td>10</td>\n",
       "    </tr>\n",
       "    <tr>\n",
       "      <th>47488</th>\n",
       "      <td>47489</td>\n",
       "      <td>Organic Brown Jasmine Rice</td>\n",
       "      <td>68</td>\n",
       "      <td>10</td>\n",
       "    </tr>\n",
       "    <tr>\n",
       "      <th>48777</th>\n",
       "      <td>48778</td>\n",
       "      <td>Fit Super A Juice, Cold Pressed, Carrot/Apple/...</td>\n",
       "      <td>18</td>\n",
       "      <td>10</td>\n",
       "    </tr>\n",
       "  </tbody>\n",
       "</table>\n",
       "</div>"
      ],
      "text/plain": [
       "       product_id                                       product_name  \\\n",
       "502           503                                    Wild Rice Blend   \n",
       "999          1000                                           Apricots   \n",
       "5160         5161                                        Dried Mango   \n",
       "6193         6194                           Organic Red Kidney Beans   \n",
       "6454         6455                               Organic Magic Muesli   \n",
       "7313         7314                          Organic Quick Rolled Oats   \n",
       "10223       10224                       Organic Hunza Golden Raisins   \n",
       "10539       10540                                Whole Medjool Dates   \n",
       "10914       10915                  Organic Short Brown Sprouted Rice   \n",
       "11324       11325                          Organic Hemp Plus Granola   \n",
       "12698       12699                                Super Nutty Granola   \n",
       "14610       14611                                   Turkish Apricots   \n",
       "14664       14665                              Organic White Popcorn   \n",
       "14984       14985                           Organic Raspberry Muesli   \n",
       "19065       19066                                 Organic Wheat Bran   \n",
       "19627       19628                        Organic Blueberries Package   \n",
       "22259       22260                                Organic Rolled Oats   \n",
       "22826       22827                         Organic Black Mission Figs   \n",
       "23037       23038                                 Organic Mung Beans   \n",
       "25858       25859                                    Cranberry Beans   \n",
       "27413       27414                                Organic Emmer Farro   \n",
       "28066       28067                     Organic Honey Lavender Granola   \n",
       "28654       28655                         Crystallized Ginger Chunks   \n",
       "30364       30365                                    Vegetable Chips   \n",
       "32231       32232                  Organic Roasted Buckwheat (Kasha)   \n",
       "38006       38007                     Naturally Sweet Plantain Chips   \n",
       "38612       38613                                Large Ataulfo Mango   \n",
       "39652       39653                           Organic Split Green Peas   \n",
       "40396       40397                       Organic Royal Rainbow Quinoa   \n",
       "42090       42091                                        Pesto Sauce   \n",
       "42133       42134                                   Israeli Couscous   \n",
       "43209       43210                                        Rolled Oats   \n",
       "43577       43578                               Madagascar Pink Rice   \n",
       "43768       43769                             Organic Pearled Barley   \n",
       "45681       45682                           Organic Turkish Apricots   \n",
       "46888       46889                         Organic Brown Basmati Rice   \n",
       "47488       47489                         Organic Brown Jasmine Rice   \n",
       "48777       48778  Fit Super A Juice, Cold Pressed, Carrot/Apple/...   \n",
       "\n",
       "       aisle_id  department_id  \n",
       "502          68             10  \n",
       "999          18             10  \n",
       "5160         18             10  \n",
       "6193         68             10  \n",
       "6454         68             10  \n",
       "7313         68             10  \n",
       "10223        18             10  \n",
       "10539        18             10  \n",
       "10914        68             10  \n",
       "11324        68             10  \n",
       "12698        68             10  \n",
       "14610        18             10  \n",
       "14664        18             10  \n",
       "14984        68             10  \n",
       "19065        68             10  \n",
       "19627        18             10  \n",
       "22259        68             10  \n",
       "22826        18             10  \n",
       "23037        68             10  \n",
       "25858        68             10  \n",
       "27413        68             10  \n",
       "28066        68             10  \n",
       "28654        18             10  \n",
       "30364        18             10  \n",
       "32231        68             10  \n",
       "38006        18             10  \n",
       "38612        68             10  \n",
       "39652        68             10  \n",
       "40396        68             10  \n",
       "42090        68             10  \n",
       "42133        68             10  \n",
       "43209        68             10  \n",
       "43577        68             10  \n",
       "43768        68             10  \n",
       "45681        68             10  \n",
       "46888        68             10  \n",
       "47488        68             10  \n",
       "48777        18             10  "
      ]
     },
     "execution_count": 201,
     "metadata": {},
     "output_type": "execute_result"
    }
   ],
   "source": [
    "products_df[products_df['department_id']==10]"
   ]
  },
  {
   "cell_type": "code",
   "execution_count": 202,
   "metadata": {},
   "outputs": [
    {
     "data": {
      "text/html": [
       "<div>\n",
       "<style scoped>\n",
       "    .dataframe tbody tr th:only-of-type {\n",
       "        vertical-align: middle;\n",
       "    }\n",
       "\n",
       "    .dataframe tbody tr th {\n",
       "        vertical-align: top;\n",
       "    }\n",
       "\n",
       "    .dataframe thead th {\n",
       "        text-align: right;\n",
       "    }\n",
       "</style>\n",
       "<table border=\"1\" class=\"dataframe\">\n",
       "  <thead>\n",
       "    <tr style=\"text-align: right;\">\n",
       "      <th></th>\n",
       "      <th>department_id</th>\n",
       "      <th>product_count</th>\n",
       "      <th>product_reorder_count</th>\n",
       "      <th>reorder_ratio</th>\n",
       "    </tr>\n",
       "  </thead>\n",
       "  <tbody>\n",
       "    <tr>\n",
       "      <th>0</th>\n",
       "      <td>11</td>\n",
       "      <td>6563</td>\n",
       "      <td>4946</td>\n",
       "      <td>0.753619</td>\n",
       "    </tr>\n",
       "    <tr>\n",
       "      <th>1</th>\n",
       "      <td>19</td>\n",
       "      <td>6264</td>\n",
       "      <td>5736</td>\n",
       "      <td>0.915709</td>\n",
       "    </tr>\n",
       "    <tr>\n",
       "      <th>2</th>\n",
       "      <td>13</td>\n",
       "      <td>5371</td>\n",
       "      <td>4412</td>\n",
       "      <td>0.821449</td>\n",
       "    </tr>\n",
       "    <tr>\n",
       "      <th>3</th>\n",
       "      <td>7</td>\n",
       "      <td>4365</td>\n",
       "      <td>3971</td>\n",
       "      <td>0.909737</td>\n",
       "    </tr>\n",
       "    <tr>\n",
       "      <th>4</th>\n",
       "      <td>1</td>\n",
       "      <td>4007</td>\n",
       "      <td>3718</td>\n",
       "      <td>0.927876</td>\n",
       "    </tr>\n",
       "    <tr>\n",
       "      <th>5</th>\n",
       "      <td>16</td>\n",
       "      <td>3449</td>\n",
       "      <td>3294</td>\n",
       "      <td>0.955059</td>\n",
       "    </tr>\n",
       "    <tr>\n",
       "      <th>6</th>\n",
       "      <td>17</td>\n",
       "      <td>3085</td>\n",
       "      <td>2457</td>\n",
       "      <td>0.796434</td>\n",
       "    </tr>\n",
       "    <tr>\n",
       "      <th>7</th>\n",
       "      <td>15</td>\n",
       "      <td>2092</td>\n",
       "      <td>1891</td>\n",
       "      <td>0.903920</td>\n",
       "    </tr>\n",
       "    <tr>\n",
       "      <th>8</th>\n",
       "      <td>9</td>\n",
       "      <td>1858</td>\n",
       "      <td>1667</td>\n",
       "      <td>0.897201</td>\n",
       "    </tr>\n",
       "    <tr>\n",
       "      <th>9</th>\n",
       "      <td>4</td>\n",
       "      <td>1684</td>\n",
       "      <td>1604</td>\n",
       "      <td>0.952494</td>\n",
       "    </tr>\n",
       "    <tr>\n",
       "      <th>10</th>\n",
       "      <td>3</td>\n",
       "      <td>1516</td>\n",
       "      <td>1406</td>\n",
       "      <td>0.927441</td>\n",
       "    </tr>\n",
       "    <tr>\n",
       "      <th>11</th>\n",
       "      <td>20</td>\n",
       "      <td>1322</td>\n",
       "      <td>1237</td>\n",
       "      <td>0.935703</td>\n",
       "    </tr>\n",
       "    <tr>\n",
       "      <th>12</th>\n",
       "      <td>21</td>\n",
       "      <td>1258</td>\n",
       "      <td>890</td>\n",
       "      <td>0.707472</td>\n",
       "    </tr>\n",
       "    <tr>\n",
       "      <th>13</th>\n",
       "      <td>6</td>\n",
       "      <td>1139</td>\n",
       "      <td>973</td>\n",
       "      <td>0.854258</td>\n",
       "    </tr>\n",
       "    <tr>\n",
       "      <th>14</th>\n",
       "      <td>14</td>\n",
       "      <td>1115</td>\n",
       "      <td>1048</td>\n",
       "      <td>0.939910</td>\n",
       "    </tr>\n",
       "    <tr>\n",
       "      <th>15</th>\n",
       "      <td>18</td>\n",
       "      <td>1081</td>\n",
       "      <td>974</td>\n",
       "      <td>0.901018</td>\n",
       "    </tr>\n",
       "    <tr>\n",
       "      <th>16</th>\n",
       "      <td>5</td>\n",
       "      <td>1054</td>\n",
       "      <td>881</td>\n",
       "      <td>0.835863</td>\n",
       "    </tr>\n",
       "    <tr>\n",
       "      <th>17</th>\n",
       "      <td>8</td>\n",
       "      <td>972</td>\n",
       "      <td>894</td>\n",
       "      <td>0.919753</td>\n",
       "    </tr>\n",
       "    <tr>\n",
       "      <th>18</th>\n",
       "      <td>12</td>\n",
       "      <td>907</td>\n",
       "      <td>837</td>\n",
       "      <td>0.922822</td>\n",
       "    </tr>\n",
       "    <tr>\n",
       "      <th>19</th>\n",
       "      <td>2</td>\n",
       "      <td>548</td>\n",
       "      <td>411</td>\n",
       "      <td>0.750000</td>\n",
       "    </tr>\n",
       "    <tr>\n",
       "      <th>20</th>\n",
       "      <td>10</td>\n",
       "      <td>38</td>\n",
       "      <td>37</td>\n",
       "      <td>0.973684</td>\n",
       "    </tr>\n",
       "  </tbody>\n",
       "</table>\n",
       "</div>"
      ],
      "text/plain": [
       "    department_id  product_count  product_reorder_count  reorder_ratio\n",
       "0              11           6563                   4946       0.753619\n",
       "1              19           6264                   5736       0.915709\n",
       "2              13           5371                   4412       0.821449\n",
       "3               7           4365                   3971       0.909737\n",
       "4               1           4007                   3718       0.927876\n",
       "5              16           3449                   3294       0.955059\n",
       "6              17           3085                   2457       0.796434\n",
       "7              15           2092                   1891       0.903920\n",
       "8               9           1858                   1667       0.897201\n",
       "9               4           1684                   1604       0.952494\n",
       "10              3           1516                   1406       0.927441\n",
       "11             20           1322                   1237       0.935703\n",
       "12             21           1258                    890       0.707472\n",
       "13              6           1139                    973       0.854258\n",
       "14             14           1115                   1048       0.939910\n",
       "15             18           1081                    974       0.901018\n",
       "16              5           1054                    881       0.835863\n",
       "17              8            972                    894       0.919753\n",
       "18             12            907                    837       0.922822\n",
       "19              2            548                    411       0.750000\n",
       "20             10             38                     37       0.973684"
      ]
     },
     "execution_count": 202,
     "metadata": {},
     "output_type": "execute_result"
    }
   ],
   "source": [
    "dept_reorder_ratio"
   ]
  },
  {
   "cell_type": "code",
   "execution_count": 203,
   "metadata": {},
   "outputs": [
    {
     "name": "stderr",
     "output_type": "stream",
     "text": [
      "C:\\ProgramData\\Anaconda3\\lib\\site-packages\\seaborn\\_decorators.py:43: FutureWarning: Pass the following variables as keyword args: x, y. From version 0.12, the only valid positional argument will be `data`, and passing other arguments without an explicit keyword will result in an error or misinterpretation.\n",
      "  FutureWarning\n",
      "C:\\ProgramData\\Anaconda3\\lib\\site-packages\\seaborn\\_decorators.py:43: FutureWarning: Pass the following variables as keyword args: x, y. From version 0.12, the only valid positional argument will be `data`, and passing other arguments without an explicit keyword will result in an error or misinterpretation.\n",
      "  FutureWarning\n"
     ]
    },
    {
     "data": {
      "image/png": "[encoded data removed]",
      "text/plain": [
       "<Figure size 864x576 with 1 Axes>"
      ]
     },
     "metadata": {
      "needs_background": "light"
     },
     "output_type": "display_data"
    }
   ],
   "source": [
    "plt.figure(figsize=(12,8))\n",
    "sns.pointplot(dept_reorder_ratio['department_id'].unique(),dept_reorder_ratio['reorder_ratio'],color='r')\n",
    "sns.pointplot(combine_dept_ratio['department'].unique(),combine_dept_ratio['reorder_ratio'],color='b')\n",
    "plt.xticks(rotation=90)\n",
    "plt.show()"
   ]
  },
  {
   "cell_type": "markdown",
   "metadata": {},
   "source": [
    "# Computation of Deparment Ratio\n",
    "1. Re order ratio for each deparment product wise - Reorderd product(department)/Total products(department)\n",
    "2. Mximum reorder ratio - All Rerdered products/ Total Products - of which deaprment "
   ]
  },
  {
   "cell_type": "code",
   "execution_count": 108,
   "metadata": {},
   "outputs": [
    {
     "data": {
      "text/html": [
       "<div>\n",
       "<style scoped>\n",
       "    .dataframe tbody tr th:only-of-type {\n",
       "        vertical-align: middle;\n",
       "    }\n",
       "\n",
       "    .dataframe tbody tr th {\n",
       "        vertical-align: top;\n",
       "    }\n",
       "\n",
       "    .dataframe thead th {\n",
       "        text-align: right;\n",
       "    }\n",
       "</style>\n",
       "<table border=\"1\" class=\"dataframe\">\n",
       "  <thead>\n",
       "    <tr style=\"text-align: right;\">\n",
       "      <th></th>\n",
       "      <th>order_id</th>\n",
       "      <th>product_id</th>\n",
       "      <th>add_to_cart_order</th>\n",
       "      <th>reordered</th>\n",
       "      <th>days_since_prior_order</th>\n",
       "      <th>order_dow</th>\n",
       "      <th>order_hour_of_day</th>\n",
       "      <th>order_number</th>\n",
       "      <th>user_id</th>\n",
       "      <th>aisle_id</th>\n",
       "      <th>department_id</th>\n",
       "    </tr>\n",
       "  </thead>\n",
       "  <tbody>\n",
       "    <tr>\n",
       "      <th>order_id</th>\n",
       "      <td>1.000000</td>\n",
       "      <td>-0.000048</td>\n",
       "      <td>0.000183</td>\n",
       "      <td>0.000002</td>\n",
       "      <td>0.000921</td>\n",
       "      <td>0.002197</td>\n",
       "      <td>0.000615</td>\n",
       "      <td>-0.000253</td>\n",
       "      <td>-0.001295</td>\n",
       "      <td>-0.000185</td>\n",
       "      <td>0.000070</td>\n",
       "    </tr>\n",
       "    <tr>\n",
       "      <th>product_id</th>\n",
       "      <td>-0.000048</td>\n",
       "      <td>1.000000</td>\n",
       "      <td>0.005655</td>\n",
       "      <td>0.003879</td>\n",
       "      <td>0.000789</td>\n",
       "      <td>-0.002636</td>\n",
       "      <td>0.000905</td>\n",
       "      <td>-0.002093</td>\n",
       "      <td>-0.000349</td>\n",
       "      <td>0.001743</td>\n",
       "      <td>-0.028319</td>\n",
       "    </tr>\n",
       "    <tr>\n",
       "      <th>add_to_cart_order</th>\n",
       "      <td>0.000183</td>\n",
       "      <td>0.005655</td>\n",
       "      <td>1.000000</td>\n",
       "      <td>-0.134537</td>\n",
       "      <td>0.053964</td>\n",
       "      <td>-0.008812</td>\n",
       "      <td>-0.014593</td>\n",
       "      <td>-0.004965</td>\n",
       "      <td>0.000962</td>\n",
       "      <td>0.009686</td>\n",
       "      <td>0.028572</td>\n",
       "    </tr>\n",
       "    <tr>\n",
       "      <th>reordered</th>\n",
       "      <td>0.000002</td>\n",
       "      <td>0.003879</td>\n",
       "      <td>-0.134537</td>\n",
       "      <td>1.000000</td>\n",
       "      <td>-0.135318</td>\n",
       "      <td>-0.006986</td>\n",
       "      <td>-0.023055</td>\n",
       "      <td>0.301965</td>\n",
       "      <td>-0.002379</td>\n",
       "      <td>0.004040</td>\n",
       "      <td>-0.040059</td>\n",
       "    </tr>\n",
       "    <tr>\n",
       "      <th>days_since_prior_order</th>\n",
       "      <td>0.000921</td>\n",
       "      <td>0.000789</td>\n",
       "      <td>0.053964</td>\n",
       "      <td>-0.135318</td>\n",
       "      <td>1.000000</td>\n",
       "      <td>-0.030669</td>\n",
       "      <td>0.005324</td>\n",
       "      <td>-0.358705</td>\n",
       "      <td>0.001799</td>\n",
       "      <td>0.005525</td>\n",
       "      <td>-0.000041</td>\n",
       "    </tr>\n",
       "    <tr>\n",
       "      <th>order_dow</th>\n",
       "      <td>0.002197</td>\n",
       "      <td>-0.002636</td>\n",
       "      <td>-0.008812</td>\n",
       "      <td>-0.006986</td>\n",
       "      <td>-0.030669</td>\n",
       "      <td>1.000000</td>\n",
       "      <td>0.011340</td>\n",
       "      <td>0.016310</td>\n",
       "      <td>-0.002182</td>\n",
       "      <td>-0.002137</td>\n",
       "      <td>0.004912</td>\n",
       "    </tr>\n",
       "    <tr>\n",
       "      <th>order_hour_of_day</th>\n",
       "      <td>0.000615</td>\n",
       "      <td>0.000905</td>\n",
       "      <td>-0.014593</td>\n",
       "      <td>-0.023055</td>\n",
       "      <td>0.005324</td>\n",
       "      <td>0.011340</td>\n",
       "      <td>1.000000</td>\n",
       "      <td>-0.039813</td>\n",
       "      <td>-0.000887</td>\n",
       "      <td>-0.001381</td>\n",
       "      <td>-0.008719</td>\n",
       "    </tr>\n",
       "    <tr>\n",
       "      <th>order_number</th>\n",
       "      <td>-0.000253</td>\n",
       "      <td>-0.002093</td>\n",
       "      <td>-0.004965</td>\n",
       "      <td>0.301965</td>\n",
       "      <td>-0.358705</td>\n",
       "      <td>0.016310</td>\n",
       "      <td>-0.039813</td>\n",
       "      <td>1.000000</td>\n",
       "      <td>-0.001349</td>\n",
       "      <td>0.000076</td>\n",
       "      <td>0.000411</td>\n",
       "    </tr>\n",
       "    <tr>\n",
       "      <th>user_id</th>\n",
       "      <td>-0.001295</td>\n",
       "      <td>-0.000349</td>\n",
       "      <td>0.000962</td>\n",
       "      <td>-0.002379</td>\n",
       "      <td>0.001799</td>\n",
       "      <td>-0.002182</td>\n",
       "      <td>-0.000887</td>\n",
       "      <td>-0.001349</td>\n",
       "      <td>1.000000</td>\n",
       "      <td>0.000034</td>\n",
       "      <td>0.000296</td>\n",
       "    </tr>\n",
       "    <tr>\n",
       "      <th>aisle_id</th>\n",
       "      <td>-0.000185</td>\n",
       "      <td>0.001743</td>\n",
       "      <td>0.009686</td>\n",
       "      <td>0.004040</td>\n",
       "      <td>0.005525</td>\n",
       "      <td>-0.002137</td>\n",
       "      <td>-0.001381</td>\n",
       "      <td>0.000076</td>\n",
       "      <td>0.000034</td>\n",
       "      <td>1.000000</td>\n",
       "      <td>0.062743</td>\n",
       "    </tr>\n",
       "    <tr>\n",
       "      <th>department_id</th>\n",
       "      <td>0.000070</td>\n",
       "      <td>-0.028319</td>\n",
       "      <td>0.028572</td>\n",
       "      <td>-0.040059</td>\n",
       "      <td>-0.000041</td>\n",
       "      <td>0.004912</td>\n",
       "      <td>-0.008719</td>\n",
       "      <td>0.000411</td>\n",
       "      <td>0.000296</td>\n",
       "      <td>0.062743</td>\n",
       "      <td>1.000000</td>\n",
       "    </tr>\n",
       "  </tbody>\n",
       "</table>\n",
       "</div>"
      ],
      "text/plain": [
       "                        order_id  product_id  add_to_cart_order  reordered  \\\n",
       "order_id                1.000000   -0.000048           0.000183   0.000002   \n",
       "product_id             -0.000048    1.000000           0.005655   0.003879   \n",
       "add_to_cart_order       0.000183    0.005655           1.000000  -0.134537   \n",
       "reordered               0.000002    0.003879          -0.134537   1.000000   \n",
       "days_since_prior_order  0.000921    0.000789           0.053964  -0.135318   \n",
       "order_dow               0.002197   -0.002636          -0.008812  -0.006986   \n",
       "order_hour_of_day       0.000615    0.000905          -0.014593  -0.023055   \n",
       "order_number           -0.000253   -0.002093          -0.004965   0.301965   \n",
       "user_id                -0.001295   -0.000349           0.000962  -0.002379   \n",
       "aisle_id               -0.000185    0.001743           0.009686   0.004040   \n",
       "department_id           0.000070   -0.028319           0.028572  -0.040059   \n",
       "\n",
       "                        days_since_prior_order  order_dow  order_hour_of_day  \\\n",
       "order_id                              0.000921   0.002197           0.000615   \n",
       "product_id                            0.000789  -0.002636           0.000905   \n",
       "add_to_cart_order                     0.053964  -0.008812          -0.014593   \n",
       "reordered                            -0.135318  -0.006986          -0.023055   \n",
       "days_since_prior_order                1.000000  -0.030669           0.005324   \n",
       "order_dow                            -0.030669   1.000000           0.011340   \n",
       "order_hour_of_day                     0.005324   0.011340           1.000000   \n",
       "order_number                         -0.358705   0.016310          -0.039813   \n",
       "user_id                               0.001799  -0.002182          -0.000887   \n",
       "aisle_id                              0.005525  -0.002137          -0.001381   \n",
       "department_id                        -0.000041   0.004912          -0.008719   \n",
       "\n",
       "                        order_number   user_id  aisle_id  department_id  \n",
       "order_id                   -0.000253 -0.001295 -0.000185       0.000070  \n",
       "product_id                 -0.002093 -0.000349  0.001743      -0.028319  \n",
       "add_to_cart_order          -0.004965  0.000962  0.009686       0.028572  \n",
       "reordered                   0.301965 -0.002379  0.004040      -0.040059  \n",
       "days_since_prior_order     -0.358705  0.001799  0.005525      -0.000041  \n",
       "order_dow                   0.016310 -0.002182 -0.002137       0.004912  \n",
       "order_hour_of_day          -0.039813 -0.000887 -0.001381      -0.008719  \n",
       "order_number                1.000000 -0.001349  0.000076       0.000411  \n",
       "user_id                    -0.001349  1.000000  0.000034       0.000296  \n",
       "aisle_id                    0.000076  0.000034  1.000000       0.062743  \n",
       "department_id               0.000411  0.000296  0.062743       1.000000  "
      ]
     },
     "execution_count": 108,
     "metadata": {},
     "output_type": "execute_result"
    }
   ],
   "source": [
    "combine_order_product_dept_df.corr()"
   ]
  },
  {
   "cell_type": "code",
   "execution_count": 109,
   "metadata": {
    "slideshow": {
     "slide_type": "-"
    }
   },
   "outputs": [
    {
     "data": {
      "image/png": "[encoded data removed]",
      "text/plain": [
       "<Figure size 720x720 with 2 Axes>"
      ]
     },
     "metadata": {
      "needs_background": "light"
     },
     "output_type": "display_data"
    }
   ],
   "source": [
    "plt.figure(figsize=(10,10))\n",
    "sns.heatmap(combine_order_product_dept_df.corr() ,annot=True,cmap='gnuplot_r')\n",
    "plt.show()"
   ]
  },
  {
   "cell_type": "code",
   "execution_count": 110,
   "metadata": {},
   "outputs": [],
   "source": [
    "grp_user_order_df=combine_order_product_dept_df.groupby(['user_id','order_id'])['eval_set'].aggregate('count').reset_index()"
   ]
  },
  {
   "cell_type": "code",
   "execution_count": 111,
   "metadata": {},
   "outputs": [
    {
     "data": {
      "text/plain": [
       "9106      100\n",
       "66328     100\n",
       "16645     100\n",
       "197343    100\n",
       "139038    100\n",
       "         ... \n",
       "149010      4\n",
       "199494      4\n",
       "88299       4\n",
       "39548       4\n",
       "75000       4\n",
       "Name: user_id, Length: 131209, dtype: int64"
      ]
     },
     "execution_count": 111,
     "metadata": {},
     "output_type": "execute_result"
    }
   ],
   "source": [
    "grp_user_order_df['user_id'].value_counts()"
   ]
  },
  {
   "cell_type": "code",
   "execution_count": 112,
   "metadata": {},
   "outputs": [
    {
     "data": {
      "text/html": [
       "<div>\n",
       "<style scoped>\n",
       "    .dataframe tbody tr th:only-of-type {\n",
       "        vertical-align: middle;\n",
       "    }\n",
       "\n",
       "    .dataframe tbody tr th {\n",
       "        vertical-align: top;\n",
       "    }\n",
       "\n",
       "    .dataframe thead th {\n",
       "        text-align: right;\n",
       "    }\n",
       "</style>\n",
       "<table border=\"1\" class=\"dataframe\">\n",
       "  <thead>\n",
       "    <tr style=\"text-align: right;\">\n",
       "      <th></th>\n",
       "      <th>user_id</th>\n",
       "      <th>order_id</th>\n",
       "      <th>eval_set</th>\n",
       "    </tr>\n",
       "  </thead>\n",
       "  <tbody>\n",
       "    <tr>\n",
       "      <th>0</th>\n",
       "      <td>1</td>\n",
       "      <td>431534</td>\n",
       "      <td>8</td>\n",
       "    </tr>\n",
       "    <tr>\n",
       "      <th>1</th>\n",
       "      <td>1</td>\n",
       "      <td>473747</td>\n",
       "      <td>5</td>\n",
       "    </tr>\n",
       "    <tr>\n",
       "      <th>2</th>\n",
       "      <td>1</td>\n",
       "      <td>550135</td>\n",
       "      <td>5</td>\n",
       "    </tr>\n",
       "    <tr>\n",
       "      <th>3</th>\n",
       "      <td>1</td>\n",
       "      <td>1187899</td>\n",
       "      <td>11</td>\n",
       "    </tr>\n",
       "    <tr>\n",
       "      <th>4</th>\n",
       "      <td>1</td>\n",
       "      <td>2254736</td>\n",
       "      <td>5</td>\n",
       "    </tr>\n",
       "    <tr>\n",
       "      <th>...</th>\n",
       "      <td>...</td>\n",
       "      <td>...</td>\n",
       "      <td>...</td>\n",
       "    </tr>\n",
       "    <tr>\n",
       "      <th>2178581</th>\n",
       "      <td>206209</td>\n",
       "      <td>2307371</td>\n",
       "      <td>3</td>\n",
       "    </tr>\n",
       "    <tr>\n",
       "      <th>2178582</th>\n",
       "      <td>206209</td>\n",
       "      <td>2558525</td>\n",
       "      <td>3</td>\n",
       "    </tr>\n",
       "    <tr>\n",
       "      <th>2178583</th>\n",
       "      <td>206209</td>\n",
       "      <td>2977660</td>\n",
       "      <td>9</td>\n",
       "    </tr>\n",
       "    <tr>\n",
       "      <th>2178584</th>\n",
       "      <td>206209</td>\n",
       "      <td>3154581</td>\n",
       "      <td>13</td>\n",
       "    </tr>\n",
       "    <tr>\n",
       "      <th>2178585</th>\n",
       "      <td>206209</td>\n",
       "      <td>3186442</td>\n",
       "      <td>2</td>\n",
       "    </tr>\n",
       "  </tbody>\n",
       "</table>\n",
       "<p>2178586 rows × 3 columns</p>\n",
       "</div>"
      ],
      "text/plain": [
       "         user_id  order_id  eval_set\n",
       "0              1    431534         8\n",
       "1              1    473747         5\n",
       "2              1    550135         5\n",
       "3              1   1187899        11\n",
       "4              1   2254736         5\n",
       "...          ...       ...       ...\n",
       "2178581   206209   2307371         3\n",
       "2178582   206209   2558525         3\n",
       "2178583   206209   2977660         9\n",
       "2178584   206209   3154581        13\n",
       "2178585   206209   3186442         2\n",
       "\n",
       "[2178586 rows x 3 columns]"
      ]
     },
     "execution_count": 112,
     "metadata": {},
     "output_type": "execute_result"
    }
   ],
   "source": [
    "grp_user_order_df"
   ]
  },
  {
   "cell_type": "code",
   "execution_count": 113,
   "metadata": {},
   "outputs": [],
   "source": [
    "grp_user_order_count=pd.concat([pd.DataFrame(dict(grp_user_order_df['user_id'].value_counts()).keys(),\n",
    "                                 columns=['user_id']),\n",
    "                    pd.DataFrame(dict(grp_user_order_df['user_id'].value_counts()).values(),\n",
    "                                 columns=['order_count'])],axis=1)"
   ]
  },
  {
   "cell_type": "code",
   "execution_count": 114,
   "metadata": {},
   "outputs": [
    {
     "name": "stderr",
     "output_type": "stream",
     "text": [
      "C:\\ProgramData\\Anaconda3\\lib\\site-packages\\seaborn\\_decorators.py:43: FutureWarning: Pass the following variable as a keyword arg: x. From version 0.12, the only valid positional argument will be `data`, and passing other arguments without an explicit keyword will result in an error or misinterpretation.\n",
      "  FutureWarning\n"
     ]
    },
    {
     "data": {
      "image/png": "[encoded data removed]",
      "text/plain": [
       "<Figure size 1800x1080 with 1 Axes>"
      ]
     },
     "metadata": {
      "needs_background": "light"
     },
     "output_type": "display_data"
    }
   ],
   "source": [
    "plt.figure(figsize=(25,15))\n",
    "plt.title(\"Frequency of placement of orders by customers\")\n",
    "sns.countplot(grp_user_order_count['order_count'],palette='gist_rainbow')\n",
    "# plt.yticks(np.arange(0,16000,500))\n",
    "plt.show()"
   ]
  },
  {
   "cell_type": "code",
   "execution_count": 115,
   "metadata": {},
   "outputs": [
    {
     "data": {
      "text/plain": [
       "4     15300\n",
       "5     12439\n",
       "6     10337\n",
       "7      8853\n",
       "8      7357\n",
       "      ...  \n",
       "95       39\n",
       "93       33\n",
       "98       31\n",
       "99       31\n",
       "97       30\n",
       "Name: order_count, Length: 97, dtype: int64"
      ]
     },
     "execution_count": 115,
     "metadata": {},
     "output_type": "execute_result"
    }
   ],
   "source": [
    "grp_user_order_count['order_count'].value_counts()"
   ]
  },
  {
   "cell_type": "code",
   "execution_count": 116,
   "metadata": {},
   "outputs": [
    {
     "data": {
      "text/plain": [
       "Index(['order_id', 'product_id', 'add_to_cart_order', 'reordered',\n",
       "       'days_since_prior_order', 'eval_set', 'order_dow', 'order_hour_of_day',\n",
       "       'order_number', 'user_id', 'product_name', 'aisle_id', 'department_id',\n",
       "       'department'],\n",
       "      dtype='object')"
      ]
     },
     "execution_count": 116,
     "metadata": {},
     "output_type": "execute_result"
    }
   ],
   "source": [
    "combine_order_product_dept_df.columns"
   ]
  },
  {
   "cell_type": "code",
   "execution_count": 117,
   "metadata": {},
   "outputs": [],
   "source": [
    "grp_user_days_since_prior_order = combine_order_product_dept_df.groupby(\n",
    "    ['days_since_prior_order','user_id','order_id'])['eval_set'].aggregate('count').reset_index()"
   ]
  },
  {
   "cell_type": "code",
   "execution_count": 118,
   "metadata": {},
   "outputs": [
    {
     "data": {
      "text/plain": [
       "array([ 0.,  1.,  2.,  3.,  4.,  5.,  6.,  7.,  8.,  9., 10., 11., 12.,\n",
       "       13., 14., 15., 16., 17., 18., 19., 20., 21., 22., 23., 24., 25.,\n",
       "       26., 27., 28., 29., 30.])"
      ]
     },
     "execution_count": 118,
     "metadata": {},
     "output_type": "execute_result"
    }
   ],
   "source": [
    "grp_user_days_since_prior_order['days_since_prior_order'].unique()"
   ]
  },
  {
   "cell_type": "code",
   "execution_count": 119,
   "metadata": {},
   "outputs": [
    {
     "data": {
      "text/plain": [
       "30.0    235153\n",
       "7.0     203601\n",
       "6.0     152714\n",
       "4.0     141084\n",
       "3.0     138840\n",
       "5.0     136949\n",
       "2.0     123320\n",
       "8.0     115677\n",
       "1.0      92953\n",
       "9.0      75464\n",
       "14.0     63857\n",
       "10.0     60681\n",
       "13.0     52970\n",
       "11.0     51401\n",
       "12.0     48500\n",
       "0.0      42931\n",
       "15.0     42249\n",
       "16.0     29822\n",
       "21.0     28849\n",
       "17.0     24913\n",
       "20.0     24458\n",
       "18.0     22774\n",
       "19.0     21727\n",
       "22.0     20369\n",
       "28.0     17072\n",
       "23.0     15248\n",
       "27.0     13914\n",
       "24.0     13304\n",
       "29.0     12269\n",
       "25.0     12169\n",
       "26.0     12145\n",
       "Name: days_since_prior_order, dtype: int64"
      ]
     },
     "execution_count": 119,
     "metadata": {},
     "output_type": "execute_result"
    }
   ],
   "source": [
    "grp_user_days_since_prior_order['days_since_prior_order'].value_counts()"
   ]
  },
  {
   "cell_type": "code",
   "execution_count": 120,
   "metadata": {},
   "outputs": [],
   "source": [
    "grp_user_dspo_count=pd.concat([pd.DataFrame(dict(grp_user_days_since_prior_order['days_since_prior_order'].value_counts()\n",
    "                                                ).keys(), columns=['Number of Days']),\n",
    "                    pd.DataFrame(dict(grp_user_days_since_prior_order['days_since_prior_order'].value_counts()).values(),\n",
    "                                 columns=['order_count'])],axis=1)"
   ]
  },
  {
   "cell_type": "code",
   "execution_count": 121,
   "metadata": {},
   "outputs": [
    {
     "data": {
      "text/plain": [
       "30.0    235153\n",
       "7.0     203601\n",
       "6.0     152714\n",
       "4.0     141084\n",
       "3.0     138840\n",
       "5.0     136949\n",
       "2.0     123320\n",
       "8.0     115677\n",
       "1.0      92953\n",
       "9.0      75464\n",
       "14.0     63857\n",
       "10.0     60681\n",
       "13.0     52970\n",
       "11.0     51401\n",
       "12.0     48500\n",
       "0.0      42931\n",
       "15.0     42249\n",
       "16.0     29822\n",
       "21.0     28849\n",
       "17.0     24913\n",
       "20.0     24458\n",
       "18.0     22774\n",
       "19.0     21727\n",
       "22.0     20369\n",
       "28.0     17072\n",
       "23.0     15248\n",
       "27.0     13914\n",
       "24.0     13304\n",
       "29.0     12269\n",
       "25.0     12169\n",
       "26.0     12145\n",
       "Name: days_since_prior_order, dtype: int64"
      ]
     },
     "execution_count": 121,
     "metadata": {},
     "output_type": "execute_result"
    }
   ],
   "source": [
    "orders_df['days_since_prior_order'].value_counts()"
   ]
  },
  {
   "cell_type": "code",
   "execution_count": 122,
   "metadata": {},
   "outputs": [
    {
     "name": "stderr",
     "output_type": "stream",
     "text": [
      "C:\\ProgramData\\Anaconda3\\lib\\site-packages\\seaborn\\_decorators.py:43: FutureWarning: Pass the following variable as a keyword arg: x. From version 0.12, the only valid positional argument will be `data`, and passing other arguments without an explicit keyword will result in an error or misinterpretation.\n",
      "  FutureWarning\n"
     ]
    },
    {
     "data": {
      "image/png": "[encoded data removed]",
      "text/plain": [
       "<Figure size 1152x720 with 1 Axes>"
      ]
     },
     "metadata": {
      "needs_background": "light"
     },
     "output_type": "display_data"
    }
   ],
   "source": [
    "plt.figure(figsize=(16,10))\n",
    "plt.title(\"Distribution of placement of orders by customers\")\n",
    "sns.countplot(orders_df['days_since_prior_order'],palette='rainbow')\n",
    "\n",
    "# plt.bar(grp_user_dspo_count['Number of Days'],\n",
    "#         grp_user_dspo_count['order_count'])\n",
    "plt.yticks(np.arange(0,250000,20000))\n",
    "# plt.xticks(np.arange(0,31,1))\n",
    "plt.show()"
   ]
  },
  {
   "cell_type": "code",
   "execution_count": 123,
   "metadata": {},
   "outputs": [],
   "source": [
    "grp_product_cart_order = combine_order_product_dept_df.groupby(\n",
    "    ['product_name','add_to_cart_order'])['eval_set'].aggregate('count').reset_index()"
   ]
  },
  {
   "cell_type": "code",
   "execution_count": 124,
   "metadata": {},
   "outputs": [
    {
     "data": {
      "text/html": [
       "<div>\n",
       "<style scoped>\n",
       "    .dataframe tbody tr th:only-of-type {\n",
       "        vertical-align: middle;\n",
       "    }\n",
       "\n",
       "    .dataframe tbody tr th {\n",
       "        vertical-align: top;\n",
       "    }\n",
       "\n",
       "    .dataframe thead th {\n",
       "        text-align: right;\n",
       "    }\n",
       "</style>\n",
       "<table border=\"1\" class=\"dataframe\">\n",
       "  <thead>\n",
       "    <tr style=\"text-align: right;\">\n",
       "      <th></th>\n",
       "      <th>product_name</th>\n",
       "      <th>add_to_cart_order</th>\n",
       "      <th>eval_set</th>\n",
       "    </tr>\n",
       "  </thead>\n",
       "  <tbody>\n",
       "    <tr>\n",
       "      <th>62875</th>\n",
       "      <td>Bag of Organic Bananas</td>\n",
       "      <td>1</td>\n",
       "      <td>53392</td>\n",
       "    </tr>\n",
       "    <tr>\n",
       "      <th>62876</th>\n",
       "      <td>Bag of Organic Bananas</td>\n",
       "      <td>2</td>\n",
       "      <td>43544</td>\n",
       "    </tr>\n",
       "    <tr>\n",
       "      <th>62877</th>\n",
       "      <td>Bag of Organic Bananas</td>\n",
       "      <td>3</td>\n",
       "      <td>32866</td>\n",
       "    </tr>\n",
       "    <tr>\n",
       "      <th>62878</th>\n",
       "      <td>Bag of Organic Bananas</td>\n",
       "      <td>4</td>\n",
       "      <td>24705</td>\n",
       "    </tr>\n",
       "    <tr>\n",
       "      <th>62879</th>\n",
       "      <td>Bag of Organic Bananas</td>\n",
       "      <td>5</td>\n",
       "      <td>19320</td>\n",
       "    </tr>\n",
       "    <tr>\n",
       "      <th>62880</th>\n",
       "      <td>Bag of Organic Bananas</td>\n",
       "      <td>6</td>\n",
       "      <td>15114</td>\n",
       "    </tr>\n",
       "    <tr>\n",
       "      <th>62881</th>\n",
       "      <td>Bag of Organic Bananas</td>\n",
       "      <td>7</td>\n",
       "      <td>12096</td>\n",
       "    </tr>\n",
       "    <tr>\n",
       "      <th>67288</th>\n",
       "      <td>Banana</td>\n",
       "      <td>1</td>\n",
       "      <td>75296</td>\n",
       "    </tr>\n",
       "    <tr>\n",
       "      <th>67289</th>\n",
       "      <td>Banana</td>\n",
       "      <td>2</td>\n",
       "      <td>54393</td>\n",
       "    </tr>\n",
       "    <tr>\n",
       "      <th>67290</th>\n",
       "      <td>Banana</td>\n",
       "      <td>3</td>\n",
       "      <td>39541</td>\n",
       "    </tr>\n",
       "    <tr>\n",
       "      <th>67291</th>\n",
       "      <td>Banana</td>\n",
       "      <td>4</td>\n",
       "      <td>29390</td>\n",
       "    </tr>\n",
       "    <tr>\n",
       "      <th>67292</th>\n",
       "      <td>Banana</td>\n",
       "      <td>5</td>\n",
       "      <td>22683</td>\n",
       "    </tr>\n",
       "    <tr>\n",
       "      <th>67293</th>\n",
       "      <td>Banana</td>\n",
       "      <td>6</td>\n",
       "      <td>18280</td>\n",
       "    </tr>\n",
       "    <tr>\n",
       "      <th>67294</th>\n",
       "      <td>Banana</td>\n",
       "      <td>7</td>\n",
       "      <td>14812</td>\n",
       "    </tr>\n",
       "    <tr>\n",
       "      <th>67295</th>\n",
       "      <td>Banana</td>\n",
       "      <td>8</td>\n",
       "      <td>11998</td>\n",
       "    </tr>\n",
       "    <tr>\n",
       "      <th>543290</th>\n",
       "      <td>Organic Avocado</td>\n",
       "      <td>1</td>\n",
       "      <td>15365</td>\n",
       "    </tr>\n",
       "    <tr>\n",
       "      <th>543291</th>\n",
       "      <td>Organic Avocado</td>\n",
       "      <td>2</td>\n",
       "      <td>16187</td>\n",
       "    </tr>\n",
       "    <tr>\n",
       "      <th>543292</th>\n",
       "      <td>Organic Avocado</td>\n",
       "      <td>3</td>\n",
       "      <td>13732</td>\n",
       "    </tr>\n",
       "    <tr>\n",
       "      <th>543293</th>\n",
       "      <td>Organic Avocado</td>\n",
       "      <td>4</td>\n",
       "      <td>11831</td>\n",
       "    </tr>\n",
       "    <tr>\n",
       "      <th>543294</th>\n",
       "      <td>Organic Avocado</td>\n",
       "      <td>5</td>\n",
       "      <td>10056</td>\n",
       "    </tr>\n",
       "    <tr>\n",
       "      <th>544464</th>\n",
       "      <td>Organic Baby Spinach</td>\n",
       "      <td>1</td>\n",
       "      <td>15809</td>\n",
       "    </tr>\n",
       "    <tr>\n",
       "      <th>544465</th>\n",
       "      <td>Organic Baby Spinach</td>\n",
       "      <td>2</td>\n",
       "      <td>17094</td>\n",
       "    </tr>\n",
       "    <tr>\n",
       "      <th>544466</th>\n",
       "      <td>Organic Baby Spinach</td>\n",
       "      <td>3</td>\n",
       "      <td>16614</td>\n",
       "    </tr>\n",
       "    <tr>\n",
       "      <th>544467</th>\n",
       "      <td>Organic Baby Spinach</td>\n",
       "      <td>4</td>\n",
       "      <td>15373</td>\n",
       "    </tr>\n",
       "    <tr>\n",
       "      <th>544468</th>\n",
       "      <td>Organic Baby Spinach</td>\n",
       "      <td>5</td>\n",
       "      <td>13742</td>\n",
       "    </tr>\n",
       "    <tr>\n",
       "      <th>544469</th>\n",
       "      <td>Organic Baby Spinach</td>\n",
       "      <td>6</td>\n",
       "      <td>12126</td>\n",
       "    </tr>\n",
       "    <tr>\n",
       "      <th>544470</th>\n",
       "      <td>Organic Baby Spinach</td>\n",
       "      <td>7</td>\n",
       "      <td>10551</td>\n",
       "    </tr>\n",
       "    <tr>\n",
       "      <th>583321</th>\n",
       "      <td>Organic Hass Avocado</td>\n",
       "      <td>1</td>\n",
       "      <td>16259</td>\n",
       "    </tr>\n",
       "    <tr>\n",
       "      <th>583322</th>\n",
       "      <td>Organic Hass Avocado</td>\n",
       "      <td>2</td>\n",
       "      <td>17958</td>\n",
       "    </tr>\n",
       "    <tr>\n",
       "      <th>583323</th>\n",
       "      <td>Organic Hass Avocado</td>\n",
       "      <td>3</td>\n",
       "      <td>16295</td>\n",
       "    </tr>\n",
       "    <tr>\n",
       "      <th>583324</th>\n",
       "      <td>Organic Hass Avocado</td>\n",
       "      <td>4</td>\n",
       "      <td>14160</td>\n",
       "    </tr>\n",
       "    <tr>\n",
       "      <th>583325</th>\n",
       "      <td>Organic Hass Avocado</td>\n",
       "      <td>5</td>\n",
       "      <td>12147</td>\n",
       "    </tr>\n",
       "    <tr>\n",
       "      <th>583326</th>\n",
       "      <td>Organic Hass Avocado</td>\n",
       "      <td>6</td>\n",
       "      <td>10302</td>\n",
       "    </tr>\n",
       "    <tr>\n",
       "      <th>611153</th>\n",
       "      <td>Organic Raspberries</td>\n",
       "      <td>2</td>\n",
       "      <td>10821</td>\n",
       "    </tr>\n",
       "    <tr>\n",
       "      <th>611154</th>\n",
       "      <td>Organic Raspberries</td>\n",
       "      <td>3</td>\n",
       "      <td>10148</td>\n",
       "    </tr>\n",
       "    <tr>\n",
       "      <th>626719</th>\n",
       "      <td>Organic Strawberries</td>\n",
       "      <td>1</td>\n",
       "      <td>18669</td>\n",
       "    </tr>\n",
       "    <tr>\n",
       "      <th>626720</th>\n",
       "      <td>Organic Strawberries</td>\n",
       "      <td>2</td>\n",
       "      <td>19848</td>\n",
       "    </tr>\n",
       "    <tr>\n",
       "      <th>626721</th>\n",
       "      <td>Organic Strawberries</td>\n",
       "      <td>3</td>\n",
       "      <td>18875</td>\n",
       "    </tr>\n",
       "    <tr>\n",
       "      <th>626722</th>\n",
       "      <td>Organic Strawberries</td>\n",
       "      <td>4</td>\n",
       "      <td>17015</td>\n",
       "    </tr>\n",
       "    <tr>\n",
       "      <th>626723</th>\n",
       "      <td>Organic Strawberries</td>\n",
       "      <td>5</td>\n",
       "      <td>14983</td>\n",
       "    </tr>\n",
       "    <tr>\n",
       "      <th>626724</th>\n",
       "      <td>Organic Strawberries</td>\n",
       "      <td>6</td>\n",
       "      <td>12967</td>\n",
       "    </tr>\n",
       "    <tr>\n",
       "      <th>626725</th>\n",
       "      <td>Organic Strawberries</td>\n",
       "      <td>7</td>\n",
       "      <td>11065</td>\n",
       "    </tr>\n",
       "    <tr>\n",
       "      <th>641307</th>\n",
       "      <td>Organic Whole Milk</td>\n",
       "      <td>1</td>\n",
       "      <td>20727</td>\n",
       "    </tr>\n",
       "    <tr>\n",
       "      <th>641308</th>\n",
       "      <td>Organic Whole Milk</td>\n",
       "      <td>2</td>\n",
       "      <td>14011</td>\n",
       "    </tr>\n",
       "    <tr>\n",
       "      <th>641309</th>\n",
       "      <td>Organic Whole Milk</td>\n",
       "      <td>3</td>\n",
       "      <td>10496</td>\n",
       "    </tr>\n",
       "    <tr>\n",
       "      <th>832180</th>\n",
       "      <td>Spring Water</td>\n",
       "      <td>1</td>\n",
       "      <td>11423</td>\n",
       "    </tr>\n",
       "    <tr>\n",
       "      <th>841674</th>\n",
       "      <td>Strawberries</td>\n",
       "      <td>1</td>\n",
       "      <td>11029</td>\n",
       "    </tr>\n",
       "    <tr>\n",
       "      <th>841675</th>\n",
       "      <td>Strawberries</td>\n",
       "      <td>2</td>\n",
       "      <td>11455</td>\n",
       "    </tr>\n",
       "    <tr>\n",
       "      <th>841676</th>\n",
       "      <td>Strawberries</td>\n",
       "      <td>3</td>\n",
       "      <td>10619</td>\n",
       "    </tr>\n",
       "  </tbody>\n",
       "</table>\n",
       "</div>"
      ],
      "text/plain": [
       "                  product_name  add_to_cart_order  eval_set\n",
       "62875   Bag of Organic Bananas                  1     53392\n",
       "62876   Bag of Organic Bananas                  2     43544\n",
       "62877   Bag of Organic Bananas                  3     32866\n",
       "62878   Bag of Organic Bananas                  4     24705\n",
       "62879   Bag of Organic Bananas                  5     19320\n",
       "62880   Bag of Organic Bananas                  6     15114\n",
       "62881   Bag of Organic Bananas                  7     12096\n",
       "67288                   Banana                  1     75296\n",
       "67289                   Banana                  2     54393\n",
       "67290                   Banana                  3     39541\n",
       "67291                   Banana                  4     29390\n",
       "67292                   Banana                  5     22683\n",
       "67293                   Banana                  6     18280\n",
       "67294                   Banana                  7     14812\n",
       "67295                   Banana                  8     11998\n",
       "543290         Organic Avocado                  1     15365\n",
       "543291         Organic Avocado                  2     16187\n",
       "543292         Organic Avocado                  3     13732\n",
       "543293         Organic Avocado                  4     11831\n",
       "543294         Organic Avocado                  5     10056\n",
       "544464    Organic Baby Spinach                  1     15809\n",
       "544465    Organic Baby Spinach                  2     17094\n",
       "544466    Organic Baby Spinach                  3     16614\n",
       "544467    Organic Baby Spinach                  4     15373\n",
       "544468    Organic Baby Spinach                  5     13742\n",
       "544469    Organic Baby Spinach                  6     12126\n",
       "544470    Organic Baby Spinach                  7     10551\n",
       "583321    Organic Hass Avocado                  1     16259\n",
       "583322    Organic Hass Avocado                  2     17958\n",
       "583323    Organic Hass Avocado                  3     16295\n",
       "583324    Organic Hass Avocado                  4     14160\n",
       "583325    Organic Hass Avocado                  5     12147\n",
       "583326    Organic Hass Avocado                  6     10302\n",
       "611153     Organic Raspberries                  2     10821\n",
       "611154     Organic Raspberries                  3     10148\n",
       "626719    Organic Strawberries                  1     18669\n",
       "626720    Organic Strawberries                  2     19848\n",
       "626721    Organic Strawberries                  3     18875\n",
       "626722    Organic Strawberries                  4     17015\n",
       "626723    Organic Strawberries                  5     14983\n",
       "626724    Organic Strawberries                  6     12967\n",
       "626725    Organic Strawberries                  7     11065\n",
       "641307      Organic Whole Milk                  1     20727\n",
       "641308      Organic Whole Milk                  2     14011\n",
       "641309      Organic Whole Milk                  3     10496\n",
       "832180            Spring Water                  1     11423\n",
       "841674            Strawberries                  1     11029\n",
       "841675            Strawberries                  2     11455\n",
       "841676            Strawberries                  3     10619"
      ]
     },
     "execution_count": 124,
     "metadata": {},
     "output_type": "execute_result"
    }
   ],
   "source": [
    "grp_product_cart_order[grp_product_cart_order['eval_set']>10000]"
   ]
  },
  {
   "cell_type": "code",
   "execution_count": 125,
   "metadata": {},
   "outputs": [
    {
     "data": {
      "text/html": [
       "<div>\n",
       "<style scoped>\n",
       "    .dataframe tbody tr th:only-of-type {\n",
       "        vertical-align: middle;\n",
       "    }\n",
       "\n",
       "    .dataframe tbody tr th {\n",
       "        vertical-align: top;\n",
       "    }\n",
       "\n",
       "    .dataframe thead th {\n",
       "        text-align: right;\n",
       "    }\n",
       "</style>\n",
       "<table border=\"1\" class=\"dataframe\">\n",
       "  <thead>\n",
       "    <tr style=\"text-align: right;\">\n",
       "      <th></th>\n",
       "      <th>product_name</th>\n",
       "      <th>add_to_cart_order</th>\n",
       "      <th>eval_set</th>\n",
       "    </tr>\n",
       "  </thead>\n",
       "  <tbody>\n",
       "    <tr>\n",
       "      <th>0</th>\n",
       "      <td>#2 Coffee Filters</td>\n",
       "      <td>1</td>\n",
       "      <td>63</td>\n",
       "    </tr>\n",
       "    <tr>\n",
       "      <th>1</th>\n",
       "      <td>#2 Coffee Filters</td>\n",
       "      <td>2</td>\n",
       "      <td>45</td>\n",
       "    </tr>\n",
       "    <tr>\n",
       "      <th>2</th>\n",
       "      <td>#2 Coffee Filters</td>\n",
       "      <td>3</td>\n",
       "      <td>41</td>\n",
       "    </tr>\n",
       "    <tr>\n",
       "      <th>3</th>\n",
       "      <td>#2 Coffee Filters</td>\n",
       "      <td>4</td>\n",
       "      <td>36</td>\n",
       "    </tr>\n",
       "    <tr>\n",
       "      <th>4</th>\n",
       "      <td>#2 Coffee Filters</td>\n",
       "      <td>5</td>\n",
       "      <td>23</td>\n",
       "    </tr>\n",
       "    <tr>\n",
       "      <th>...</th>\n",
       "      <td>...</td>\n",
       "      <td>...</td>\n",
       "      <td>...</td>\n",
       "    </tr>\n",
       "    <tr>\n",
       "      <th>971009</th>\n",
       "      <td>with a Splash of Pineapple Coconut Water</td>\n",
       "      <td>16</td>\n",
       "      <td>3</td>\n",
       "    </tr>\n",
       "    <tr>\n",
       "      <th>971010</th>\n",
       "      <td>with a Splash of Pineapple Coconut Water</td>\n",
       "      <td>17</td>\n",
       "      <td>1</td>\n",
       "    </tr>\n",
       "    <tr>\n",
       "      <th>971011</th>\n",
       "      <td>with a Splash of Pineapple Coconut Water</td>\n",
       "      <td>20</td>\n",
       "      <td>1</td>\n",
       "    </tr>\n",
       "    <tr>\n",
       "      <th>971012</th>\n",
       "      <td>with a Splash of Pineapple Coconut Water</td>\n",
       "      <td>22</td>\n",
       "      <td>1</td>\n",
       "    </tr>\n",
       "    <tr>\n",
       "      <th>971013</th>\n",
       "      <td>with a Splash of Pineapple Coconut Water</td>\n",
       "      <td>23</td>\n",
       "      <td>1</td>\n",
       "    </tr>\n",
       "  </tbody>\n",
       "</table>\n",
       "<p>971014 rows × 3 columns</p>\n",
       "</div>"
      ],
      "text/plain": [
       "                                    product_name  add_to_cart_order  eval_set\n",
       "0                              #2 Coffee Filters                  1        63\n",
       "1                              #2 Coffee Filters                  2        45\n",
       "2                              #2 Coffee Filters                  3        41\n",
       "3                              #2 Coffee Filters                  4        36\n",
       "4                              #2 Coffee Filters                  5        23\n",
       "...                                          ...                ...       ...\n",
       "971009  with a Splash of Pineapple Coconut Water                 16         3\n",
       "971010  with a Splash of Pineapple Coconut Water                 17         1\n",
       "971011  with a Splash of Pineapple Coconut Water                 20         1\n",
       "971012  with a Splash of Pineapple Coconut Water                 22         1\n",
       "971013  with a Splash of Pineapple Coconut Water                 23         1\n",
       "\n",
       "[971014 rows x 3 columns]"
      ]
     },
     "execution_count": 125,
     "metadata": {},
     "output_type": "execute_result"
    }
   ],
   "source": [
    "grp_product_cart_order"
   ]
  },
  {
   "cell_type": "code",
   "execution_count": 126,
   "metadata": {},
   "outputs": [
    {
     "data": {
      "text/html": [
       "<div>\n",
       "<style scoped>\n",
       "    .dataframe tbody tr th:only-of-type {\n",
       "        vertical-align: middle;\n",
       "    }\n",
       "\n",
       "    .dataframe tbody tr th {\n",
       "        vertical-align: top;\n",
       "    }\n",
       "\n",
       "    .dataframe thead th {\n",
       "        text-align: right;\n",
       "    }\n",
       "</style>\n",
       "<table border=\"1\" class=\"dataframe\">\n",
       "  <thead>\n",
       "    <tr style=\"text-align: right;\">\n",
       "      <th></th>\n",
       "      <th>product_name</th>\n",
       "      <th>add_to_cart_order</th>\n",
       "      <th>eval_set</th>\n",
       "    </tr>\n",
       "  </thead>\n",
       "  <tbody>\n",
       "    <tr>\n",
       "      <th>62875</th>\n",
       "      <td>Bag of Organic Bananas</td>\n",
       "      <td>1</td>\n",
       "      <td>53392</td>\n",
       "    </tr>\n",
       "    <tr>\n",
       "      <th>62876</th>\n",
       "      <td>Bag of Organic Bananas</td>\n",
       "      <td>2</td>\n",
       "      <td>43544</td>\n",
       "    </tr>\n",
       "    <tr>\n",
       "      <th>62877</th>\n",
       "      <td>Bag of Organic Bananas</td>\n",
       "      <td>3</td>\n",
       "      <td>32866</td>\n",
       "    </tr>\n",
       "    <tr>\n",
       "      <th>62878</th>\n",
       "      <td>Bag of Organic Bananas</td>\n",
       "      <td>4</td>\n",
       "      <td>24705</td>\n",
       "    </tr>\n",
       "    <tr>\n",
       "      <th>62879</th>\n",
       "      <td>Bag of Organic Bananas</td>\n",
       "      <td>5</td>\n",
       "      <td>19320</td>\n",
       "    </tr>\n",
       "    <tr>\n",
       "      <th>62880</th>\n",
       "      <td>Bag of Organic Bananas</td>\n",
       "      <td>6</td>\n",
       "      <td>15114</td>\n",
       "    </tr>\n",
       "    <tr>\n",
       "      <th>62881</th>\n",
       "      <td>Bag of Organic Bananas</td>\n",
       "      <td>7</td>\n",
       "      <td>12096</td>\n",
       "    </tr>\n",
       "    <tr>\n",
       "      <th>67288</th>\n",
       "      <td>Banana</td>\n",
       "      <td>1</td>\n",
       "      <td>75296</td>\n",
       "    </tr>\n",
       "    <tr>\n",
       "      <th>67289</th>\n",
       "      <td>Banana</td>\n",
       "      <td>2</td>\n",
       "      <td>54393</td>\n",
       "    </tr>\n",
       "    <tr>\n",
       "      <th>67290</th>\n",
       "      <td>Banana</td>\n",
       "      <td>3</td>\n",
       "      <td>39541</td>\n",
       "    </tr>\n",
       "    <tr>\n",
       "      <th>67291</th>\n",
       "      <td>Banana</td>\n",
       "      <td>4</td>\n",
       "      <td>29390</td>\n",
       "    </tr>\n",
       "    <tr>\n",
       "      <th>67292</th>\n",
       "      <td>Banana</td>\n",
       "      <td>5</td>\n",
       "      <td>22683</td>\n",
       "    </tr>\n",
       "    <tr>\n",
       "      <th>67293</th>\n",
       "      <td>Banana</td>\n",
       "      <td>6</td>\n",
       "      <td>18280</td>\n",
       "    </tr>\n",
       "    <tr>\n",
       "      <th>67294</th>\n",
       "      <td>Banana</td>\n",
       "      <td>7</td>\n",
       "      <td>14812</td>\n",
       "    </tr>\n",
       "    <tr>\n",
       "      <th>67295</th>\n",
       "      <td>Banana</td>\n",
       "      <td>8</td>\n",
       "      <td>11998</td>\n",
       "    </tr>\n",
       "    <tr>\n",
       "      <th>543290</th>\n",
       "      <td>Organic Avocado</td>\n",
       "      <td>1</td>\n",
       "      <td>15365</td>\n",
       "    </tr>\n",
       "    <tr>\n",
       "      <th>543291</th>\n",
       "      <td>Organic Avocado</td>\n",
       "      <td>2</td>\n",
       "      <td>16187</td>\n",
       "    </tr>\n",
       "    <tr>\n",
       "      <th>543292</th>\n",
       "      <td>Organic Avocado</td>\n",
       "      <td>3</td>\n",
       "      <td>13732</td>\n",
       "    </tr>\n",
       "    <tr>\n",
       "      <th>543293</th>\n",
       "      <td>Organic Avocado</td>\n",
       "      <td>4</td>\n",
       "      <td>11831</td>\n",
       "    </tr>\n",
       "    <tr>\n",
       "      <th>543294</th>\n",
       "      <td>Organic Avocado</td>\n",
       "      <td>5</td>\n",
       "      <td>10056</td>\n",
       "    </tr>\n",
       "    <tr>\n",
       "      <th>544464</th>\n",
       "      <td>Organic Baby Spinach</td>\n",
       "      <td>1</td>\n",
       "      <td>15809</td>\n",
       "    </tr>\n",
       "    <tr>\n",
       "      <th>544465</th>\n",
       "      <td>Organic Baby Spinach</td>\n",
       "      <td>2</td>\n",
       "      <td>17094</td>\n",
       "    </tr>\n",
       "    <tr>\n",
       "      <th>544466</th>\n",
       "      <td>Organic Baby Spinach</td>\n",
       "      <td>3</td>\n",
       "      <td>16614</td>\n",
       "    </tr>\n",
       "    <tr>\n",
       "      <th>544467</th>\n",
       "      <td>Organic Baby Spinach</td>\n",
       "      <td>4</td>\n",
       "      <td>15373</td>\n",
       "    </tr>\n",
       "    <tr>\n",
       "      <th>544468</th>\n",
       "      <td>Organic Baby Spinach</td>\n",
       "      <td>5</td>\n",
       "      <td>13742</td>\n",
       "    </tr>\n",
       "    <tr>\n",
       "      <th>544469</th>\n",
       "      <td>Organic Baby Spinach</td>\n",
       "      <td>6</td>\n",
       "      <td>12126</td>\n",
       "    </tr>\n",
       "    <tr>\n",
       "      <th>544470</th>\n",
       "      <td>Organic Baby Spinach</td>\n",
       "      <td>7</td>\n",
       "      <td>10551</td>\n",
       "    </tr>\n",
       "    <tr>\n",
       "      <th>583321</th>\n",
       "      <td>Organic Hass Avocado</td>\n",
       "      <td>1</td>\n",
       "      <td>16259</td>\n",
       "    </tr>\n",
       "    <tr>\n",
       "      <th>583322</th>\n",
       "      <td>Organic Hass Avocado</td>\n",
       "      <td>2</td>\n",
       "      <td>17958</td>\n",
       "    </tr>\n",
       "    <tr>\n",
       "      <th>583323</th>\n",
       "      <td>Organic Hass Avocado</td>\n",
       "      <td>3</td>\n",
       "      <td>16295</td>\n",
       "    </tr>\n",
       "    <tr>\n",
       "      <th>583324</th>\n",
       "      <td>Organic Hass Avocado</td>\n",
       "      <td>4</td>\n",
       "      <td>14160</td>\n",
       "    </tr>\n",
       "    <tr>\n",
       "      <th>583325</th>\n",
       "      <td>Organic Hass Avocado</td>\n",
       "      <td>5</td>\n",
       "      <td>12147</td>\n",
       "    </tr>\n",
       "    <tr>\n",
       "      <th>583326</th>\n",
       "      <td>Organic Hass Avocado</td>\n",
       "      <td>6</td>\n",
       "      <td>10302</td>\n",
       "    </tr>\n",
       "    <tr>\n",
       "      <th>611153</th>\n",
       "      <td>Organic Raspberries</td>\n",
       "      <td>2</td>\n",
       "      <td>10821</td>\n",
       "    </tr>\n",
       "    <tr>\n",
       "      <th>611154</th>\n",
       "      <td>Organic Raspberries</td>\n",
       "      <td>3</td>\n",
       "      <td>10148</td>\n",
       "    </tr>\n",
       "    <tr>\n",
       "      <th>626719</th>\n",
       "      <td>Organic Strawberries</td>\n",
       "      <td>1</td>\n",
       "      <td>18669</td>\n",
       "    </tr>\n",
       "    <tr>\n",
       "      <th>626720</th>\n",
       "      <td>Organic Strawberries</td>\n",
       "      <td>2</td>\n",
       "      <td>19848</td>\n",
       "    </tr>\n",
       "    <tr>\n",
       "      <th>626721</th>\n",
       "      <td>Organic Strawberries</td>\n",
       "      <td>3</td>\n",
       "      <td>18875</td>\n",
       "    </tr>\n",
       "    <tr>\n",
       "      <th>626722</th>\n",
       "      <td>Organic Strawberries</td>\n",
       "      <td>4</td>\n",
       "      <td>17015</td>\n",
       "    </tr>\n",
       "    <tr>\n",
       "      <th>626723</th>\n",
       "      <td>Organic Strawberries</td>\n",
       "      <td>5</td>\n",
       "      <td>14983</td>\n",
       "    </tr>\n",
       "    <tr>\n",
       "      <th>626724</th>\n",
       "      <td>Organic Strawberries</td>\n",
       "      <td>6</td>\n",
       "      <td>12967</td>\n",
       "    </tr>\n",
       "    <tr>\n",
       "      <th>626725</th>\n",
       "      <td>Organic Strawberries</td>\n",
       "      <td>7</td>\n",
       "      <td>11065</td>\n",
       "    </tr>\n",
       "    <tr>\n",
       "      <th>641307</th>\n",
       "      <td>Organic Whole Milk</td>\n",
       "      <td>1</td>\n",
       "      <td>20727</td>\n",
       "    </tr>\n",
       "    <tr>\n",
       "      <th>641308</th>\n",
       "      <td>Organic Whole Milk</td>\n",
       "      <td>2</td>\n",
       "      <td>14011</td>\n",
       "    </tr>\n",
       "    <tr>\n",
       "      <th>641309</th>\n",
       "      <td>Organic Whole Milk</td>\n",
       "      <td>3</td>\n",
       "      <td>10496</td>\n",
       "    </tr>\n",
       "    <tr>\n",
       "      <th>832180</th>\n",
       "      <td>Spring Water</td>\n",
       "      <td>1</td>\n",
       "      <td>11423</td>\n",
       "    </tr>\n",
       "    <tr>\n",
       "      <th>841674</th>\n",
       "      <td>Strawberries</td>\n",
       "      <td>1</td>\n",
       "      <td>11029</td>\n",
       "    </tr>\n",
       "    <tr>\n",
       "      <th>841675</th>\n",
       "      <td>Strawberries</td>\n",
       "      <td>2</td>\n",
       "      <td>11455</td>\n",
       "    </tr>\n",
       "    <tr>\n",
       "      <th>841676</th>\n",
       "      <td>Strawberries</td>\n",
       "      <td>3</td>\n",
       "      <td>10619</td>\n",
       "    </tr>\n",
       "  </tbody>\n",
       "</table>\n",
       "</div>"
      ],
      "text/plain": [
       "                  product_name  add_to_cart_order  eval_set\n",
       "62875   Bag of Organic Bananas                  1     53392\n",
       "62876   Bag of Organic Bananas                  2     43544\n",
       "62877   Bag of Organic Bananas                  3     32866\n",
       "62878   Bag of Organic Bananas                  4     24705\n",
       "62879   Bag of Organic Bananas                  5     19320\n",
       "62880   Bag of Organic Bananas                  6     15114\n",
       "62881   Bag of Organic Bananas                  7     12096\n",
       "67288                   Banana                  1     75296\n",
       "67289                   Banana                  2     54393\n",
       "67290                   Banana                  3     39541\n",
       "67291                   Banana                  4     29390\n",
       "67292                   Banana                  5     22683\n",
       "67293                   Banana                  6     18280\n",
       "67294                   Banana                  7     14812\n",
       "67295                   Banana                  8     11998\n",
       "543290         Organic Avocado                  1     15365\n",
       "543291         Organic Avocado                  2     16187\n",
       "543292         Organic Avocado                  3     13732\n",
       "543293         Organic Avocado                  4     11831\n",
       "543294         Organic Avocado                  5     10056\n",
       "544464    Organic Baby Spinach                  1     15809\n",
       "544465    Organic Baby Spinach                  2     17094\n",
       "544466    Organic Baby Spinach                  3     16614\n",
       "544467    Organic Baby Spinach                  4     15373\n",
       "544468    Organic Baby Spinach                  5     13742\n",
       "544469    Organic Baby Spinach                  6     12126\n",
       "544470    Organic Baby Spinach                  7     10551\n",
       "583321    Organic Hass Avocado                  1     16259\n",
       "583322    Organic Hass Avocado                  2     17958\n",
       "583323    Organic Hass Avocado                  3     16295\n",
       "583324    Organic Hass Avocado                  4     14160\n",
       "583325    Organic Hass Avocado                  5     12147\n",
       "583326    Organic Hass Avocado                  6     10302\n",
       "611153     Organic Raspberries                  2     10821\n",
       "611154     Organic Raspberries                  3     10148\n",
       "626719    Organic Strawberries                  1     18669\n",
       "626720    Organic Strawberries                  2     19848\n",
       "626721    Organic Strawberries                  3     18875\n",
       "626722    Organic Strawberries                  4     17015\n",
       "626723    Organic Strawberries                  5     14983\n",
       "626724    Organic Strawberries                  6     12967\n",
       "626725    Organic Strawberries                  7     11065\n",
       "641307      Organic Whole Milk                  1     20727\n",
       "641308      Organic Whole Milk                  2     14011\n",
       "641309      Organic Whole Milk                  3     10496\n",
       "832180            Spring Water                  1     11423\n",
       "841674            Strawberries                  1     11029\n",
       "841675            Strawberries                  2     11455\n",
       "841676            Strawberries                  3     10619"
      ]
     },
     "execution_count": 126,
     "metadata": {},
     "output_type": "execute_result"
    }
   ],
   "source": [
    "grp_product_cart_order[(grp_product_cart_order['eval_set']>10000)]"
   ]
  },
  {
   "cell_type": "code",
   "execution_count": 127,
   "metadata": {},
   "outputs": [
    {
     "data": {
      "text/plain": [
       "['Bag of Organic Bananas',\n",
       " 'Banana',\n",
       " 'Organic Avocado',\n",
       " 'Organic Baby Spinach',\n",
       " 'Organic Hass Avocado',\n",
       " 'Organic Raspberries',\n",
       " 'Organic Strawberries',\n",
       " 'Organic Whole Milk',\n",
       " 'Spring Water',\n",
       " 'Strawberries']"
      ]
     },
     "execution_count": 127,
     "metadata": {},
     "output_type": "execute_result"
    }
   ],
   "source": [
    "prod_lst= list(grp_product_cart_order['product_name'][grp_product_cart_order['eval_set']>10000].unique())\n",
    "prod_lst"
   ]
  },
  {
   "cell_type": "markdown",
   "metadata": {},
   "source": [
    "## \n",
    "\n",
    "\n",
    "# 4. Data Preprocessing"
   ]
  },
  {
   "cell_type": "code",
   "execution_count": 128,
   "metadata": {},
   "outputs": [],
   "source": [
    "# train dataset\n",
    "x_tr = pd.merge(order_products_train_df,orders_df,on='order_id')"
   ]
  },
  {
   "cell_type": "code",
   "execution_count": 129,
   "metadata": {},
   "outputs": [
    {
     "data": {
      "text/plain": [
       "(1068168, 10)"
      ]
     },
     "execution_count": 129,
     "metadata": {},
     "output_type": "execute_result"
    }
   ],
   "source": [
    "x_tr.shape"
   ]
  },
  {
   "cell_type": "code",
   "execution_count": 130,
   "metadata": {},
   "outputs": [
    {
     "data": {
      "text/html": [
       "<div>\n",
       "<style scoped>\n",
       "    .dataframe tbody tr th:only-of-type {\n",
       "        vertical-align: middle;\n",
       "    }\n",
       "\n",
       "    .dataframe tbody tr th {\n",
       "        vertical-align: top;\n",
       "    }\n",
       "\n",
       "    .dataframe thead th {\n",
       "        text-align: right;\n",
       "    }\n",
       "</style>\n",
       "<table border=\"1\" class=\"dataframe\">\n",
       "  <thead>\n",
       "    <tr style=\"text-align: right;\">\n",
       "      <th></th>\n",
       "      <th>order_id</th>\n",
       "      <th>product_id</th>\n",
       "      <th>add_to_cart_order</th>\n",
       "      <th>reordered</th>\n",
       "      <th>days_since_prior_order</th>\n",
       "      <th>eval_set</th>\n",
       "      <th>order_dow</th>\n",
       "      <th>order_hour_of_day</th>\n",
       "      <th>order_number</th>\n",
       "      <th>user_id</th>\n",
       "    </tr>\n",
       "  </thead>\n",
       "  <tbody>\n",
       "    <tr>\n",
       "      <th>0</th>\n",
       "      <td>36</td>\n",
       "      <td>39612</td>\n",
       "      <td>1</td>\n",
       "      <td>0</td>\n",
       "      <td>30.0</td>\n",
       "      <td>train</td>\n",
       "      <td>6</td>\n",
       "      <td>18</td>\n",
       "      <td>23</td>\n",
       "      <td>79431</td>\n",
       "    </tr>\n",
       "    <tr>\n",
       "      <th>1</th>\n",
       "      <td>36</td>\n",
       "      <td>19660</td>\n",
       "      <td>2</td>\n",
       "      <td>1</td>\n",
       "      <td>30.0</td>\n",
       "      <td>train</td>\n",
       "      <td>6</td>\n",
       "      <td>18</td>\n",
       "      <td>23</td>\n",
       "      <td>79431</td>\n",
       "    </tr>\n",
       "    <tr>\n",
       "      <th>2</th>\n",
       "      <td>36</td>\n",
       "      <td>49235</td>\n",
       "      <td>3</td>\n",
       "      <td>0</td>\n",
       "      <td>30.0</td>\n",
       "      <td>train</td>\n",
       "      <td>6</td>\n",
       "      <td>18</td>\n",
       "      <td>23</td>\n",
       "      <td>79431</td>\n",
       "    </tr>\n",
       "    <tr>\n",
       "      <th>3</th>\n",
       "      <td>36</td>\n",
       "      <td>43086</td>\n",
       "      <td>4</td>\n",
       "      <td>1</td>\n",
       "      <td>30.0</td>\n",
       "      <td>train</td>\n",
       "      <td>6</td>\n",
       "      <td>18</td>\n",
       "      <td>23</td>\n",
       "      <td>79431</td>\n",
       "    </tr>\n",
       "    <tr>\n",
       "      <th>4</th>\n",
       "      <td>36</td>\n",
       "      <td>46620</td>\n",
       "      <td>5</td>\n",
       "      <td>1</td>\n",
       "      <td>30.0</td>\n",
       "      <td>train</td>\n",
       "      <td>6</td>\n",
       "      <td>18</td>\n",
       "      <td>23</td>\n",
       "      <td>79431</td>\n",
       "    </tr>\n",
       "  </tbody>\n",
       "</table>\n",
       "</div>"
      ],
      "text/plain": [
       "   order_id  product_id  add_to_cart_order  reordered  days_since_prior_order  \\\n",
       "0        36       39612                  1          0                    30.0   \n",
       "1        36       19660                  2          1                    30.0   \n",
       "2        36       49235                  3          0                    30.0   \n",
       "3        36       43086                  4          1                    30.0   \n",
       "4        36       46620                  5          1                    30.0   \n",
       "\n",
       "  eval_set  order_dow  order_hour_of_day  order_number  user_id  \n",
       "0    train          6                 18            23    79431  \n",
       "1    train          6                 18            23    79431  \n",
       "2    train          6                 18            23    79431  \n",
       "3    train          6                 18            23    79431  \n",
       "4    train          6                 18            23    79431  "
      ]
     },
     "execution_count": 130,
     "metadata": {},
     "output_type": "execute_result"
    }
   ],
   "source": [
    "x_tr.head()"
   ]
  },
  {
   "cell_type": "code",
   "execution_count": 131,
   "metadata": {},
   "outputs": [],
   "source": [
    "# x_tr['product_id'] = x_tr['product_id'].astype('category')\n",
    "# x_tr['add_to_cart_order'] = x_tr['add_to_cart_order'].astype('category')\n",
    "# x_tr['reordered'] = x_tr['reordered'].astype('category')\n",
    "# x_tr['days_since_prior_order'] = x_tr['days_since_prior_order'].astype('category')\n",
    "# x_tr['order_dow'] = x_tr['order_dow'].astype('category')\n",
    "# x_tr['order_hour_of_day'] = x_tr['order_hour_of_day'].astype('category')\n",
    "# x_tr['order_number'] = x_tr['order_number'].astype('category')"
   ]
  },
  {
   "cell_type": "code",
   "execution_count": 132,
   "metadata": {},
   "outputs": [],
   "source": [
    "x_train=x_tr.drop(columns=['order_id','reordered','eval_set','user_id'])"
   ]
  },
  {
   "cell_type": "code",
   "execution_count": 133,
   "metadata": {},
   "outputs": [
    {
     "data": {
      "text/html": [
       "<div>\n",
       "<style scoped>\n",
       "    .dataframe tbody tr th:only-of-type {\n",
       "        vertical-align: middle;\n",
       "    }\n",
       "\n",
       "    .dataframe tbody tr th {\n",
       "        vertical-align: top;\n",
       "    }\n",
       "\n",
       "    .dataframe thead th {\n",
       "        text-align: right;\n",
       "    }\n",
       "</style>\n",
       "<table border=\"1\" class=\"dataframe\">\n",
       "  <thead>\n",
       "    <tr style=\"text-align: right;\">\n",
       "      <th></th>\n",
       "      <th>product_id</th>\n",
       "      <th>add_to_cart_order</th>\n",
       "      <th>days_since_prior_order</th>\n",
       "      <th>order_dow</th>\n",
       "      <th>order_hour_of_day</th>\n",
       "      <th>order_number</th>\n",
       "    </tr>\n",
       "  </thead>\n",
       "  <tbody>\n",
       "    <tr>\n",
       "      <th>0</th>\n",
       "      <td>39612</td>\n",
       "      <td>1</td>\n",
       "      <td>30.0</td>\n",
       "      <td>6</td>\n",
       "      <td>18</td>\n",
       "      <td>23</td>\n",
       "    </tr>\n",
       "    <tr>\n",
       "      <th>1</th>\n",
       "      <td>19660</td>\n",
       "      <td>2</td>\n",
       "      <td>30.0</td>\n",
       "      <td>6</td>\n",
       "      <td>18</td>\n",
       "      <td>23</td>\n",
       "    </tr>\n",
       "    <tr>\n",
       "      <th>2</th>\n",
       "      <td>49235</td>\n",
       "      <td>3</td>\n",
       "      <td>30.0</td>\n",
       "      <td>6</td>\n",
       "      <td>18</td>\n",
       "      <td>23</td>\n",
       "    </tr>\n",
       "    <tr>\n",
       "      <th>3</th>\n",
       "      <td>43086</td>\n",
       "      <td>4</td>\n",
       "      <td>30.0</td>\n",
       "      <td>6</td>\n",
       "      <td>18</td>\n",
       "      <td>23</td>\n",
       "    </tr>\n",
       "    <tr>\n",
       "      <th>4</th>\n",
       "      <td>46620</td>\n",
       "      <td>5</td>\n",
       "      <td>30.0</td>\n",
       "      <td>6</td>\n",
       "      <td>18</td>\n",
       "      <td>23</td>\n",
       "    </tr>\n",
       "  </tbody>\n",
       "</table>\n",
       "</div>"
      ],
      "text/plain": [
       "   product_id  add_to_cart_order  days_since_prior_order  order_dow  \\\n",
       "0       39612                  1                    30.0          6   \n",
       "1       19660                  2                    30.0          6   \n",
       "2       49235                  3                    30.0          6   \n",
       "3       43086                  4                    30.0          6   \n",
       "4       46620                  5                    30.0          6   \n",
       "\n",
       "   order_hour_of_day  order_number  \n",
       "0                 18            23  \n",
       "1                 18            23  \n",
       "2                 18            23  \n",
       "3                 18            23  \n",
       "4                 18            23  "
      ]
     },
     "execution_count": 133,
     "metadata": {},
     "output_type": "execute_result"
    }
   ],
   "source": [
    "x_train.head()"
   ]
  },
  {
   "cell_type": "code",
   "execution_count": 134,
   "metadata": {},
   "outputs": [],
   "source": [
    "y_train = x_tr['reordered']"
   ]
  },
  {
   "cell_type": "code",
   "execution_count": 135,
   "metadata": {},
   "outputs": [
    {
     "data": {
      "text/plain": [
       "(1068168,)"
      ]
     },
     "execution_count": 135,
     "metadata": {},
     "output_type": "execute_result"
    }
   ],
   "source": [
    "y_train.shape"
   ]
  },
  {
   "cell_type": "code",
   "execution_count": 136,
   "metadata": {},
   "outputs": [
    {
     "data": {
      "text/plain": [
       "1    639426\n",
       "0    428742\n",
       "Name: reordered, dtype: int64"
      ]
     },
     "execution_count": 136,
     "metadata": {},
     "output_type": "execute_result"
    }
   ],
   "source": [
    "y_train.value_counts()"
   ]
  },
  {
   "cell_type": "code",
   "execution_count": 137,
   "metadata": {},
   "outputs": [],
   "source": [
    "# test dataset\n",
    "x_te = pd.merge(order_products_test_df,orders_df,on='order_id')"
   ]
  },
  {
   "cell_type": "code",
   "execution_count": 138,
   "metadata": {},
   "outputs": [
    {
     "data": {
      "text/plain": [
       "(316449, 10)"
      ]
     },
     "execution_count": 138,
     "metadata": {},
     "output_type": "execute_result"
    }
   ],
   "source": [
    "x_te.shape"
   ]
  },
  {
   "cell_type": "code",
   "execution_count": 139,
   "metadata": {},
   "outputs": [
    {
     "data": {
      "text/html": [
       "<div>\n",
       "<style scoped>\n",
       "    .dataframe tbody tr th:only-of-type {\n",
       "        vertical-align: middle;\n",
       "    }\n",
       "\n",
       "    .dataframe tbody tr th {\n",
       "        vertical-align: top;\n",
       "    }\n",
       "\n",
       "    .dataframe thead th {\n",
       "        text-align: right;\n",
       "    }\n",
       "</style>\n",
       "<table border=\"1\" class=\"dataframe\">\n",
       "  <thead>\n",
       "    <tr style=\"text-align: right;\">\n",
       "      <th></th>\n",
       "      <th>order_id</th>\n",
       "      <th>product_id</th>\n",
       "      <th>add_to_cart_order</th>\n",
       "      <th>reordered</th>\n",
       "      <th>days_since_prior_order</th>\n",
       "      <th>eval_set</th>\n",
       "      <th>order_dow</th>\n",
       "      <th>order_hour_of_day</th>\n",
       "      <th>order_number</th>\n",
       "      <th>user_id</th>\n",
       "    </tr>\n",
       "  </thead>\n",
       "  <tbody>\n",
       "    <tr>\n",
       "      <th>0</th>\n",
       "      <td>1</td>\n",
       "      <td>49302</td>\n",
       "      <td>1</td>\n",
       "      <td>1</td>\n",
       "      <td>9.0</td>\n",
       "      <td>test</td>\n",
       "      <td>4</td>\n",
       "      <td>10</td>\n",
       "      <td>4</td>\n",
       "      <td>112108</td>\n",
       "    </tr>\n",
       "    <tr>\n",
       "      <th>1</th>\n",
       "      <td>1</td>\n",
       "      <td>11109</td>\n",
       "      <td>2</td>\n",
       "      <td>1</td>\n",
       "      <td>9.0</td>\n",
       "      <td>test</td>\n",
       "      <td>4</td>\n",
       "      <td>10</td>\n",
       "      <td>4</td>\n",
       "      <td>112108</td>\n",
       "    </tr>\n",
       "    <tr>\n",
       "      <th>2</th>\n",
       "      <td>1</td>\n",
       "      <td>10246</td>\n",
       "      <td>3</td>\n",
       "      <td>0</td>\n",
       "      <td>9.0</td>\n",
       "      <td>test</td>\n",
       "      <td>4</td>\n",
       "      <td>10</td>\n",
       "      <td>4</td>\n",
       "      <td>112108</td>\n",
       "    </tr>\n",
       "    <tr>\n",
       "      <th>3</th>\n",
       "      <td>1</td>\n",
       "      <td>49683</td>\n",
       "      <td>4</td>\n",
       "      <td>0</td>\n",
       "      <td>9.0</td>\n",
       "      <td>test</td>\n",
       "      <td>4</td>\n",
       "      <td>10</td>\n",
       "      <td>4</td>\n",
       "      <td>112108</td>\n",
       "    </tr>\n",
       "    <tr>\n",
       "      <th>4</th>\n",
       "      <td>1</td>\n",
       "      <td>43633</td>\n",
       "      <td>5</td>\n",
       "      <td>1</td>\n",
       "      <td>9.0</td>\n",
       "      <td>test</td>\n",
       "      <td>4</td>\n",
       "      <td>10</td>\n",
       "      <td>4</td>\n",
       "      <td>112108</td>\n",
       "    </tr>\n",
       "  </tbody>\n",
       "</table>\n",
       "</div>"
      ],
      "text/plain": [
       "   order_id  product_id  add_to_cart_order  reordered  days_since_prior_order  \\\n",
       "0         1       49302                  1          1                     9.0   \n",
       "1         1       11109                  2          1                     9.0   \n",
       "2         1       10246                  3          0                     9.0   \n",
       "3         1       49683                  4          0                     9.0   \n",
       "4         1       43633                  5          1                     9.0   \n",
       "\n",
       "  eval_set  order_dow  order_hour_of_day  order_number  user_id  \n",
       "0     test          4                 10             4   112108  \n",
       "1     test          4                 10             4   112108  \n",
       "2     test          4                 10             4   112108  \n",
       "3     test          4                 10             4   112108  \n",
       "4     test          4                 10             4   112108  "
      ]
     },
     "execution_count": 139,
     "metadata": {},
     "output_type": "execute_result"
    }
   ],
   "source": [
    "x_te.head()"
   ]
  },
  {
   "cell_type": "code",
   "execution_count": 140,
   "metadata": {},
   "outputs": [],
   "source": [
    "# x_te['product_id'] = x_te['product_id'].astype('category')\n",
    "# x_te['add_to_cart_order'] = x_te['add_to_cart_order'].astype('category')\n",
    "# x_te['reordered'] = x_te['reordered'].astype('category')\n",
    "# x_te['days_since_prior_order'] = x_te['days_since_prior_order'].astype('category')\n",
    "# x_te['order_dow'] = x_te['order_dow'].astype('category')\n",
    "# x_te['order_hour_of_day'] = x_te['order_hour_of_day'].astype('category')\n",
    "# x_te['order_number'] = x_te['order_number'].astype('category')"
   ]
  },
  {
   "cell_type": "code",
   "execution_count": 141,
   "metadata": {},
   "outputs": [],
   "source": [
    "x_test=x_te.drop(columns=['order_id','reordered','eval_set','user_id'])"
   ]
  },
  {
   "cell_type": "code",
   "execution_count": 142,
   "metadata": {},
   "outputs": [
    {
     "data": {
      "text/html": [
       "<div>\n",
       "<style scoped>\n",
       "    .dataframe tbody tr th:only-of-type {\n",
       "        vertical-align: middle;\n",
       "    }\n",
       "\n",
       "    .dataframe tbody tr th {\n",
       "        vertical-align: top;\n",
       "    }\n",
       "\n",
       "    .dataframe thead th {\n",
       "        text-align: right;\n",
       "    }\n",
       "</style>\n",
       "<table border=\"1\" class=\"dataframe\">\n",
       "  <thead>\n",
       "    <tr style=\"text-align: right;\">\n",
       "      <th></th>\n",
       "      <th>product_id</th>\n",
       "      <th>add_to_cart_order</th>\n",
       "      <th>days_since_prior_order</th>\n",
       "      <th>order_dow</th>\n",
       "      <th>order_hour_of_day</th>\n",
       "      <th>order_number</th>\n",
       "    </tr>\n",
       "  </thead>\n",
       "  <tbody>\n",
       "    <tr>\n",
       "      <th>0</th>\n",
       "      <td>49302</td>\n",
       "      <td>1</td>\n",
       "      <td>9.0</td>\n",
       "      <td>4</td>\n",
       "      <td>10</td>\n",
       "      <td>4</td>\n",
       "    </tr>\n",
       "    <tr>\n",
       "      <th>1</th>\n",
       "      <td>11109</td>\n",
       "      <td>2</td>\n",
       "      <td>9.0</td>\n",
       "      <td>4</td>\n",
       "      <td>10</td>\n",
       "      <td>4</td>\n",
       "    </tr>\n",
       "    <tr>\n",
       "      <th>2</th>\n",
       "      <td>10246</td>\n",
       "      <td>3</td>\n",
       "      <td>9.0</td>\n",
       "      <td>4</td>\n",
       "      <td>10</td>\n",
       "      <td>4</td>\n",
       "    </tr>\n",
       "    <tr>\n",
       "      <th>3</th>\n",
       "      <td>49683</td>\n",
       "      <td>4</td>\n",
       "      <td>9.0</td>\n",
       "      <td>4</td>\n",
       "      <td>10</td>\n",
       "      <td>4</td>\n",
       "    </tr>\n",
       "    <tr>\n",
       "      <th>4</th>\n",
       "      <td>43633</td>\n",
       "      <td>5</td>\n",
       "      <td>9.0</td>\n",
       "      <td>4</td>\n",
       "      <td>10</td>\n",
       "      <td>4</td>\n",
       "    </tr>\n",
       "  </tbody>\n",
       "</table>\n",
       "</div>"
      ],
      "text/plain": [
       "   product_id  add_to_cart_order  days_since_prior_order  order_dow  \\\n",
       "0       49302                  1                     9.0          4   \n",
       "1       11109                  2                     9.0          4   \n",
       "2       10246                  3                     9.0          4   \n",
       "3       49683                  4                     9.0          4   \n",
       "4       43633                  5                     9.0          4   \n",
       "\n",
       "   order_hour_of_day  order_number  \n",
       "0                 10             4  \n",
       "1                 10             4  \n",
       "2                 10             4  \n",
       "3                 10             4  \n",
       "4                 10             4  "
      ]
     },
     "execution_count": 142,
     "metadata": {},
     "output_type": "execute_result"
    }
   ],
   "source": [
    "x_test.head()"
   ]
  },
  {
   "cell_type": "code",
   "execution_count": 143,
   "metadata": {},
   "outputs": [],
   "source": [
    "y_test = x_te['reordered']"
   ]
  },
  {
   "cell_type": "code",
   "execution_count": 144,
   "metadata": {},
   "outputs": [
    {
     "data": {
      "text/plain": [
       "(316449,)"
      ]
     },
     "execution_count": 144,
     "metadata": {},
     "output_type": "execute_result"
    }
   ],
   "source": [
    "y_test.shape"
   ]
  },
  {
   "cell_type": "code",
   "execution_count": 145,
   "metadata": {},
   "outputs": [
    {
     "data": {
      "text/plain": [
       "1    189398\n",
       "0    127051\n",
       "Name: reordered, dtype: int64"
      ]
     },
     "execution_count": 145,
     "metadata": {},
     "output_type": "execute_result"
    }
   ],
   "source": [
    "y_test.value_counts()"
   ]
  },
  {
   "cell_type": "markdown",
   "metadata": {},
   "source": [
    "## \n",
    "\n",
    "\n",
    "# 5. Model Building\n",
    "    \n",
    "    5.1 Build Logistic Regression\n",
    "    5.2 Naive_bayes\n",
    "    5.3 Build Decision Tree\n",
    "    5.4 Build Random Forest\n",
    "    5.5 AdaBoost\n",
    "    5.6 Gradient Boosting\n",
    "    5.7 Sequential"
   ]
  },
  {
   "cell_type": "markdown",
   "metadata": {},
   "source": [
    "### 5.1 Logistic Regression"
   ]
  },
  {
   "cell_type": "code",
   "execution_count": 146,
   "metadata": {},
   "outputs": [],
   "source": [
    "# performing logistic regression\n",
    "# create logistic regression object\n",
    "lr = LogisticRegression(C=1.0, class_weight=None, dual=False, fit_intercept=True,\n",
    "                   intercept_scaling=1, l1_ratio=None, max_iter=100,\n",
    "                   multi_class='auto', n_jobs=None, penalty='l2',\n",
    "                   random_state=0, solver='lbfgs', tol=0.0001, verbose=0,\n",
    "                   warm_start=False)"
   ]
  },
  {
   "cell_type": "code",
   "execution_count": 147,
   "metadata": {},
   "outputs": [
    {
     "data": {
      "text/plain": [
       "LogisticRegression(random_state=0)"
      ]
     },
     "execution_count": 147,
     "metadata": {},
     "output_type": "execute_result"
    }
   ],
   "source": [
    "# fit the model to the training data\n",
    "lr.fit(x_train,y_train)"
   ]
  },
  {
   "cell_type": "code",
   "execution_count": 148,
   "metadata": {},
   "outputs": [
    {
     "data": {
      "text/plain": [
       "array([1, 1, 1, ..., 1, 1, 1], dtype=int64)"
      ]
     },
     "execution_count": 148,
     "metadata": {},
     "output_type": "execute_result"
    }
   ],
   "source": [
    "# making predictions using the model\n",
    "y_pred_lr = lr.predict(x_test)\n",
    "y_pred_lr"
   ]
  },
  {
   "cell_type": "code",
   "execution_count": 149,
   "metadata": {},
   "outputs": [
    {
     "name": "stdout",
     "output_type": "stream",
     "text": [
      "[[ 45800  81251]\n",
      " [ 29865 159533]]\n"
     ]
    }
   ],
   "source": [
    "# display confusion matrix\n",
    "from sklearn.metrics import confusion_matrix\n",
    "confusion_matrix_df = confusion_matrix(y_test, y_pred_lr)\n",
    "print(confusion_matrix_df)"
   ]
  },
  {
   "cell_type": "code",
   "execution_count": 150,
   "metadata": {},
   "outputs": [
    {
     "name": "stdout",
     "output_type": "stream",
     "text": [
      "Accuracy is : 0.6488660100047717\n",
      "F1 Score is : 0.7417000246407335\n",
      "Precision is : 0.6625564821582829\n",
      "Recall is : 0.8423161807410849\n",
      "Area under the curve is : 0.601400670121981\n"
     ]
    }
   ],
   "source": [
    "# generate model performance metrics\n",
    "\n",
    "accuracy_lr = accuracy_score(y_test,y_pred_lr)\n",
    "f1_lr=f1_score(y_test,y_pred_lr)\n",
    "precision_lr = precision_score(y_test,y_pred_lr)\n",
    "recall_lr = recall_score(y_test,y_pred_lr)\n",
    "roc_auc_lr = roc_auc_score(y_test,y_pred_lr)\n",
    "\n",
    "print('Accuracy is :', accuracy_lr)\n",
    "print('F1 Score is :', f1_lr)\n",
    "print('Precision is :',precision_lr)\n",
    "print('Recall is :',recall_lr)\n",
    "print('Area under the curve is :', roc_auc_lr)"
   ]
  },
  {
   "cell_type": "markdown",
   "metadata": {},
   "source": [
    "# Conclusion for Logistic regression\n",
    "We obtain a good F1 score of 74.17%\n",
    "However, we can further try to improve the obtained accuracy which is 64.89%\n",
    "The recall obtained is good i.e. 84.23% but the precision can be improved which is 66.25%"
   ]
  },
  {
   "cell_type": "code",
   "execution_count": 151,
   "metadata": {},
   "outputs": [
    {
     "data": {
      "image/png": "[encoded data removed]",
      "text/plain": [
       "<Figure size 432x288 with 1 Axes>"
      ]
     },
     "metadata": {
      "needs_background": "light"
     },
     "output_type": "display_data"
    }
   ],
   "source": [
    "# ROC curve\n",
    "\n",
    "logit_roc_auc = roc_auc_score(y_test, y_pred_lr)\n",
    "fpr, tpr, thresholds = roc_curve(y_test, lr.predict_proba(x_test)[:,1])\n",
    "plt.figure()\n",
    "plt.plot(fpr, tpr, label='Logistic Regression (area = %0.2f)' % logit_roc_auc)\n",
    "plt.plot([0, 1], [0, 1],'r--')\n",
    "plt.xlim([0.0, 1.0])\n",
    "plt.ylim([0.0, 1.05])\n",
    "plt.xlabel('False Positive Rate')\n",
    "plt.ylabel('True Positive Rate')\n",
    "plt.title('Receiver operating characteristic')\n",
    "plt.legend(loc=\"lower right\")\n",
    "plt.savefig('Log_ROC')\n",
    "plt.show()"
   ]
  },
  {
   "cell_type": "markdown",
   "metadata": {},
   "source": [
    "### Feature Selection"
   ]
  },
  {
   "cell_type": "code",
   "execution_count": 152,
   "metadata": {},
   "outputs": [],
   "source": [
    "bestfeatures = SelectKBest(score_func=chi2, k='all')\n",
    "fit = bestfeatures.fit(abs(x_train),y_train)"
   ]
  },
  {
   "cell_type": "code",
   "execution_count": 153,
   "metadata": {},
   "outputs": [],
   "source": [
    "dfscores = pd.DataFrame(fit.scores_)\n",
    "dfcolumns = pd.DataFrame(x_train.columns)"
   ]
  },
  {
   "cell_type": "code",
   "execution_count": 154,
   "metadata": {},
   "outputs": [],
   "source": [
    "featurescore = pd.concat([dfcolumns,dfscores],axis=1)\n",
    "featurescore.columns = ['Specs','Score']"
   ]
  },
  {
   "cell_type": "code",
   "execution_count": 155,
   "metadata": {},
   "outputs": [
    {
     "data": {
      "text/html": [
       "<div>\n",
       "<style scoped>\n",
       "    .dataframe tbody tr th:only-of-type {\n",
       "        vertical-align: middle;\n",
       "    }\n",
       "\n",
       "    .dataframe tbody tr th {\n",
       "        vertical-align: top;\n",
       "    }\n",
       "\n",
       "    .dataframe thead th {\n",
       "        text-align: right;\n",
       "    }\n",
       "</style>\n",
       "<table border=\"1\" class=\"dataframe\">\n",
       "  <thead>\n",
       "    <tr style=\"text-align: right;\">\n",
       "      <th></th>\n",
       "      <th>Specs</th>\n",
       "      <th>Score</th>\n",
       "    </tr>\n",
       "  </thead>\n",
       "  <tbody>\n",
       "    <tr>\n",
       "      <th>0</th>\n",
       "      <td>product_id</td>\n",
       "      <td>315592.145570</td>\n",
       "    </tr>\n",
       "    <tr>\n",
       "      <th>1</th>\n",
       "      <td>add_to_cart_order</td>\n",
       "      <td>145518.526485</td>\n",
       "    </tr>\n",
       "    <tr>\n",
       "      <th>2</th>\n",
       "      <td>days_since_prior_order</td>\n",
       "      <td>177294.840133</td>\n",
       "    </tr>\n",
       "    <tr>\n",
       "      <th>3</th>\n",
       "      <td>order_dow</td>\n",
       "      <td>54.046628</td>\n",
       "    </tr>\n",
       "    <tr>\n",
       "      <th>4</th>\n",
       "      <td>order_hour_of_day</td>\n",
       "      <td>441.781680</td>\n",
       "    </tr>\n",
       "    <tr>\n",
       "      <th>5</th>\n",
       "      <td>order_number</td>\n",
       "      <td>868981.026356</td>\n",
       "    </tr>\n",
       "  </tbody>\n",
       "</table>\n",
       "</div>"
      ],
      "text/plain": [
       "                    Specs          Score\n",
       "0              product_id  315592.145570\n",
       "1       add_to_cart_order  145518.526485\n",
       "2  days_since_prior_order  177294.840133\n",
       "3               order_dow      54.046628\n",
       "4       order_hour_of_day     441.781680\n",
       "5            order_number  868981.026356"
      ]
     },
     "execution_count": 155,
     "metadata": {},
     "output_type": "execute_result"
    }
   ],
   "source": [
    "featurescore"
   ]
  },
  {
   "cell_type": "code",
   "execution_count": 156,
   "metadata": {},
   "outputs": [
    {
     "data": {
      "text/html": [
       "<div>\n",
       "<style scoped>\n",
       "    .dataframe tbody tr th:only-of-type {\n",
       "        vertical-align: middle;\n",
       "    }\n",
       "\n",
       "    .dataframe tbody tr th {\n",
       "        vertical-align: top;\n",
       "    }\n",
       "\n",
       "    .dataframe thead th {\n",
       "        text-align: right;\n",
       "    }\n",
       "</style>\n",
       "<table border=\"1\" class=\"dataframe\">\n",
       "  <thead>\n",
       "    <tr style=\"text-align: right;\">\n",
       "      <th></th>\n",
       "      <th>Specs</th>\n",
       "      <th>Score</th>\n",
       "    </tr>\n",
       "  </thead>\n",
       "  <tbody>\n",
       "    <tr>\n",
       "      <th>5</th>\n",
       "      <td>order_number</td>\n",
       "      <td>868981.026356</td>\n",
       "    </tr>\n",
       "    <tr>\n",
       "      <th>0</th>\n",
       "      <td>product_id</td>\n",
       "      <td>315592.145570</td>\n",
       "    </tr>\n",
       "    <tr>\n",
       "      <th>2</th>\n",
       "      <td>days_since_prior_order</td>\n",
       "      <td>177294.840133</td>\n",
       "    </tr>\n",
       "    <tr>\n",
       "      <th>1</th>\n",
       "      <td>add_to_cart_order</td>\n",
       "      <td>145518.526485</td>\n",
       "    </tr>\n",
       "    <tr>\n",
       "      <th>4</th>\n",
       "      <td>order_hour_of_day</td>\n",
       "      <td>441.781680</td>\n",
       "    </tr>\n",
       "    <tr>\n",
       "      <th>3</th>\n",
       "      <td>order_dow</td>\n",
       "      <td>54.046628</td>\n",
       "    </tr>\n",
       "  </tbody>\n",
       "</table>\n",
       "</div>"
      ],
      "text/plain": [
       "                    Specs          Score\n",
       "5            order_number  868981.026356\n",
       "0              product_id  315592.145570\n",
       "2  days_since_prior_order  177294.840133\n",
       "1       add_to_cart_order  145518.526485\n",
       "4       order_hour_of_day     441.781680\n",
       "3               order_dow      54.046628"
      ]
     },
     "execution_count": 156,
     "metadata": {},
     "output_type": "execute_result"
    }
   ],
   "source": [
    "featurescore.sort_values('Score',ascending=False)"
   ]
  },
  {
   "cell_type": "markdown",
   "metadata": {},
   "source": [
    "### 5.2 Naive_bayes"
   ]
  },
  {
   "cell_type": "code",
   "execution_count": 157,
   "metadata": {},
   "outputs": [],
   "source": [
    "from sklearn.naive_bayes import GaussianNB\n",
    "nvby = GaussianNB()\n",
    "nvby.fit(x_train,y_train)\n",
    "y_pred_nvby=nvby.predict(x_test)"
   ]
  },
  {
   "cell_type": "code",
   "execution_count": 158,
   "metadata": {},
   "outputs": [
    {
     "name": "stdout",
     "output_type": "stream",
     "text": [
      "Accuracy is : 0.6161182370618963\n",
      "F1 Score is : 0.6705716772834143\n",
      "Precision is : 0.6893381430538752\n",
      "Recall is : 0.65279992396963\n",
      "Area under the curve is : 0.6071179413789166\n"
     ]
    }
   ],
   "source": [
    "accuracy_nvby = accuracy_score(y_test,y_pred_nvby)\n",
    "f1_nvby=f1_score(y_test,y_pred_nvby)\n",
    "precision_nvby = precision_score(y_test,y_pred_nvby)\n",
    "recall_nvby = recall_score(y_test,y_pred_nvby)\n",
    "roc_auc_nvby = roc_auc_score(y_test,y_pred_nvby)\n",
    "\n",
    "print('Accuracy is :', accuracy_nvby)\n",
    "print('F1 Score is :', f1_nvby)\n",
    "print('Precision is :',precision_nvby)\n",
    "print('Recall is :',recall_nvby)\n",
    "print('Area under the curve is :', roc_auc_nvby)"
   ]
  },
  {
   "cell_type": "code",
   "execution_count": 159,
   "metadata": {},
   "outputs": [
    {
     "data": {
      "image/png": "[encoded data removed]",
      "text/plain": [
       "<Figure size 432x288 with 1 Axes>"
      ]
     },
     "metadata": {
      "needs_background": "light"
     },
     "output_type": "display_data"
    }
   ],
   "source": [
    "# ROC curve\n",
    "\n",
    "logit_roc_auc = roc_auc_score(y_test, y_pred_nvby)\n",
    "fpr, tpr, thresholds = roc_curve(y_test, nvby.predict_proba(x_test)[:,1])\n",
    "plt.figure()\n",
    "plt.plot(fpr, tpr, label='Gaussian naive bayes (area = %0.2f)' % logit_roc_auc)\n",
    "plt.plot([0, 1], [0, 1],'r--')\n",
    "plt.xlim([0.0, 1.0])\n",
    "plt.ylim([0.0, 1.05])\n",
    "plt.xlabel('False Positive Rate')\n",
    "plt.ylabel('True Positive Rate')\n",
    "plt.title('Receiver operating characteristic')\n",
    "plt.legend(loc=\"lower right\")\n",
    "plt.savefig('Log_ROC')\n",
    "plt.show()"
   ]
  },
  {
   "cell_type": "markdown",
   "metadata": {},
   "source": [
    "# Conclusion for Gaussian naive bayes\n",
    "    Algorithm             Accuracy\tF1\tPrecision\tRecalll\t AUC\n",
    "    Logistic Regression   65%\t    74%\t66%\t        86%\t    60%\n",
    "    Gaussian Naïve Bayes  62%\t    67%\t69%\t        65%\t    61%\n",
    "\n",
    "    The Precision improved, but there is reduction in Accuracy, F1 and Recall"
   ]
  },
  {
   "cell_type": "markdown",
   "metadata": {
    "scrolled": true
   },
   "source": [
    "### 5.3 Decision Tree"
   ]
  },
  {
   "cell_type": "code",
   "execution_count": 160,
   "metadata": {},
   "outputs": [],
   "source": [
    "dt = tree.DecisionTreeClassifier()"
   ]
  },
  {
   "cell_type": "code",
   "execution_count": 161,
   "metadata": {},
   "outputs": [
    {
     "data": {
      "text/plain": [
       "DecisionTreeClassifier()"
      ]
     },
     "execution_count": 161,
     "metadata": {},
     "output_type": "execute_result"
    }
   ],
   "source": [
    "#train the model using traing data\n",
    "dt.fit(x_train,y_train)"
   ]
  },
  {
   "cell_type": "code",
   "execution_count": 162,
   "metadata": {},
   "outputs": [
    {
     "data": {
      "text/plain": [
       "array([1, 0, 1, ..., 0, 0, 1], dtype=int64)"
      ]
     },
     "execution_count": 162,
     "metadata": {},
     "output_type": "execute_result"
    }
   ],
   "source": [
    "\n",
    "y_pred_dt=dt.predict(x_test)\n",
    "y_pred_dt"
   ]
  },
  {
   "cell_type": "code",
   "execution_count": 163,
   "metadata": {},
   "outputs": [
    {
     "name": "stdout",
     "output_type": "stream",
     "text": [
      "Accuracy is : 0.5715834147050551\n",
      "F1 Score is : 0.6388271713474315\n",
      "Precision is : 0.6447184461842898\n",
      "Recall is : 0.6330425875669226\n",
      "Area under the curve is : 0.5565036630682366\n"
     ]
    }
   ],
   "source": [
    "accuracy_dt = accuracy_score(y_test,y_pred_dt)\n",
    "f1_dt=f1_score(y_test,y_pred_dt)\n",
    "precision_dt = precision_score(y_test,y_pred_dt)\n",
    "recall_dt = recall_score(y_test,y_pred_dt)\n",
    "roc_auc_dt = roc_auc_score(y_test,y_pred_dt)\n",
    "\n",
    "print('Accuracy is :', accuracy_dt)\n",
    "print('F1 Score is :', f1_dt)\n",
    "print('Precision is :',precision_dt)\n",
    "print('Recall is :',recall_dt)\n",
    "print('Area under the curve is :', roc_auc_dt)\n"
   ]
  },
  {
   "cell_type": "code",
   "execution_count": 164,
   "metadata": {},
   "outputs": [
    {
     "data": {
      "image/png": "[encoded data removed]",
      "text/plain": [
       "<Figure size 432x288 with 1 Axes>"
      ]
     },
     "metadata": {
      "needs_background": "light"
     },
     "output_type": "display_data"
    }
   ],
   "source": [
    "# ROC curve\n",
    "\n",
    "logit_roc_auc = roc_auc_score(y_test, y_pred_dt)\n",
    "fpr, tpr, thresholds = roc_curve(y_test, dt.predict_proba(x_test)[:,1])\n",
    "plt.figure()\n",
    "plt.plot(fpr, tpr, label='Decision Tree (area = %0.2f)' % logit_roc_auc)\n",
    "plt.plot([0, 1], [0, 1],'r--')\n",
    "plt.xlim([0.0, 1.0])\n",
    "plt.ylim([0.0, 1.05])\n",
    "plt.xlabel('False Positive Rate')\n",
    "plt.ylabel('True Positive Rate')\n",
    "plt.title('Receiver operating characteristic')\n",
    "plt.legend(loc=\"lower right\")\n",
    "plt.savefig('Log_ROC')\n",
    "plt.show()"
   ]
  },
  {
   "cell_type": "markdown",
   "metadata": {},
   "source": [
    "# Conclusion for Decision Trees\n",
    "    Algorithm             Accuracy\tF1\tPrecision\tRecalll\t    AUC\n",
    "    Logistic Regression   65%\t    74%\t  66%\t        86%\t    60%\n",
    "    Gaussian Naïve Bayes  62%\t    67%\t  69%\t        65%\t    61%\n",
    "    Decision Trees        57%        64%      65%            63%        56%\n",
    "\n",
    "    Again, no improvement in Accuracy, F1 and recall. AUC has reduced further. Presion is lesser than Gaussian."
   ]
  },
  {
   "cell_type": "markdown",
   "metadata": {},
   "source": [
    "### 5.4 Random Forest"
   ]
  },
  {
   "cell_type": "code",
   "execution_count": 165,
   "metadata": {},
   "outputs": [],
   "source": [
    "# Build a classifier\n",
    "rf = RandomForestClassifier(n_estimators=100)"
   ]
  },
  {
   "cell_type": "code",
   "execution_count": 166,
   "metadata": {},
   "outputs": [
    {
     "data": {
      "text/plain": [
       "RandomForestClassifier()"
      ]
     },
     "execution_count": 166,
     "metadata": {},
     "output_type": "execute_result"
    }
   ],
   "source": [
    "#train the model using traing data\n",
    "rf.fit(x_train,y_train)"
   ]
  },
  {
   "cell_type": "code",
   "execution_count": 167,
   "metadata": {},
   "outputs": [
    {
     "data": {
      "text/plain": [
       "array([1, 0, 0, ..., 1, 1, 1], dtype=int64)"
      ]
     },
     "execution_count": 167,
     "metadata": {},
     "output_type": "execute_result"
    }
   ],
   "source": [
    "\n",
    "y_pred_rf=rf.predict(x_test)\n",
    "y_pred_rf"
   ]
  },
  {
   "cell_type": "code",
   "execution_count": 168,
   "metadata": {},
   "outputs": [
    {
     "name": "stdout",
     "output_type": "stream",
     "text": [
      "Accuracy is : 0.6309768714706003\n",
      "F1 Score is : 0.709435502131143\n",
      "Precision is : 0.6708737452882131\n",
      "Recall is : 0.7527006620978046\n",
      "Area under the curve is : 0.6011104667424426\n"
     ]
    }
   ],
   "source": [
    "accuracy_rf = accuracy_score(y_test,y_pred_rf)\n",
    "f1_rf=f1_score(y_test,y_pred_rf)\n",
    "precision_rf = precision_score(y_test,y_pred_rf)\n",
    "recall_rf = recall_score(y_test,y_pred_rf)\n",
    "roc_auc_rf = roc_auc_score(y_test,y_pred_rf)\n",
    "\n",
    "print('Accuracy is :', accuracy_rf)\n",
    "print('F1 Score is :', f1_rf)\n",
    "print('Precision is :',precision_rf)\n",
    "print('Recall is :',recall_rf)\n",
    "print('Area under the curve is :', roc_auc_rf)"
   ]
  },
  {
   "cell_type": "code",
   "execution_count": 169,
   "metadata": {},
   "outputs": [
    {
     "data": {
      "image/png": "[encoded data removed]",
      "text/plain": [
       "<Figure size 432x288 with 1 Axes>"
      ]
     },
     "metadata": {
      "needs_background": "light"
     },
     "output_type": "display_data"
    }
   ],
   "source": [
    "# ROC curve\n",
    "\n",
    "logit_roc_auc = roc_auc_score(y_test, y_pred_rf)\n",
    "fpr, tpr, thresholds = roc_curve(y_test, rf.predict_proba(x_test)[:,1])\n",
    "plt.figure()\n",
    "plt.plot(fpr, tpr, label='Random Forest (area = %0.2f)' % logit_roc_auc)\n",
    "plt.plot([0, 1], [0, 1],'r--')\n",
    "plt.xlim([0.0, 1.0])\n",
    "plt.ylim([0.0, 1.05])\n",
    "plt.xlabel('False Positive Rate')\n",
    "plt.ylabel('True Positive Rate')\n",
    "plt.title('Receiver operating characteristic')\n",
    "plt.legend(loc=\"lower right\")\n",
    "plt.savefig('Log_ROC')\n",
    "plt.show()"
   ]
  },
  {
   "cell_type": "markdown",
   "metadata": {},
   "source": [
    "  # Conclusion for Random Forest\n",
    "    \n",
    "    Algorithm             Accuracy\tF1\tPrecision\tRecalll\t    AUC\n",
    "    Logistic Regression   65%\t    74%\t  66%\t        86%\t    60%\n",
    "    Gaussian Naïve Bayes  62%\t    67%\t  69%\t        65%\t    61%\n",
    "    Decision Trees        57%        64%      65%            63%        56%\n",
    "    Random Forest         63%        71%      67%            75%        60%\n",
    "    \n",
    "    Some paramaters are  still less as compared to Logistic"
   ]
  },
  {
   "cell_type": "markdown",
   "metadata": {},
   "source": [
    "### 5.5 AdaBoost"
   ]
  },
  {
   "cell_type": "code",
   "execution_count": 170,
   "metadata": {},
   "outputs": [],
   "source": [
    "adaBoostClf= AdaBoostClassifier(n_estimators=100)"
   ]
  },
  {
   "cell_type": "code",
   "execution_count": 171,
   "metadata": {},
   "outputs": [
    {
     "data": {
      "text/plain": [
       "AdaBoostClassifier(n_estimators=100)"
      ]
     },
     "execution_count": 171,
     "metadata": {},
     "output_type": "execute_result"
    }
   ],
   "source": [
    "adaBoostClf.fit(x_test,y_test)"
   ]
  },
  {
   "cell_type": "code",
   "execution_count": 172,
   "metadata": {},
   "outputs": [
    {
     "data": {
      "text/plain": [
       "array([1, 1, 0, ..., 1, 1, 1], dtype=int64)"
      ]
     },
     "execution_count": 172,
     "metadata": {},
     "output_type": "execute_result"
    }
   ],
   "source": [
    "y_pred_adb=adaBoostClf.predict(x_test)\n",
    "y_pred_adb"
   ]
  },
  {
   "cell_type": "code",
   "execution_count": 173,
   "metadata": {},
   "outputs": [
    {
     "name": "stdout",
     "output_type": "stream",
     "text": [
      "Accuracy is : 0.6613261536614115\n",
      "F1 Score is : 0.7405194308389969\n",
      "Precision is : 0.6838407913035313\n",
      "Recall is : 0.8074425284321904\n",
      "Area under the curve is : 0.6254747332954413\n"
     ]
    }
   ],
   "source": [
    "accuracy_adb = accuracy_score(y_test,y_pred_adb)\n",
    "f1_adb=f1_score(y_test,y_pred_adb)\n",
    "precision_adb = precision_score(y_test,y_pred_adb)\n",
    "recall_adb = recall_score(y_test,y_pred_adb)\n",
    "roc_auc_adb = roc_auc_score(y_test,y_pred_adb)\n",
    "\n",
    "print('Accuracy is :', accuracy_adb)\n",
    "print('F1 Score is :', f1_adb)\n",
    "print('Precision is :',precision_adb)\n",
    "print('Recall is :',recall_adb)\n",
    "print('Area under the curve is :', roc_auc_adb)\n"
   ]
  },
  {
   "cell_type": "code",
   "execution_count": 174,
   "metadata": {},
   "outputs": [
    {
     "data": {
      "image/png": "[encoded data removed]",
      "text/plain": [
       "<Figure size 432x288 with 1 Axes>"
      ]
     },
     "metadata": {
      "needs_background": "light"
     },
     "output_type": "display_data"
    }
   ],
   "source": [
    "# ROC curve\n",
    "\n",
    "logit_roc_auc = roc_auc_score(y_test, y_pred_adb)\n",
    "fpr, tpr, thresholds = roc_curve(y_test, adaBoostClf.predict_proba(x_test)[:,1])\n",
    "plt.figure()\n",
    "plt.plot(fpr, tpr, label='Ada Boost (area = %0.2f)' % logit_roc_auc)\n",
    "plt.plot([0, 1], [0, 1],'r--')\n",
    "plt.xlim([0.0, 1.0])\n",
    "plt.ylim([0.0, 1.05])\n",
    "plt.xlabel('False Positive Rate')\n",
    "plt.ylabel('True Positive Rate')\n",
    "plt.title('Receiver operating characteristic')\n",
    "plt.legend(loc=\"lower right\")\n",
    "plt.savefig('Log_ROC')\n",
    "plt.show()"
   ]
  },
  {
   "cell_type": "markdown",
   "metadata": {},
   "source": [
    "  # Conclusion for Adaboost \n",
    "    \n",
    "    Algorithm             Accuracy\tF1\tPrecision\tRecalll\t    AUC\n",
    "    Logistic Regression   65%\t    74%\t  66%\t        86%\t    60%\n",
    "    Gaussian Naïve Bayes  62%\t    67%\t  69%\t        65%\t    61%\n",
    "    Decision Trees        57%        64%      65%            63%        56%\n",
    "    Random Forest         63%        71%      67%            75%        60%\n",
    "    Adaboost              66%        74%      68%            81%        63%\n",
    "    \n",
    "    \n",
    "    Recall is lesser than  Logistic, but Acc and F1 same and Precision has improved"
   ]
  },
  {
   "cell_type": "markdown",
   "metadata": {},
   "source": [
    "### 5.6 Gradient Boosting"
   ]
  },
  {
   "cell_type": "code",
   "execution_count": 175,
   "metadata": {},
   "outputs": [],
   "source": [
    "GrdBoostclf = GradientBoostingClassifier(n_estimators=100)"
   ]
  },
  {
   "cell_type": "code",
   "execution_count": 176,
   "metadata": {},
   "outputs": [
    {
     "data": {
      "text/plain": [
       "GradientBoostingClassifier()"
      ]
     },
     "execution_count": 176,
     "metadata": {},
     "output_type": "execute_result"
    }
   ],
   "source": [
    "GrdBoostclf.fit(x_train, y_train)"
   ]
  },
  {
   "cell_type": "code",
   "execution_count": 177,
   "metadata": {},
   "outputs": [],
   "source": [
    "y_pred_grdb = GrdBoostclf.predict(x_test)"
   ]
  },
  {
   "cell_type": "code",
   "execution_count": 178,
   "metadata": {},
   "outputs": [
    {
     "name": "stdout",
     "output_type": "stream",
     "text": [
      "Accuracy is : 0.6632601145840246\n",
      "F1 Score is : 0.7430463288715702\n",
      "Precision is : 0.6838281308946301\n",
      "Recall is : 0.8134932787041046\n",
      "Area under the curve is : 0.6263985901434668\n"
     ]
    }
   ],
   "source": [
    "accuracy_grdb = accuracy_score(y_test,y_pred_grdb)\n",
    "f1_grdb=f1_score(y_test,y_pred_grdb)\n",
    "precision_grdb = precision_score(y_test,y_pred_grdb)\n",
    "recall_grdb = recall_score(y_test,y_pred_grdb)\n",
    "roc_auc_grdb = roc_auc_score(y_test,y_pred_grdb)\n",
    "\n",
    "print('Accuracy is :', accuracy_grdb)\n",
    "print('F1 Score is :', f1_grdb)\n",
    "print('Precision is :',precision_grdb)\n",
    "print('Recall is :',recall_grdb)\n",
    "print('Area under the curve is :', roc_auc_grdb)"
   ]
  },
  {
   "cell_type": "code",
   "execution_count": 179,
   "metadata": {},
   "outputs": [
    {
     "data": {
      "image/png": "[encoded data removed]",
      "text/plain": [
       "<Figure size 432x288 with 1 Axes>"
      ]
     },
     "metadata": {
      "needs_background": "light"
     },
     "output_type": "display_data"
    }
   ],
   "source": [
    "# ROC curve\n",
    "\n",
    "logit_roc_auc = roc_auc_score(y_test, y_pred_grdb)\n",
    "fpr, tpr, thresholds = roc_curve(y_test, GrdBoostclf.predict_proba(x_test)[:,1])\n",
    "plt.figure()\n",
    "plt.plot(fpr, tpr, label='Gradient Boosting (area = %0.2f)' % logit_roc_auc)\n",
    "plt.plot([0, 1], [0, 1],'r--')\n",
    "plt.xlim([0.0, 1.0])\n",
    "plt.ylim([0.0, 1.05])\n",
    "plt.xlabel('False Positive Rate')\n",
    "plt.ylabel('True Positive Rate')\n",
    "plt.title('Receiver operating characteristic')\n",
    "plt.legend(loc=\"lower right\")\n",
    "plt.savefig('Log_ROC')\n",
    "plt.show()"
   ]
  },
  {
   "cell_type": "code",
   "execution_count": 180,
   "metadata": {},
   "outputs": [
    {
     "name": "stdout",
     "output_type": "stream",
     "text": [
      "[[ 45800  81251]\n",
      " [ 29865 159533]]\n"
     ]
    }
   ],
   "source": [
    "# display confusion matrix\n",
    "from sklearn.metrics import confusion_matrix\n",
    "confusion_matrix_df = confusion_matrix(y_test, y_pred_lr)\n",
    "print(confusion_matrix_df)"
   ]
  },
  {
   "cell_type": "markdown",
   "metadata": {},
   "source": [
    "  # Conclusion for Gradient \n",
    "    \n",
    "    Algorithm             Accuracy\tF1\tPrecision\tRecalll\t    AUC\n",
    "    Logistic Regression   65%\t    74%\t  66%\t        86%\t    60%\n",
    "    Gaussian Naïve Bayes  62%\t    67%\t  69%\t        65%\t    61%\n",
    "    Decision Trees        57%        64%      65%            63%        56%\n",
    "    Random Forest         63%        71%      67%            75%        60%\n",
    "    Adaboost              66%        74%      68%            81%        63%\n",
    "    Gradient              66%        74%      68%            81%        63%\n",
    "    Improvement in the Precision and Accuracy wrt Logistic"
   ]
  },
  {
   "cell_type": "markdown",
   "metadata": {},
   "source": [
    "### 5.7 Sequential"
   ]
  },
  {
   "cell_type": "code",
   "execution_count": 181,
   "metadata": {},
   "outputs": [],
   "source": [
    "minmax = preprocessing.MinMaxScaler()"
   ]
  },
  {
   "cell_type": "code",
   "execution_count": 182,
   "metadata": {},
   "outputs": [],
   "source": [
    "train_x_scaled = minmax.fit_transform(x_train)\n",
    "test_x_scaled = minmax.fit_transform(x_test)"
   ]
  },
  {
   "cell_type": "code",
   "execution_count": 183,
   "metadata": {},
   "outputs": [],
   "source": [
    "# making the ANN\n",
    "# Initialise the ANN(artificial neural network) classifier\n",
    "seqclf = Sequential()"
   ]
  },
  {
   "cell_type": "code",
   "execution_count": 184,
   "metadata": {},
   "outputs": [
    {
     "data": {
      "text/plain": [
       "6"
      ]
     },
     "execution_count": 184,
     "metadata": {},
     "output_type": "execute_result"
    }
   ],
   "source": [
    "len(x_train.columns)"
   ]
  },
  {
   "cell_type": "code",
   "execution_count": 185,
   "metadata": {},
   "outputs": [],
   "source": [
    "# total input nodes = number of input features\n",
    "inputnode = len(x_train.columns)\n",
    "outputnode = 1 # since there is only 1 Y-variable\n",
    "totalclasses = len(y_train.unique()) # binary classes [0,1]"
   ]
  },
  {
   "cell_type": "code",
   "execution_count": 186,
   "metadata": {},
   "outputs": [
    {
     "name": "stdout",
     "output_type": "stream",
     "text": [
      "4\n"
     ]
    }
   ],
   "source": [
    "# Units: A Positive integer, dimensionality of the output space.    \n",
    "units = np.ceil((inputnode+outputnode)/totalclasses).astype(np.int32)\n",
    "print(units)"
   ]
  },
  {
   "cell_type": "code",
   "execution_count": 187,
   "metadata": {},
   "outputs": [],
   "source": [
    "# input layer and 1st hidden layer\n",
    "# --------------------------------\n",
    "seqclf.add(Dense(units=units, kernel_initializer='uniform', activation='relu',input_dim=inputnode))"
   ]
  },
  {
   "cell_type": "code",
   "execution_count": 188,
   "metadata": {},
   "outputs": [],
   "source": [
    "# 2nd hidden layer\n",
    "# ----------------\n",
    "seqclf.add(Dense(units=units, kernel_initializer='uniform', activation='relu'))"
   ]
  },
  {
   "cell_type": "code",
   "execution_count": 189,
   "metadata": {},
   "outputs": [],
   "source": [
    "# output layer\n",
    "# ------------\n",
    "# units -> number of output nodes (Y-variable)\n",
    "# activation -> 'sigmoid' for binary; 'softmax' for multiclass\n",
    "seqclf.add(Dense(units=outputnode, kernel_initializer='uniform', activation='sigmoid'))\n"
   ]
  },
  {
   "cell_type": "code",
   "execution_count": 190,
   "metadata": {},
   "outputs": [],
   "source": [
    "# compile the ANN\n",
    "# ---------------\n",
    "'''\n",
    "optimizer: method to select the random weights (stochastic gradient descent)\n",
    "\n",
    "loss fn: logarithmic loss function\n",
    "         binary class --> binary_crossentropy\n",
    "         multi class  --> categorical_crossentropy\n",
    "         \n",
    "metrics: Evaluation technique for classification, it is the 'accuracy' metric\n",
    "'''\n",
    "seqclf.compile(optimizer='adam',loss='binary_crossentropy',metrics=['accuracy'])"
   ]
  },
  {
   "cell_type": "code",
   "execution_count": 191,
   "metadata": {},
   "outputs": [
    {
     "name": "stdout",
     "output_type": "stream",
     "text": [
      "Epoch 1/10\n",
      "1068168/1068168 [==============================] - 76s 71us/step - loss: 0.6303 - accuracy: 0.64620s - los\n",
      "Epoch 2/10\n",
      "1068168/1068168 [==============================] - 79s 74us/step - loss: 0.6278 - accuracy: 0.6495\n",
      "Epoch 3/10\n",
      "1068168/1068168 [==============================] - 78s 73us/step - loss: 0.6277 - accuracy: 0.6494\n",
      "Epoch 4/10\n",
      "1068168/1068168 [==============================] - 77s 72us/step - loss: 0.6277 - accuracy: 0.6496\n",
      "Epoch 5/10\n",
      "1068168/1068168 [==============================] - 77s 72us/step - loss: 0.6277 - accuracy: 0.6494\n",
      "Epoch 6/10\n",
      "1068168/1068168 [==============================] - 78s 73us/step - loss: 0.6277 - accuracy: 0.6496\n",
      "Epoch 7/10\n",
      "1068168/1068168 [==============================] - 79s 74us/step - loss: 0.6276 - accuracy: 0.6497\n",
      "Epoch 8/10\n",
      "1068168/1068168 [==============================] - 79s 74us/step - loss: 0.6277 - accuracy: 0.64940s - loss: 0.6277 - accuracy: \n",
      "Epoch 9/10\n",
      "1068168/1068168 [==============================] - 79s 74us/step - loss: 0.6277 - accuracy: 0.6497\n",
      "Epoch 10/10\n",
      "1068168/1068168 [==============================] - 80s 75us/step - loss: 0.6276 - accuracy: 0.6497\n"
     ]
    },
    {
     "data": {
      "text/plain": [
       "<keras.callbacks.callbacks.History at 0x1dadc1da688>"
      ]
     },
     "execution_count": 191,
     "metadata": {},
     "output_type": "execute_result"
    }
   ],
   "source": [
    "# fit the ANN with the train data\n",
    "# -------------------------------\n",
    "'''\n",
    "batch size: number of observations after which weights are updated\n",
    "'''\n",
    "# train with more epochs for better accuracy\n",
    "seqclf.fit(train_x_scaled, y_train, batch_size=10, epochs=10)"
   ]
  },
  {
   "cell_type": "code",
   "execution_count": 192,
   "metadata": {},
   "outputs": [],
   "source": [
    "# predict the test\n",
    "# ----------------\n",
    "pred_y_seq = seqclf.predict(test_x_scaled)\n",
    "# pred_y = (pred_y <= 0.5)\n"
   ]
  },
  {
   "cell_type": "code",
   "execution_count": 193,
   "metadata": {},
   "outputs": [],
   "source": [
    "# get the count of 0 and 1 of the Y-variable\n",
    "total = len(y_test)\n",
    "neg = list(y_test).count(0)\n",
    "pos = list(y_test).count(1)\n"
   ]
  },
  {
   "cell_type": "code",
   "execution_count": 194,
   "metadata": {},
   "outputs": [
    {
     "name": "stdout",
     "output_type": "stream",
     "text": [
      "Proportions: Class 0 = 0.40, Class 1 = 0.60\n"
     ]
    }
   ],
   "source": [
    "print(\"Proportions: Class 0 = {0}, Class 1 = {1}\".format(format(neg/total,'.2f'), format(pos/total,'.2f')))\n"
   ]
  },
  {
   "cell_type": "code",
   "execution_count": 195,
   "metadata": {},
   "outputs": [
    {
     "data": {
      "text/html": [
       "<div>\n",
       "<style scoped>\n",
       "    .dataframe tbody tr th:only-of-type {\n",
       "        vertical-align: middle;\n",
       "    }\n",
       "\n",
       "    .dataframe tbody tr th {\n",
       "        vertical-align: top;\n",
       "    }\n",
       "\n",
       "    .dataframe thead th {\n",
       "        text-align: right;\n",
       "    }\n",
       "</style>\n",
       "<table border=\"1\" class=\"dataframe\">\n",
       "  <thead>\n",
       "    <tr style=\"text-align: right;\">\n",
       "      <th></th>\n",
       "      <th>actual</th>\n",
       "      <th>probs</th>\n",
       "      <th>predicted</th>\n",
       "    </tr>\n",
       "  </thead>\n",
       "  <tbody>\n",
       "    <tr>\n",
       "      <th>0</th>\n",
       "      <td>1</td>\n",
       "      <td>0.666730</td>\n",
       "      <td>0</td>\n",
       "    </tr>\n",
       "    <tr>\n",
       "      <th>1</th>\n",
       "      <td>1</td>\n",
       "      <td>0.638384</td>\n",
       "      <td>0</td>\n",
       "    </tr>\n",
       "    <tr>\n",
       "      <th>2</th>\n",
       "      <td>0</td>\n",
       "      <td>0.612962</td>\n",
       "      <td>0</td>\n",
       "    </tr>\n",
       "    <tr>\n",
       "      <th>3</th>\n",
       "      <td>0</td>\n",
       "      <td>0.591220</td>\n",
       "      <td>0</td>\n",
       "    </tr>\n",
       "    <tr>\n",
       "      <th>4</th>\n",
       "      <td>1</td>\n",
       "      <td>0.564179</td>\n",
       "      <td>0</td>\n",
       "    </tr>\n",
       "    <tr>\n",
       "      <th>5</th>\n",
       "      <td>0</td>\n",
       "      <td>0.534069</td>\n",
       "      <td>0</td>\n",
       "    </tr>\n",
       "    <tr>\n",
       "      <th>6</th>\n",
       "      <td>0</td>\n",
       "      <td>0.512179</td>\n",
       "      <td>0</td>\n",
       "    </tr>\n",
       "    <tr>\n",
       "      <th>7</th>\n",
       "      <td>1</td>\n",
       "      <td>0.492399</td>\n",
       "      <td>0</td>\n",
       "    </tr>\n",
       "    <tr>\n",
       "      <th>8</th>\n",
       "      <td>1</td>\n",
       "      <td>0.687615</td>\n",
       "      <td>0</td>\n",
       "    </tr>\n",
       "    <tr>\n",
       "      <th>9</th>\n",
       "      <td>1</td>\n",
       "      <td>0.665824</td>\n",
       "      <td>0</td>\n",
       "    </tr>\n",
       "    <tr>\n",
       "      <th>10</th>\n",
       "      <td>1</td>\n",
       "      <td>0.638831</td>\n",
       "      <td>0</td>\n",
       "    </tr>\n",
       "    <tr>\n",
       "      <th>11</th>\n",
       "      <td>1</td>\n",
       "      <td>0.612784</td>\n",
       "      <td>0</td>\n",
       "    </tr>\n",
       "    <tr>\n",
       "      <th>12</th>\n",
       "      <td>1</td>\n",
       "      <td>0.586695</td>\n",
       "      <td>0</td>\n",
       "    </tr>\n",
       "    <tr>\n",
       "      <th>13</th>\n",
       "      <td>0</td>\n",
       "      <td>0.560572</td>\n",
       "      <td>0</td>\n",
       "    </tr>\n",
       "    <tr>\n",
       "      <th>14</th>\n",
       "      <td>0</td>\n",
       "      <td>0.537685</td>\n",
       "      <td>0</td>\n",
       "    </tr>\n",
       "    <tr>\n",
       "      <th>15</th>\n",
       "      <td>0</td>\n",
       "      <td>0.508698</td>\n",
       "      <td>0</td>\n",
       "    </tr>\n",
       "    <tr>\n",
       "      <th>16</th>\n",
       "      <td>0</td>\n",
       "      <td>0.506722</td>\n",
       "      <td>0</td>\n",
       "    </tr>\n",
       "    <tr>\n",
       "      <th>17</th>\n",
       "      <td>0</td>\n",
       "      <td>0.508535</td>\n",
       "      <td>0</td>\n",
       "    </tr>\n",
       "    <tr>\n",
       "      <th>18</th>\n",
       "      <td>0</td>\n",
       "      <td>0.483747</td>\n",
       "      <td>0</td>\n",
       "    </tr>\n",
       "    <tr>\n",
       "      <th>19</th>\n",
       "      <td>0</td>\n",
       "      <td>0.492938</td>\n",
       "      <td>0</td>\n",
       "    </tr>\n",
       "  </tbody>\n",
       "</table>\n",
       "</div>"
      ],
      "text/plain": [
       "    actual     probs  predicted\n",
       "0        1  0.666730          0\n",
       "1        1  0.638384          0\n",
       "2        0  0.612962          0\n",
       "3        0  0.591220          0\n",
       "4        1  0.564179          0\n",
       "5        0  0.534069          0\n",
       "6        0  0.512179          0\n",
       "7        1  0.492399          0\n",
       "8        1  0.687615          0\n",
       "9        1  0.665824          0\n",
       "10       1  0.638831          0\n",
       "11       1  0.612784          0\n",
       "12       1  0.586695          0\n",
       "13       0  0.560572          0\n",
       "14       0  0.537685          0\n",
       "15       0  0.508698          0\n",
       "16       0  0.506722          0\n",
       "17       0  0.508535          0\n",
       "18       0  0.483747          0\n",
       "19       0  0.492938          0"
      ]
     },
     "execution_count": 195,
     "metadata": {},
     "output_type": "execute_result"
    }
   ],
   "source": [
    "df_results = pd.DataFrame({'actual':y_test,\n",
    "                          'probs':np.concatenate(pred_y_seq),\n",
    "                          'predicted':0})\n",
    "\n",
    "df_results[0:20]"
   ]
  },
  {
   "cell_type": "code",
   "execution_count": 196,
   "metadata": {},
   "outputs": [
    {
     "name": "stderr",
     "output_type": "stream",
     "text": [
      "C:\\ProgramData\\Anaconda3\\lib\\site-packages\\ipykernel_launcher.py:5: SettingWithCopyWarning: \n",
      "A value is trying to be set on a copy of a slice from a DataFrame\n",
      "\n",
      "See the caveats in the documentation: https://pandas.pydata.org/pandas-docs/stable/user_guide/indexing.html#returning-a-view-versus-a-copy\n",
      "  \"\"\"\n",
      "C:\\ProgramData\\Anaconda3\\lib\\site-packages\\ipykernel_launcher.py:6: SettingWithCopyWarning: \n",
      "A value is trying to be set on a copy of a slice from a DataFrame\n",
      "\n",
      "See the caveats in the documentation: https://pandas.pydata.org/pandas-docs/stable/user_guide/indexing.html#returning-a-view-versus-a-copy\n",
      "  \n",
      "C:\\ProgramData\\Anaconda3\\lib\\site-packages\\ipykernel_launcher.py:5: SettingWithCopyWarning: \n",
      "A value is trying to be set on a copy of a slice from a DataFrame\n",
      "\n",
      "See the caveats in the documentation: https://pandas.pydata.org/pandas-docs/stable/user_guide/indexing.html#returning-a-view-versus-a-copy\n",
      "  \"\"\"\n",
      "C:\\ProgramData\\Anaconda3\\lib\\site-packages\\ipykernel_launcher.py:6: SettingWithCopyWarning: \n",
      "A value is trying to be set on a copy of a slice from a DataFrame\n",
      "\n",
      "See the caveats in the documentation: https://pandas.pydata.org/pandas-docs/stable/user_guide/indexing.html#returning-a-view-versus-a-copy\n",
      "  \n",
      "C:\\ProgramData\\Anaconda3\\lib\\site-packages\\ipykernel_launcher.py:5: SettingWithCopyWarning: \n",
      "A value is trying to be set on a copy of a slice from a DataFrame\n",
      "\n",
      "See the caveats in the documentation: https://pandas.pydata.org/pandas-docs/stable/user_guide/indexing.html#returning-a-view-versus-a-copy\n",
      "  \"\"\"\n",
      "C:\\ProgramData\\Anaconda3\\lib\\site-packages\\ipykernel_launcher.py:6: SettingWithCopyWarning: \n",
      "A value is trying to be set on a copy of a slice from a DataFrame\n",
      "\n",
      "See the caveats in the documentation: https://pandas.pydata.org/pandas-docs/stable/user_guide/indexing.html#returning-a-view-versus-a-copy\n",
      "  \n",
      "C:\\ProgramData\\Anaconda3\\lib\\site-packages\\ipykernel_launcher.py:5: SettingWithCopyWarning: \n",
      "A value is trying to be set on a copy of a slice from a DataFrame\n",
      "\n",
      "See the caveats in the documentation: https://pandas.pydata.org/pandas-docs/stable/user_guide/indexing.html#returning-a-view-versus-a-copy\n",
      "  \"\"\"\n",
      "C:\\ProgramData\\Anaconda3\\lib\\site-packages\\ipykernel_launcher.py:6: SettingWithCopyWarning: \n",
      "A value is trying to be set on a copy of a slice from a DataFrame\n",
      "\n",
      "See the caveats in the documentation: https://pandas.pydata.org/pandas-docs/stable/user_guide/indexing.html#returning-a-view-versus-a-copy\n",
      "  \n",
      "C:\\ProgramData\\Anaconda3\\lib\\site-packages\\ipykernel_launcher.py:5: SettingWithCopyWarning: \n",
      "A value is trying to be set on a copy of a slice from a DataFrame\n",
      "\n",
      "See the caveats in the documentation: https://pandas.pydata.org/pandas-docs/stable/user_guide/indexing.html#returning-a-view-versus-a-copy\n",
      "  \"\"\"\n",
      "C:\\ProgramData\\Anaconda3\\lib\\site-packages\\ipykernel_launcher.py:6: SettingWithCopyWarning: \n",
      "A value is trying to be set on a copy of a slice from a DataFrame\n",
      "\n",
      "See the caveats in the documentation: https://pandas.pydata.org/pandas-docs/stable/user_guide/indexing.html#returning-a-view-versus-a-copy\n",
      "  \n",
      "C:\\ProgramData\\Anaconda3\\lib\\site-packages\\ipykernel_launcher.py:5: SettingWithCopyWarning: \n",
      "A value is trying to be set on a copy of a slice from a DataFrame\n",
      "\n",
      "See the caveats in the documentation: https://pandas.pydata.org/pandas-docs/stable/user_guide/indexing.html#returning-a-view-versus-a-copy\n",
      "  \"\"\"\n",
      "C:\\ProgramData\\Anaconda3\\lib\\site-packages\\ipykernel_launcher.py:6: SettingWithCopyWarning: \n",
      "A value is trying to be set on a copy of a slice from a DataFrame\n",
      "\n",
      "See the caveats in the documentation: https://pandas.pydata.org/pandas-docs/stable/user_guide/indexing.html#returning-a-view-versus-a-copy\n",
      "  \n",
      "C:\\ProgramData\\Anaconda3\\lib\\site-packages\\ipykernel_launcher.py:5: SettingWithCopyWarning: \n",
      "A value is trying to be set on a copy of a slice from a DataFrame\n",
      "\n",
      "See the caveats in the documentation: https://pandas.pydata.org/pandas-docs/stable/user_guide/indexing.html#returning-a-view-versus-a-copy\n",
      "  \"\"\"\n",
      "C:\\ProgramData\\Anaconda3\\lib\\site-packages\\ipykernel_launcher.py:6: SettingWithCopyWarning: \n",
      "A value is trying to be set on a copy of a slice from a DataFrame\n",
      "\n",
      "See the caveats in the documentation: https://pandas.pydata.org/pandas-docs/stable/user_guide/indexing.html#returning-a-view-versus-a-copy\n",
      "  \n",
      "C:\\ProgramData\\Anaconda3\\lib\\site-packages\\ipykernel_launcher.py:5: SettingWithCopyWarning: \n",
      "A value is trying to be set on a copy of a slice from a DataFrame\n",
      "\n",
      "See the caveats in the documentation: https://pandas.pydata.org/pandas-docs/stable/user_guide/indexing.html#returning-a-view-versus-a-copy\n",
      "  \"\"\"\n",
      "C:\\ProgramData\\Anaconda3\\lib\\site-packages\\ipykernel_launcher.py:6: SettingWithCopyWarning: \n",
      "A value is trying to be set on a copy of a slice from a DataFrame\n",
      "\n",
      "See the caveats in the documentation: https://pandas.pydata.org/pandas-docs/stable/user_guide/indexing.html#returning-a-view-versus-a-copy\n",
      "  \n",
      "C:\\ProgramData\\Anaconda3\\lib\\site-packages\\ipykernel_launcher.py:5: SettingWithCopyWarning: \n",
      "A value is trying to be set on a copy of a slice from a DataFrame\n",
      "\n",
      "See the caveats in the documentation: https://pandas.pydata.org/pandas-docs/stable/user_guide/indexing.html#returning-a-view-versus-a-copy\n",
      "  \"\"\"\n",
      "C:\\ProgramData\\Anaconda3\\lib\\site-packages\\ipykernel_launcher.py:6: SettingWithCopyWarning: \n",
      "A value is trying to be set on a copy of a slice from a DataFrame\n",
      "\n",
      "See the caveats in the documentation: https://pandas.pydata.org/pandas-docs/stable/user_guide/indexing.html#returning-a-view-versus-a-copy\n",
      "  \n",
      "C:\\ProgramData\\Anaconda3\\lib\\site-packages\\ipykernel_launcher.py:5: SettingWithCopyWarning: \n",
      "A value is trying to be set on a copy of a slice from a DataFrame\n",
      "\n",
      "See the caveats in the documentation: https://pandas.pydata.org/pandas-docs/stable/user_guide/indexing.html#returning-a-view-versus-a-copy\n",
      "  \"\"\"\n",
      "C:\\ProgramData\\Anaconda3\\lib\\site-packages\\ipykernel_launcher.py:6: SettingWithCopyWarning: \n",
      "A value is trying to be set on a copy of a slice from a DataFrame\n",
      "\n",
      "See the caveats in the documentation: https://pandas.pydata.org/pandas-docs/stable/user_guide/indexing.html#returning-a-view-versus-a-copy\n",
      "  \n",
      "C:\\ProgramData\\Anaconda3\\lib\\site-packages\\ipykernel_launcher.py:5: SettingWithCopyWarning: \n",
      "A value is trying to be set on a copy of a slice from a DataFrame\n",
      "\n",
      "See the caveats in the documentation: https://pandas.pydata.org/pandas-docs/stable/user_guide/indexing.html#returning-a-view-versus-a-copy\n",
      "  \"\"\"\n",
      "C:\\ProgramData\\Anaconda3\\lib\\site-packages\\ipykernel_launcher.py:6: SettingWithCopyWarning: \n",
      "A value is trying to be set on a copy of a slice from a DataFrame\n",
      "\n",
      "See the caveats in the documentation: https://pandas.pydata.org/pandas-docs/stable/user_guide/indexing.html#returning-a-view-versus-a-copy\n",
      "  \n",
      "C:\\ProgramData\\Anaconda3\\lib\\site-packages\\ipykernel_launcher.py:5: SettingWithCopyWarning: \n",
      "A value is trying to be set on a copy of a slice from a DataFrame\n",
      "\n",
      "See the caveats in the documentation: https://pandas.pydata.org/pandas-docs/stable/user_guide/indexing.html#returning-a-view-versus-a-copy\n",
      "  \"\"\"\n",
      "C:\\ProgramData\\Anaconda3\\lib\\site-packages\\ipykernel_launcher.py:6: SettingWithCopyWarning: \n",
      "A value is trying to be set on a copy of a slice from a DataFrame\n",
      "\n",
      "See the caveats in the documentation: https://pandas.pydata.org/pandas-docs/stable/user_guide/indexing.html#returning-a-view-versus-a-copy\n",
      "  \n",
      "C:\\ProgramData\\Anaconda3\\lib\\site-packages\\ipykernel_launcher.py:5: SettingWithCopyWarning: \n",
      "A value is trying to be set on a copy of a slice from a DataFrame\n",
      "\n",
      "See the caveats in the documentation: https://pandas.pydata.org/pandas-docs/stable/user_guide/indexing.html#returning-a-view-versus-a-copy\n",
      "  \"\"\"\n",
      "C:\\ProgramData\\Anaconda3\\lib\\site-packages\\ipykernel_launcher.py:6: SettingWithCopyWarning: \n",
      "A value is trying to be set on a copy of a slice from a DataFrame\n",
      "\n",
      "See the caveats in the documentation: https://pandas.pydata.org/pandas-docs/stable/user_guide/indexing.html#returning-a-view-versus-a-copy\n",
      "  \n",
      "C:\\ProgramData\\Anaconda3\\lib\\site-packages\\ipykernel_launcher.py:5: SettingWithCopyWarning: \n",
      "A value is trying to be set on a copy of a slice from a DataFrame\n",
      "\n",
      "See the caveats in the documentation: https://pandas.pydata.org/pandas-docs/stable/user_guide/indexing.html#returning-a-view-versus-a-copy\n",
      "  \"\"\"\n",
      "C:\\ProgramData\\Anaconda3\\lib\\site-packages\\ipykernel_launcher.py:6: SettingWithCopyWarning: \n",
      "A value is trying to be set on a copy of a slice from a DataFrame\n",
      "\n",
      "See the caveats in the documentation: https://pandas.pydata.org/pandas-docs/stable/user_guide/indexing.html#returning-a-view-versus-a-copy\n",
      "  \n",
      "C:\\ProgramData\\Anaconda3\\lib\\site-packages\\ipykernel_launcher.py:5: SettingWithCopyWarning: \n",
      "A value is trying to be set on a copy of a slice from a DataFrame\n",
      "\n",
      "See the caveats in the documentation: https://pandas.pydata.org/pandas-docs/stable/user_guide/indexing.html#returning-a-view-versus-a-copy\n",
      "  \"\"\"\n",
      "C:\\ProgramData\\Anaconda3\\lib\\site-packages\\ipykernel_launcher.py:6: SettingWithCopyWarning: \n",
      "A value is trying to be set on a copy of a slice from a DataFrame\n",
      "\n",
      "See the caveats in the documentation: https://pandas.pydata.org/pandas-docs/stable/user_guide/indexing.html#returning-a-view-versus-a-copy\n",
      "  \n",
      "C:\\ProgramData\\Anaconda3\\lib\\site-packages\\ipykernel_launcher.py:5: SettingWithCopyWarning: \n",
      "A value is trying to be set on a copy of a slice from a DataFrame\n",
      "\n",
      "See the caveats in the documentation: https://pandas.pydata.org/pandas-docs/stable/user_guide/indexing.html#returning-a-view-versus-a-copy\n",
      "  \"\"\"\n",
      "C:\\ProgramData\\Anaconda3\\lib\\site-packages\\ipykernel_launcher.py:6: SettingWithCopyWarning: \n",
      "A value is trying to be set on a copy of a slice from a DataFrame\n",
      "\n",
      "See the caveats in the documentation: https://pandas.pydata.org/pandas-docs/stable/user_guide/indexing.html#returning-a-view-versus-a-copy\n",
      "  \n",
      "C:\\ProgramData\\Anaconda3\\lib\\site-packages\\ipykernel_launcher.py:5: SettingWithCopyWarning: \n",
      "A value is trying to be set on a copy of a slice from a DataFrame\n",
      "\n",
      "See the caveats in the documentation: https://pandas.pydata.org/pandas-docs/stable/user_guide/indexing.html#returning-a-view-versus-a-copy\n",
      "  \"\"\"\n",
      "C:\\ProgramData\\Anaconda3\\lib\\site-packages\\ipykernel_launcher.py:6: SettingWithCopyWarning: \n",
      "A value is trying to be set on a copy of a slice from a DataFrame\n",
      "\n",
      "See the caveats in the documentation: https://pandas.pydata.org/pandas-docs/stable/user_guide/indexing.html#returning-a-view-versus-a-copy\n",
      "  \n",
      "C:\\ProgramData\\Anaconda3\\lib\\site-packages\\ipykernel_launcher.py:5: SettingWithCopyWarning: \n",
      "A value is trying to be set on a copy of a slice from a DataFrame\n",
      "\n",
      "See the caveats in the documentation: https://pandas.pydata.org/pandas-docs/stable/user_guide/indexing.html#returning-a-view-versus-a-copy\n",
      "  \"\"\"\n",
      "C:\\ProgramData\\Anaconda3\\lib\\site-packages\\ipykernel_launcher.py:6: SettingWithCopyWarning: \n",
      "A value is trying to be set on a copy of a slice from a DataFrame\n",
      "\n",
      "See the caveats in the documentation: https://pandas.pydata.org/pandas-docs/stable/user_guide/indexing.html#returning-a-view-versus-a-copy\n",
      "  \n"
     ]
    },
    {
     "name": "stdout",
     "output_type": "stream",
     "text": [
      "Cutoff=0.1, Class 0=0, Class 1=316449\n",
      "Cutoff=0.14705882352941177, Class 0=0, Class 1=316449\n",
      "Cutoff=0.19411764705882353, Class 0=0, Class 1=316449\n",
      "Cutoff=0.2411764705882353, Class 0=0, Class 1=316449\n",
      "Cutoff=0.28823529411764703, Class 0=0, Class 1=316449\n",
      "Cutoff=0.33529411764705885, Class 0=5270, Class 1=311179\n",
      "Cutoff=0.38235294117647056, Class 0=17539, Class 1=298910\n",
      "Cutoff=0.4294117647058824, Class 0=41347, Class 1=275102\n",
      "Cutoff=0.4764705882352941, Class 0=69944, Class 1=246505\n",
      "Cutoff=0.5235294117647059, Class 0=104985, Class 1=211464\n",
      "Cutoff=0.5705882352941176, Class 0=142719, Class 1=173730\n",
      "Cutoff=0.6176470588235293, Class 0=184417, Class 1=132032\n",
      "Cutoff=0.6647058823529411, Class 0=222458, Class 1=93991\n",
      "Cutoff=0.711764705882353, Class 0=252008, Class 1=64441\n",
      "Cutoff=0.7588235294117647, Class 0=272169, Class 1=44280\n",
      "Cutoff=0.8058823529411764, Class 0=286974, Class 1=29475\n",
      "Cutoff=0.8529411764705882, Class 0=298294, Class 1=18155\n",
      "Cutoff=0.9, Class 0=306555, Class 1=9894\n"
     ]
    },
    {
     "data": {
      "text/plain": [
       "9894"
      ]
     },
     "execution_count": 196,
     "metadata": {},
     "output_type": "execute_result"
    }
   ],
   "source": [
    "# convert the probabilities between 0 and 1\n",
    "range1=np.linspace(0.1,0.9,18)\n",
    "for e in range1:\n",
    "    \n",
    "    df_results.predicted[df_results.probs < e] = 0\n",
    "    df_results.predicted[df_results.probs >= e] = 1\n",
    " \n",
    "    count0=len(df_results.predicted[df_results.predicted==0])\n",
    "    count1=len(df_results.predicted[df_results.predicted==1])\n",
    "    \n",
    "    print(\"Cutoff={}, Class 0={}, Class 1={}\".format(e,count0,count1))\n",
    "\n",
    "\n",
    "\n",
    "len(df_results.predicted[df_results.predicted == 0])\n",
    "len(df_results.predicted[df_results.predicted == 1])\n"
   ]
  },
  {
   "cell_type": "code",
   "execution_count": 197,
   "metadata": {},
   "outputs": [
    {
     "name": "stdout",
     "output_type": "stream",
     "text": [
      "[[125602   1449]\n",
      " [180953   8445]]\n"
     ]
    }
   ],
   "source": [
    "conf_matrix = confusion_matrix(df_results.actual,df_results.predicted)\n",
    "print(conf_matrix)"
   ]
  },
  {
   "cell_type": "code",
   "execution_count": 198,
   "metadata": {},
   "outputs": [
    {
     "name": "stdout",
     "output_type": "stream",
     "text": [
      "              precision    recall  f1-score   support\n",
      "\n",
      "           0       0.41      0.99      0.58    127051\n",
      "           1       0.85      0.04      0.08    189398\n",
      "\n",
      "    accuracy                           0.42    316449\n",
      "   macro avg       0.63      0.52      0.33    316449\n",
      "weighted avg       0.68      0.42      0.28    316449\n",
      "\n"
     ]
    }
   ],
   "source": [
    "from sklearn.metrics import classification_report as cr\n",
    "\n",
    "# classification report\n",
    "print(cr(df_results.actual,df_results.predicted))"
   ]
  },
  {
   "cell_type": "code",
   "execution_count": null,
   "metadata": {},
   "outputs": [],
   "source": []
  }
 ],
 "metadata": {
  "kernelspec": {
   "display_name": "Python 3",
   "language": "python",
   "name": "python3"
  },
  "language_info": {
   "codemirror_mode": {
    "name": "ipython",
    "version": 3
   },
   "file_extension": ".py",
   "mimetype": "text/x-python",
   "name": "python",
   "nbconvert_exporter": "python",
   "pygments_lexer": "ipython3",
   "version": "3.7.3"
  }
 },
 "nbformat": 4,
 "nbformat_minor": 2
}
